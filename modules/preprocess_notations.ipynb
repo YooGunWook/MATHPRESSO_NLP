{
 "cells": [
  {
   "cell_type": "code",
   "execution_count": 1,
   "metadata": {},
   "outputs": [],
   "source": [
    "# import saved modules\n",
    "from modules.KorEDA.eda import EDA\n",
    "from modules.preprocess_for_kobert import preprocess"
   ]
  },
  {
   "cell_type": "code",
   "execution_count": 2,
   "metadata": {},
   "outputs": [],
   "source": [
    "import pandas as pd\n",
    "import numpy as np\n",
    "import re\n",
    "\n",
    "from modules.preprocess_for_kobert import preprocess"
   ]
  },
  {
   "cell_type": "code",
   "execution_count": 3,
   "metadata": {},
   "outputs": [
    {
     "output_type": "execute_result",
     "data": {
      "text/plain": [
       "'1.1.4'"
      ]
     },
     "metadata": {},
     "execution_count": 3
    }
   ],
   "source": [
    "# pandas 설정: 각 column 별 (혹은 한 cell에서) 출력되는 글자수 제한을 없애기\n",
    "pd.set_option('display.max_colwidth', -1)\n",
    "pd.__version__"
   ]
  },
  {
   "cell_type": "markdown",
   "metadata": {},
   "source": [
    "### Bring Dataset"
   ]
  },
  {
   "cell_type": "code",
   "execution_count": 4,
   "metadata": {},
   "outputs": [],
   "source": [
    "DATA_PATH = \"./data\""
   ]
  },
  {
   "cell_type": "code",
   "execution_count": 5,
   "metadata": {},
   "outputs": [
    {
     "output_type": "execute_result",
     "data": {
      "text/plain": [
       "      qplay_question_id  \\\n",
       "4700  9422                \n",
       "5019  25195               \n",
       "\n",
       "                                                                                                                                                           text  \\\n",
       "4700  원종고등학교에서 학생들이 등교할 때 이용하는 교통수단을 조사하였더니 대중교통을 이용하는 학생들이 전체의 `60%`이고, 대중교통을 이용하는 남자학생은 전체의 `20%`이었다. 이 학교의 학생 중에서 임의로 뽑은 한 명이 대중교통을 이용할 때, 그 학생이 남자 학생일 확률은?   \n",
       "5019  문자카드 `H`, `O`, `N`, `G`, `I`, `K` `6`장을 일렬로 나열할 때, 모음이 이웃하는 경우의 수는 `m`가지, 모음이 양 끝에 오는 경우의 수는 `n`가지이다. `m+n`의 값은?                                            \n",
       "\n",
       "            qtid                 name subtitle  question_difficulty  \\\n",
       "4700  HSTA-04-02  조건부확률                NaN      3                     \n",
       "5019  H1S2-07-11  자리에 대한 조건이 있는 순열의 수  NaN      3                     \n",
       "\n",
       "      question_type_difficulty  grade purpose  \n",
       "4700  2.0                       10     open    \n",
       "5019 NaN                        10     open    "
      ],
      "text/html": "<div>\n<style scoped>\n    .dataframe tbody tr th:only-of-type {\n        vertical-align: middle;\n    }\n\n    .dataframe tbody tr th {\n        vertical-align: top;\n    }\n\n    .dataframe thead th {\n        text-align: right;\n    }\n</style>\n<table border=\"1\" class=\"dataframe\">\n  <thead>\n    <tr style=\"text-align: right;\">\n      <th></th>\n      <th>qplay_question_id</th>\n      <th>text</th>\n      <th>qtid</th>\n      <th>name</th>\n      <th>subtitle</th>\n      <th>question_difficulty</th>\n      <th>question_type_difficulty</th>\n      <th>grade</th>\n      <th>purpose</th>\n    </tr>\n  </thead>\n  <tbody>\n    <tr>\n      <th>4700</th>\n      <td>9422</td>\n      <td>원종고등학교에서 학생들이 등교할 때 이용하는 교통수단을 조사하였더니 대중교통을 이용하는 학생들이 전체의 `60%`이고, 대중교통을 이용하는 남자학생은 전체의 `20%`이었다. 이 학교의 학생 중에서 임의로 뽑은 한 명이 대중교통을 이용할 때, 그 학생이 남자 학생일 확률은?</td>\n      <td>HSTA-04-02</td>\n      <td>조건부확률</td>\n      <td>NaN</td>\n      <td>3</td>\n      <td>2.0</td>\n      <td>10</td>\n      <td>open</td>\n    </tr>\n    <tr>\n      <th>5019</th>\n      <td>25195</td>\n      <td>문자카드 `H`, `O`, `N`, `G`, `I`, `K` `6`장을 일렬로 나열할 때, 모음이 이웃하는 경우의 수는 `m`가지, 모음이 양 끝에 오는 경우의 수는 `n`가지이다. `m+n`의 값은?</td>\n      <td>H1S2-07-11</td>\n      <td>자리에 대한 조건이 있는 순열의 수</td>\n      <td>NaN</td>\n      <td>3</td>\n      <td>NaN</td>\n      <td>10</td>\n      <td>open</td>\n    </tr>\n  </tbody>\n</table>\n</div>"
     },
     "metadata": {},
     "execution_count": 5
    }
   ],
   "source": [
    "df_original = pd.read_csv(f\"{DATA_PATH}/몽데이크_Open.csv\", encoding=\"utf-8\")\n",
    "df_original.sample(2)"
   ]
  },
  {
   "cell_type": "code",
   "execution_count": 6,
   "metadata": {},
   "outputs": [
    {
     "output_type": "execute_result",
     "data": {
      "text/plain": [
       "      chapter        qtid  \\\n",
       "3748  HSU1-07  HSU1-07-12   \n",
       "655   HSTA-03  HSTA-03-03   \n",
       "\n",
       "                                                                                                                                                         text  \\\n",
       "3748  한 변의 길이가 `4`인 정삼각형 `ABC`에서 세 선분 `AB`, `BC`, `CA`를 모두 `1:3`으로 내분하는 점을 각각 `D`, `E`, `F`라고 할 때, `triangleDEF`의 넓이를 `alpha`라 하자. `32alpha^2`의 값을 구하시오.<br/>   \n",
       "655   생일이 서로 다른 `5`명이 있다. 이들을 일렬로 세울 때, 두 번째 사람이 자신과 이웃한 두 사람보다 생일이 빠를 확률은?                                                                                     \n",
       "\n",
       "                                                                                     math_field  \\\n",
       "3748  ['4', 'ABC', 'AB', 'BC', 'CA', '1:3', 'D', 'E', 'F', 'triangleDEF', 'alpha', '32alpha^2']   \n",
       "655   ['5']                                                                                       \n",
       "\n",
       "                                                                                                     hangul_field  \\\n",
       "3748  ['변', '길이', '정삼각형', '세', '선분', '모두', '내분하', '점', '각각', '할', '때', '넓', '하자', '값', '구하시오']                      \n",
       "655   ['생일', '서', '다른', '명', '있', '이들', '일렬', '세울', '때', '두', '번째', '사람', '자신', '이웃', '두', '사람', '생일', '빠', '확률']   \n",
       "\n",
       "      tag_field               name subtitle  qplay_question_id  \\\n",
       "3748  ['<br/>']  삼각형의 넓이와 외접원의 반지름  NaN      7541                \n",
       "655   []         순열과 확률             NaN      9773                \n",
       "\n",
       "      question_difficulty  question_type_difficulty  grade purpose  \\\n",
       "3748  3                    3.0                       10     open     \n",
       "655   5                    2.0                       10     open     \n",
       "\n",
       "                  word2vec_pred_chapter  \\\n",
       "3748  ['HSU1-07', 'HSU1-07', 'HSU1-07']   \n",
       "655   ['HSTA-01', 'HSTA-03', 'H1S2-07']   \n",
       "\n",
       "                                          word2vec_pred_name  \\\n",
       "3748  ['삼각형의 넓이와 외접원의 반지름', '삼각형의 넓이', '세변의 길이를 알때 삼각형의 넓이']   \n",
       "655   ['중복순열', '순열과 확률', '대진표 작성하기']                           \n",
       "\n",
       "     tfidf_pred_chapter  \n",
       "3748  HSU1-07            \n",
       "655   HSTA-03            "
      ],
      "text/html": "<div>\n<style scoped>\n    .dataframe tbody tr th:only-of-type {\n        vertical-align: middle;\n    }\n\n    .dataframe tbody tr th {\n        vertical-align: top;\n    }\n\n    .dataframe thead th {\n        text-align: right;\n    }\n</style>\n<table border=\"1\" class=\"dataframe\">\n  <thead>\n    <tr style=\"text-align: right;\">\n      <th></th>\n      <th>chapter</th>\n      <th>qtid</th>\n      <th>text</th>\n      <th>math_field</th>\n      <th>hangul_field</th>\n      <th>tag_field</th>\n      <th>name</th>\n      <th>subtitle</th>\n      <th>qplay_question_id</th>\n      <th>question_difficulty</th>\n      <th>question_type_difficulty</th>\n      <th>grade</th>\n      <th>purpose</th>\n      <th>word2vec_pred_chapter</th>\n      <th>word2vec_pred_name</th>\n      <th>tfidf_pred_chapter</th>\n    </tr>\n  </thead>\n  <tbody>\n    <tr>\n      <th>3748</th>\n      <td>HSU1-07</td>\n      <td>HSU1-07-12</td>\n      <td>한 변의 길이가 `4`인 정삼각형 `ABC`에서 세 선분 `AB`, `BC`, `CA`를 모두 `1:3`으로 내분하는 점을 각각 `D`, `E`, `F`라고 할 때, `triangleDEF`의 넓이를 `alpha`라 하자. `32alpha^2`의 값을 구하시오.&lt;br/&gt;</td>\n      <td>['4', 'ABC', 'AB', 'BC', 'CA', '1:3', 'D', 'E', 'F', 'triangleDEF', 'alpha', '32alpha^2']</td>\n      <td>['변', '길이', '정삼각형', '세', '선분', '모두', '내분하', '점', '각각', '할', '때', '넓', '하자', '값', '구하시오']</td>\n      <td>['&lt;br/&gt;']</td>\n      <td>삼각형의 넓이와 외접원의 반지름</td>\n      <td>NaN</td>\n      <td>7541</td>\n      <td>3</td>\n      <td>3.0</td>\n      <td>10</td>\n      <td>open</td>\n      <td>['HSU1-07', 'HSU1-07', 'HSU1-07']</td>\n      <td>['삼각형의 넓이와 외접원의 반지름', '삼각형의 넓이', '세변의 길이를 알때 삼각형의 넓이']</td>\n      <td>HSU1-07</td>\n    </tr>\n    <tr>\n      <th>655</th>\n      <td>HSTA-03</td>\n      <td>HSTA-03-03</td>\n      <td>생일이 서로 다른 `5`명이 있다. 이들을 일렬로 세울 때, 두 번째 사람이 자신과 이웃한 두 사람보다 생일이 빠를 확률은?</td>\n      <td>['5']</td>\n      <td>['생일', '서', '다른', '명', '있', '이들', '일렬', '세울', '때', '두', '번째', '사람', '자신', '이웃', '두', '사람', '생일', '빠', '확률']</td>\n      <td>[]</td>\n      <td>순열과 확률</td>\n      <td>NaN</td>\n      <td>9773</td>\n      <td>5</td>\n      <td>2.0</td>\n      <td>10</td>\n      <td>open</td>\n      <td>['HSTA-01', 'HSTA-03', 'H1S2-07']</td>\n      <td>['중복순열', '순열과 확률', '대진표 작성하기']</td>\n      <td>HSTA-03</td>\n    </tr>\n  </tbody>\n</table>\n</div>"
     },
     "metadata": {},
     "execution_count": 6
    }
   ],
   "source": [
    "df_train = pd.read_csv(f\"{DATA_PATH}/data_preprocessed.csv\", encoding=\"utf-8\")\n",
    "df_train.sample(2)"
   ]
  },
  {
   "cell_type": "code",
   "execution_count": 7,
   "metadata": {},
   "outputs": [
    {
     "output_type": "execute_result",
     "data": {
      "text/plain": [
       "   qplay_question_id  \\\n",
       "0  3535                \n",
       "1  4537                \n",
       "\n",
       "                                                                                                                  text  \n",
       "0  좌표평면 위의 두 점 `A(1, 2)`, `B(5, -2)`에 대하여 선분 `AB`의 수직이등분선 위에 한 점 `C`가 있다. `bar (AB)=bar (AC)`를 만족시킬 때, 삼각형 `ABC`의 넓이는?  \n",
       "1  `a-b=3`일 때, `a^3-3a^2b+(3b^2-5)a-b^3+5b-10`의 값은?                                                                     "
      ],
      "text/html": "<div>\n<style scoped>\n    .dataframe tbody tr th:only-of-type {\n        vertical-align: middle;\n    }\n\n    .dataframe tbody tr th {\n        vertical-align: top;\n    }\n\n    .dataframe thead th {\n        text-align: right;\n    }\n</style>\n<table border=\"1\" class=\"dataframe\">\n  <thead>\n    <tr style=\"text-align: right;\">\n      <th></th>\n      <th>qplay_question_id</th>\n      <th>text</th>\n    </tr>\n  </thead>\n  <tbody>\n    <tr>\n      <th>0</th>\n      <td>3535</td>\n      <td>좌표평면 위의 두 점 `A(1, 2)`, `B(5, -2)`에 대하여 선분 `AB`의 수직이등분선 위에 한 점 `C`가 있다. `bar (AB)=bar (AC)`를 만족시킬 때, 삼각형 `ABC`의 넓이는?</td>\n    </tr>\n    <tr>\n      <th>1</th>\n      <td>4537</td>\n      <td>`a-b=3`일 때, `a^3-3a^2b+(3b^2-5)a-b^3+5b-10`의 값은?</td>\n    </tr>\n  </tbody>\n</table>\n</div>"
     },
     "metadata": {},
     "execution_count": 7
    }
   ],
   "source": [
    "df_eval = pd.read_csv(f\"{DATA_PATH}/hidden_for_inference.csv\", encoding=\"utf-8\")\n",
    "df_eval.head(2)"
   ]
  },
  {
   "cell_type": "code",
   "execution_count": 8,
   "metadata": {},
   "outputs": [
    {
     "output_type": "execute_result",
     "data": {
      "text/plain": [
       "['▁|']"
      ]
     },
     "metadata": {},
     "execution_count": 8
    }
   ],
   "source": [
    "# Sample tokenizing for notations\n",
    "from kobert_transformers import get_tokenizer\n",
    "tokenizer = get_tokenizer()\n",
    "# tokenizer.tokenize(\"√\")\n",
    "tokenizer.tokenize(\"|\")"
   ]
  },
  {
   "cell_type": "markdown",
   "metadata": {},
   "source": [
    "### P() -> 확률함수()로 바꾸기"
   ]
  },
  {
   "cell_type": "code",
   "execution_count": 9,
   "metadata": {},
   "outputs": [
    {
     "output_type": "execute_result",
     "data": {
      "text/plain": [
       "['P(x, y)']"
      ]
     },
     "metadata": {},
     "execution_count": 9
    }
   ],
   "source": [
    "# regex for P(a,b) type shape\n",
    "text = \"좌표평면 위의 원점에서 출발하는 점 `P(x, y)`는 주사위를 던져 `1`, `2`, `3`, `4`의 눈이 나오면 `x`축의 방향으로 `1`만큼, `5`, `6`의 눈이 나오면 `y`축의 방향으로 `1`만큼 움직인다. 주사위를 `20`번 던질 때, 점 `P`의 `x`좌표를 확률변수 `X`라고 하고 점 `P`의 `y`좌표를 확률변수 `Y`라고 할 때, `E(3X)+V(3Y-5)`를 구하면?\"\n",
    "re.findall('P\\([\\w\\+\\-\\(\\)/]{1,10},\\s?[\\w\\+\\-\\(\\)/]{1,10}\\)',text)"
   ]
  },
  {
   "cell_type": "code",
   "execution_count": 10,
   "metadata": {},
   "outputs": [],
   "source": [
    "def substitute_probability(text):\n",
    "    if \"다항식\" in text:\n",
    "        return text\n",
    "    if \"식을 `\" in text:\n",
    "        return text\n",
    "    if \"방정식\" in text:\n",
    "        return text\n",
    "    if \"점 `\" in text or \"점을 `\" in text:\n",
    "        return text\n",
    "    if (\n",
    "        \"점\" in text\n",
    "        and re.findall(r\"P\\([\\w\\+\\-\\(\\)/]{1,10},\\s?[\\w\\+\\-\\(\\)/]{1,10}\\)\", text) != []\n",
    "    ):\n",
    "\n",
    "        return text\n",
    "    else:\n",
    "        substituted = re.sub(\"P\\(\", \"확률함수(\", text)\n",
    "        return substituted"
   ]
  },
  {
   "cell_type": "code",
   "execution_count": 11,
   "metadata": {},
   "outputs": [
    {
     "output_type": "execute_result",
     "data": {
      "text/plain": [
       "     chapter        qtid  \\\n",
       "267  HSTA-04  HSTA-04-11   \n",
       "577  HSTA-05  HSTA-05-11   \n",
       "\n",
       "                                                                                                                                                                                                                             text  \\\n",
       "267  수직선 위에 점 `P(0)`이 있다. 두 개의 동전을 던져서 모두 앞면이 나오면 점 `P`는 오른쪽으로 `1`만큼 움직이고, 그 외의 경우가 나오면 점 `P`는 왼쪽으로 `1`만큼 움직인다. 동전을 일곱 번 던졌을 때, 점 `P`의 좌표가 `3`일 확률은?                                                                                \n",
       "577  좌표평면 위의 원점에서 출발하는 점 `P(x, y)`는 주사위를 던져 `1`, `2`, `3`, `4`의 눈이 나오면 `x`축의 방향으로 `1`만큼, `5`, `6`의 눈이 나오면 `y`축의 방향으로 `1`만큼 움직인다. 주사위를 `20`번 던질 때, 점 `P`의 `x`좌표를 확률변수 `X`라고 하고 점 `P`의 `y`좌표를 확률변수 `Y`라고 할 때, `E(3X)+V(3Y-5)`를 구하면?   \n",
       "\n",
       "                                                                                                             math_field  \\\n",
       "267  ['P(0)', 'P', '1', 'P', '1', 'P', '3']                                                                               \n",
       "577  ['P(x, y)', '1', '2', '3', '4', 'x', '1', '5', '6', 'y', '1', '20', 'P', 'x', 'X', 'P', 'y', 'Y', 'E(3X)+V(3Y-5)']   \n",
       "\n",
       "                                                                                                                                                                    hangul_field  \\\n",
       "267  ['수직선', '위', '점', '있', '두', '개', '동전', '던져', '모두', '앞면', '나오', '점', '오른쪽', '움직', '그', '외', '경우', '나오', '점', '왼쪽', '움직인', '동전', '일곱', '번', '던졌', '때', '점', '좌표', '일', '확률']    \n",
       "577  ['좌표평', '위', '원점', '출발하', '점', '주사위', '던져', '눈', '나오', '축', '방향', '눈', '나오', '축', '방향', '움직인', '주사위', '번', '던질', '때', '점', '좌표', '확률변수', '점', '좌표', '확률변수', '할', '때', '구하']   \n",
       "\n",
       "    tag_field                    name          subtitle  qplay_question_id  \\\n",
       "267  []        독립시행의 확률의 활용            NaN               9355                \n",
       "577  []        이항분포의 평균, 분산, 표준편차 (2)  이항분포가 주어지지 않은 경우  9283                \n",
       "\n",
       "     question_difficulty  question_type_difficulty  grade purpose  \\\n",
       "267  3                    3.0                       10     open     \n",
       "577  3                    2.0                       10     open     \n",
       "\n",
       "                 word2vec_pred_chapter  \\\n",
       "267  ['HSU1-07', 'H1S2-03', 'HSTA-05']   \n",
       "577  ['H1S1-09', 'H1S1-09', 'H1S1-09']   \n",
       "\n",
       "                                                word2vec_pred_name  \\\n",
       "267  ['코사인법칙의 활용', '산술평균과 기하평균의 관계 (5)', '이항분포의 평균, 분산, 표준편차 (2)']   \n",
       "577  ['선분의 내분점과 외분점', '같은 거리에 있는 점', '선분의 내분점과 외분점의 활용']             \n",
       "\n",
       "    tfidf_pred_chapter  \n",
       "267  HSTA-04            \n",
       "577  HSTA-05            "
      ],
      "text/html": "<div>\n<style scoped>\n    .dataframe tbody tr th:only-of-type {\n        vertical-align: middle;\n    }\n\n    .dataframe tbody tr th {\n        vertical-align: top;\n    }\n\n    .dataframe thead th {\n        text-align: right;\n    }\n</style>\n<table border=\"1\" class=\"dataframe\">\n  <thead>\n    <tr style=\"text-align: right;\">\n      <th></th>\n      <th>chapter</th>\n      <th>qtid</th>\n      <th>text</th>\n      <th>math_field</th>\n      <th>hangul_field</th>\n      <th>tag_field</th>\n      <th>name</th>\n      <th>subtitle</th>\n      <th>qplay_question_id</th>\n      <th>question_difficulty</th>\n      <th>question_type_difficulty</th>\n      <th>grade</th>\n      <th>purpose</th>\n      <th>word2vec_pred_chapter</th>\n      <th>word2vec_pred_name</th>\n      <th>tfidf_pred_chapter</th>\n    </tr>\n  </thead>\n  <tbody>\n    <tr>\n      <th>267</th>\n      <td>HSTA-04</td>\n      <td>HSTA-04-11</td>\n      <td>수직선 위에 점 `P(0)`이 있다. 두 개의 동전을 던져서 모두 앞면이 나오면 점 `P`는 오른쪽으로 `1`만큼 움직이고, 그 외의 경우가 나오면 점 `P`는 왼쪽으로 `1`만큼 움직인다. 동전을 일곱 번 던졌을 때, 점 `P`의 좌표가 `3`일 확률은?</td>\n      <td>['P(0)', 'P', '1', 'P', '1', 'P', '3']</td>\n      <td>['수직선', '위', '점', '있', '두', '개', '동전', '던져', '모두', '앞면', '나오', '점', '오른쪽', '움직', '그', '외', '경우', '나오', '점', '왼쪽', '움직인', '동전', '일곱', '번', '던졌', '때', '점', '좌표', '일', '확률']</td>\n      <td>[]</td>\n      <td>독립시행의 확률의 활용</td>\n      <td>NaN</td>\n      <td>9355</td>\n      <td>3</td>\n      <td>3.0</td>\n      <td>10</td>\n      <td>open</td>\n      <td>['HSU1-07', 'H1S2-03', 'HSTA-05']</td>\n      <td>['코사인법칙의 활용', '산술평균과 기하평균의 관계 (5)', '이항분포의 평균, 분산, 표준편차 (2)']</td>\n      <td>HSTA-04</td>\n    </tr>\n    <tr>\n      <th>577</th>\n      <td>HSTA-05</td>\n      <td>HSTA-05-11</td>\n      <td>좌표평면 위의 원점에서 출발하는 점 `P(x, y)`는 주사위를 던져 `1`, `2`, `3`, `4`의 눈이 나오면 `x`축의 방향으로 `1`만큼, `5`, `6`의 눈이 나오면 `y`축의 방향으로 `1`만큼 움직인다. 주사위를 `20`번 던질 때, 점 `P`의 `x`좌표를 확률변수 `X`라고 하고 점 `P`의 `y`좌표를 확률변수 `Y`라고 할 때, `E(3X)+V(3Y-5)`를 구하면?</td>\n      <td>['P(x, y)', '1', '2', '3', '4', 'x', '1', '5', '6', 'y', '1', '20', 'P', 'x', 'X', 'P', 'y', 'Y', 'E(3X)+V(3Y-5)']</td>\n      <td>['좌표평', '위', '원점', '출발하', '점', '주사위', '던져', '눈', '나오', '축', '방향', '눈', '나오', '축', '방향', '움직인', '주사위', '번', '던질', '때', '점', '좌표', '확률변수', '점', '좌표', '확률변수', '할', '때', '구하']</td>\n      <td>[]</td>\n      <td>이항분포의 평균, 분산, 표준편차 (2)</td>\n      <td>이항분포가 주어지지 않은 경우</td>\n      <td>9283</td>\n      <td>3</td>\n      <td>2.0</td>\n      <td>10</td>\n      <td>open</td>\n      <td>['H1S1-09', 'H1S1-09', 'H1S1-09']</td>\n      <td>['선분의 내분점과 외분점', '같은 거리에 있는 점', '선분의 내분점과 외분점의 활용']</td>\n      <td>HSTA-05</td>\n    </tr>\n  </tbody>\n</table>\n</div>"
     },
     "metadata": {},
     "execution_count": 11
    }
   ],
   "source": [
    "# copy training dataset for preprocessing\n",
    "df_testing = df_train.copy()\n",
    "\n",
    "# apply substitute probability function\n",
    "df_testing[\"text\"] = df_testing[\"text\"].apply(lambda x: substitute_probability(x))\n",
    "\n",
    "# remaining P() that did not go through substitute probability function\n",
    "df_false_positive = df_testing[(df_testing[\"text\"].str.contains(\"P\\(\")) & (df_testing[\"chapter\"].str.startswith(\"HSTA\"))]\n",
    "df_false_positive"
   ]
  },
  {
   "cell_type": "code",
   "execution_count": 12,
   "metadata": {},
   "outputs": [
    {
     "output_type": "execute_result",
     "data": {
      "text/plain": [
       "      chapter  \\\n",
       "3224  H1S2-07   \n",
       "4272  H1S2-07   \n",
       "\n",
       "                                                                                                                                                                                                                                                                                                            text  \n",
       "3224  자연수 `n`을 `k`개의 자연수로 분할하는 방법의 수를 기호 `확률함수(n, k)`로 나타낸다. <보기>에서 옳은 것만을 있는 대로 고른것은?<br/><fieldset><legend><보기></legend>ㄱ. `확률함수(7, 3)=4`<br/>ㄴ. `확률함수(10, 4)=확률함수(6, 1)+확률함수(6, 2)+확률함수(6, 3)+확률함수(6, 4)`<br/>ㄷ. `k_1 < k_2 < n`을 만족시키는 세 자연수 `k_1, k_2, n`에 대하여 `확률함수(n, k_1) <= 확률함수(n, k_2)`이다.</fieldset>  \n",
       "4272  `확률함수(9, 3)`의 값은?                                                                                                                                                                                                                                                                                           "
      ],
      "text/html": "<div>\n<style scoped>\n    .dataframe tbody tr th:only-of-type {\n        vertical-align: middle;\n    }\n\n    .dataframe tbody tr th {\n        vertical-align: top;\n    }\n\n    .dataframe thead th {\n        text-align: right;\n    }\n</style>\n<table border=\"1\" class=\"dataframe\">\n  <thead>\n    <tr style=\"text-align: right;\">\n      <th></th>\n      <th>chapter</th>\n      <th>text</th>\n    </tr>\n  </thead>\n  <tbody>\n    <tr>\n      <th>3224</th>\n      <td>H1S2-07</td>\n      <td>자연수 `n`을 `k`개의 자연수로 분할하는 방법의 수를 기호 `확률함수(n, k)`로 나타낸다. &lt;보기&gt;에서 옳은 것만을 있는 대로 고른것은?&lt;br/&gt;&lt;fieldset&gt;&lt;legend&gt;&lt;보기&gt;&lt;/legend&gt;ㄱ. `확률함수(7, 3)=4`&lt;br/&gt;ㄴ. `확률함수(10, 4)=확률함수(6, 1)+확률함수(6, 2)+확률함수(6, 3)+확률함수(6, 4)`&lt;br/&gt;ㄷ. `k_1 &lt; k_2 &lt; n`을 만족시키는 세 자연수 `k_1, k_2, n`에 대하여 `확률함수(n, k_1) &lt;= 확률함수(n, k_2)`이다.&lt;/fieldset&gt;</td>\n    </tr>\n    <tr>\n      <th>4272</th>\n      <td>H1S2-07</td>\n      <td>`확률함수(9, 3)`의 값은?</td>\n    </tr>\n  </tbody>\n</table>\n</div>"
     },
     "metadata": {},
     "execution_count": 12
    }
   ],
   "source": [
    "# 잘못된 확률함수()의 대체 예시\n",
    "df_true_negative = df_testing[(df_testing[\"text\"].str.contains(\"확률함수\\(\")) & (~df_testing[\"chapter\"].str.startswith(\"HSTA\"))]\n",
    "df_true_negative[[\"chapter\",\"text\"]]"
   ]
  },
  {
   "cell_type": "code",
   "execution_count": 13,
   "metadata": {},
   "outputs": [
    {
     "output_type": "execute_result",
     "data": {
      "text/plain": [
       "180"
      ]
     },
     "metadata": {},
     "execution_count": 13
    }
   ],
   "source": [
    "# P()에서 몇 개나 확률함수()로 대체됐는지\n",
    "df_true_positive = df_testing[(df_testing[\"text\"].str.contains(\"확률함수\\(\")) & (df_testing[\"chapter\"].str.startswith(\"HSTA\"))]\n",
    "len(df_true_positive)"
   ]
  },
  {
   "cell_type": "markdown",
   "metadata": {},
   "source": [
    "### evaluation dataset에서 작동하는 지 확인"
   ]
  },
  {
   "cell_type": "code",
   "execution_count": 14,
   "metadata": {},
   "outputs": [
    {
     "output_type": "execute_result",
     "data": {
      "text/plain": [
       "Empty DataFrame\n",
       "Columns: [qplay_question_id, text]\n",
       "Index: []"
      ],
      "text/html": "<div>\n<style scoped>\n    .dataframe tbody tr th:only-of-type {\n        vertical-align: middle;\n    }\n\n    .dataframe tbody tr th {\n        vertical-align: top;\n    }\n\n    .dataframe thead th {\n        text-align: right;\n    }\n</style>\n<table border=\"1\" class=\"dataframe\">\n  <thead>\n    <tr style=\"text-align: right;\">\n      <th></th>\n      <th>qplay_question_id</th>\n      <th>text</th>\n    </tr>\n  </thead>\n  <tbody>\n  </tbody>\n</table>\n</div>"
     },
     "metadata": {},
     "execution_count": 14
    }
   ],
   "source": [
    "df_testing = df_eval.copy()\n",
    "df_testing = preprocess(df_testing)\n",
    "df_testing[(df_testing[\"text\"].str.contains(\"확률함수 \\(\"))].head()\n"
   ]
  },
  {
   "cell_type": "code",
   "execution_count": 15,
   "metadata": {},
   "outputs": [
    {
     "output_type": "execute_result",
     "data": {
      "text/plain": [
       "Empty DataFrame\n",
       "Columns: [qplay_question_id, text]\n",
       "Index: []"
      ],
      "text/html": "<div>\n<style scoped>\n    .dataframe tbody tr th:only-of-type {\n        vertical-align: middle;\n    }\n\n    .dataframe tbody tr th {\n        vertical-align: top;\n    }\n\n    .dataframe thead th {\n        text-align: right;\n    }\n</style>\n<table border=\"1\" class=\"dataframe\">\n  <thead>\n    <tr style=\"text-align: right;\">\n      <th></th>\n      <th>qplay_question_id</th>\n      <th>text</th>\n    </tr>\n  </thead>\n  <tbody>\n  </tbody>\n</table>\n</div>"
     },
     "metadata": {},
     "execution_count": 15
    }
   ],
   "source": [
    "df_testing[(df_testing[\"text\"].str.contains(\"P \\(\"))]"
   ]
  },
  {
   "cell_type": "markdown",
   "metadata": {},
   "source": [
    "### E() -> 기댓값()으로 바꾸기"
   ]
  },
  {
   "cell_type": "code",
   "execution_count": 16,
   "metadata": {},
   "outputs": [
    {
     "output_type": "stream",
     "name": "stdout",
     "text": [
      "0\n"
     ]
    },
    {
     "output_type": "execute_result",
     "data": {
      "text/plain": [
       "Empty DataFrame\n",
       "Columns: [chapter, qtid, text, math_field, hangul_field, tag_field, name, subtitle, qplay_question_id, question_difficulty, question_type_difficulty, grade, purpose, word2vec_pred_chapter, word2vec_pred_name, tfidf_pred_chapter]\n",
       "Index: []"
      ],
      "text/html": "<div>\n<style scoped>\n    .dataframe tbody tr th:only-of-type {\n        vertical-align: middle;\n    }\n\n    .dataframe tbody tr th {\n        vertical-align: top;\n    }\n\n    .dataframe thead th {\n        text-align: right;\n    }\n</style>\n<table border=\"1\" class=\"dataframe\">\n  <thead>\n    <tr style=\"text-align: right;\">\n      <th></th>\n      <th>chapter</th>\n      <th>qtid</th>\n      <th>text</th>\n      <th>math_field</th>\n      <th>hangul_field</th>\n      <th>tag_field</th>\n      <th>name</th>\n      <th>subtitle</th>\n      <th>qplay_question_id</th>\n      <th>question_difficulty</th>\n      <th>question_type_difficulty</th>\n      <th>grade</th>\n      <th>purpose</th>\n      <th>word2vec_pred_chapter</th>\n      <th>word2vec_pred_name</th>\n      <th>tfidf_pred_chapter</th>\n    </tr>\n  </thead>\n  <tbody>\n  </tbody>\n</table>\n</div>"
     },
     "metadata": {},
     "execution_count": 16
    }
   ],
   "source": [
    "# reset training dataset for preprocessing\n",
    "df_testing = df_train.copy()\n",
    "\n",
    "# 일괄적으로 바꾸기\n",
    "df_testing[\"text\"] = df_testing[\"text\"].apply(lambda x: re.sub(\"E\\(\", \"기댓값(\", x) if not \"기울기\" in x else x)  # 0개 잘못 분류\n",
    "\n",
    "# 잘못된 E()-> 기댓값() 대체 예시\n",
    "df_true_negative = df_testing[(df_testing[\"text\"].str.contains(\"기댓값\\(\")) & (~df_testing[\"chapter\"].str.startswith(\"HSTA\"))]\n",
    "print(len(df_true_negative))\n",
    "df_true_negative"
   ]
  },
  {
   "cell_type": "code",
   "execution_count": 17,
   "metadata": {},
   "outputs": [
    {
     "output_type": "stream",
     "name": "stdout",
     "text": [
      "41\n"
     ]
    },
    {
     "output_type": "execute_result",
     "data": {
      "text/plain": [
       "     chapter        qtid  \\\n",
       "103  HSTA-05  HSTA-05-08   \n",
       "432  HSTA-05  HSTA-05-07   \n",
       "\n",
       "                                                                       text  \\\n",
       "103  한 개의 주사위를 `4`번 던져서 `3`의 배수의 눈이 나오는 횟수를 확률변수 `X`라 할 때, `기댓값(3X-1)`의 값은?   \n",
       "432  확률변수 `X`의 확률분포를 표로 나타내면 다음과 같다.<br/>`기댓값(nX+3)=10`일 때, `V(nX+1)`의 값은?    \n",
       "\n",
       "                         math_field  \\\n",
       "103  ['4', '3', 'X', 'E(3X-1)']       \n",
       "432  ['X', 'E(nX+3)=10', 'V(nX+1)']   \n",
       "\n",
       "                                                              hangul_field  \\\n",
       "103  ['개', '주사위', '번', '던져', '배수', '눈', '나오', '횟수', '확률변수', '할', '때', '값']   \n",
       "432  ['확률변수', '확률분포', '표', '나타내', '다음', '같', '일', '때', '값']                  \n",
       "\n",
       "     tag_field                           name          subtitle  \\\n",
       "103  []         이산확률변수 aX+b의 평균, 분산, 표준편차 (3)  확률분포가 주어지지 않은 경우   \n",
       "432  ['<br/>']  이산확률변수 aX+b의 평균, 분산, 표준편차 (2)  확률분포가 주어진 경우       \n",
       "\n",
       "     qplay_question_id  question_difficulty  question_type_difficulty  grade  \\\n",
       "103  9274               3                    2.0                       10      \n",
       "432  9302               3                    2.0                       10      \n",
       "\n",
       "    purpose              word2vec_pred_chapter  \\\n",
       "103  open    ['HSTA-05', 'HSTA-05', 'HSTA-05']   \n",
       "432  open    ['HSTA-05', 'HSTA-05', 'HSTA-05']   \n",
       "\n",
       "                                                                          word2vec_pred_name  \\\n",
       "103  ['이산확률변수 aX+b의 평균, 분산, 표준편차 (3)', '이산확률변수의 평균, 분산, 표준편차 (2)', '이항분포의 평균, 분산, 표준편차 (2)']   \n",
       "432  ['이산확률변수 aX+b의 평균, 분산, 표준편차 (2)', '이산확률변수의 평균, 분산, 표준편차 (1)', '확률질량함수의 성질 (1)']           \n",
       "\n",
       "    tfidf_pred_chapter  \n",
       "103  HSTA-05            \n",
       "432  HSTA-05            "
      ],
      "text/html": "<div>\n<style scoped>\n    .dataframe tbody tr th:only-of-type {\n        vertical-align: middle;\n    }\n\n    .dataframe tbody tr th {\n        vertical-align: top;\n    }\n\n    .dataframe thead th {\n        text-align: right;\n    }\n</style>\n<table border=\"1\" class=\"dataframe\">\n  <thead>\n    <tr style=\"text-align: right;\">\n      <th></th>\n      <th>chapter</th>\n      <th>qtid</th>\n      <th>text</th>\n      <th>math_field</th>\n      <th>hangul_field</th>\n      <th>tag_field</th>\n      <th>name</th>\n      <th>subtitle</th>\n      <th>qplay_question_id</th>\n      <th>question_difficulty</th>\n      <th>question_type_difficulty</th>\n      <th>grade</th>\n      <th>purpose</th>\n      <th>word2vec_pred_chapter</th>\n      <th>word2vec_pred_name</th>\n      <th>tfidf_pred_chapter</th>\n    </tr>\n  </thead>\n  <tbody>\n    <tr>\n      <th>103</th>\n      <td>HSTA-05</td>\n      <td>HSTA-05-08</td>\n      <td>한 개의 주사위를 `4`번 던져서 `3`의 배수의 눈이 나오는 횟수를 확률변수 `X`라 할 때, `기댓값(3X-1)`의 값은?</td>\n      <td>['4', '3', 'X', 'E(3X-1)']</td>\n      <td>['개', '주사위', '번', '던져', '배수', '눈', '나오', '횟수', '확률변수', '할', '때', '값']</td>\n      <td>[]</td>\n      <td>이산확률변수 aX+b의 평균, 분산, 표준편차 (3)</td>\n      <td>확률분포가 주어지지 않은 경우</td>\n      <td>9274</td>\n      <td>3</td>\n      <td>2.0</td>\n      <td>10</td>\n      <td>open</td>\n      <td>['HSTA-05', 'HSTA-05', 'HSTA-05']</td>\n      <td>['이산확률변수 aX+b의 평균, 분산, 표준편차 (3)', '이산확률변수의 평균, 분산, 표준편차 (2)', '이항분포의 평균, 분산, 표준편차 (2)']</td>\n      <td>HSTA-05</td>\n    </tr>\n    <tr>\n      <th>432</th>\n      <td>HSTA-05</td>\n      <td>HSTA-05-07</td>\n      <td>확률변수 `X`의 확률분포를 표로 나타내면 다음과 같다.&lt;br/&gt;`기댓값(nX+3)=10`일 때, `V(nX+1)`의 값은?</td>\n      <td>['X', 'E(nX+3)=10', 'V(nX+1)']</td>\n      <td>['확률변수', '확률분포', '표', '나타내', '다음', '같', '일', '때', '값']</td>\n      <td>['&lt;br/&gt;']</td>\n      <td>이산확률변수 aX+b의 평균, 분산, 표준편차 (2)</td>\n      <td>확률분포가 주어진 경우</td>\n      <td>9302</td>\n      <td>3</td>\n      <td>2.0</td>\n      <td>10</td>\n      <td>open</td>\n      <td>['HSTA-05', 'HSTA-05', 'HSTA-05']</td>\n      <td>['이산확률변수 aX+b의 평균, 분산, 표준편차 (2)', '이산확률변수의 평균, 분산, 표준편차 (1)', '확률질량함수의 성질 (1)']</td>\n      <td>HSTA-05</td>\n    </tr>\n  </tbody>\n</table>\n</div>"
     },
     "metadata": {},
     "execution_count": 17
    }
   ],
   "source": [
    "# 올바른 E() -> 기댓값() 대체 예시\n",
    "df_true_positive = df_testing[(df_testing[\"text\"].str.contains(\"기댓값\\(\"))]\n",
    "print(len(df_true_positive))\n",
    "df_true_positive.head(2)"
   ]
  },
  {
   "cell_type": "code",
   "execution_count": 18,
   "metadata": {},
   "outputs": [
    {
     "output_type": "stream",
     "name": "stdout",
     "text": [
      "1\n"
     ]
    },
    {
     "output_type": "execute_result",
     "data": {
      "text/plain": [
       "      chapter        qtid  \\\n",
       "1792  H1S1-09  H1S1-09-06   \n",
       "\n",
       "                                                                                                                                                                                                                                                                                                                                                                                                                                                                                                                                                                                    text  \\\n",
       "1792  다음은 임의의 네 점 `A(x_1,y_1)`, `B(x_2,y_2)`, `C(x_3,y_3)`, `D(x_4,y_4)`를 꼭짓점으로 하는 사각형에서 각 변의 중점을 꼭짓점으로 하는 사각형 `EFGH`가 어떤 사각형이 되는지 확인하는 과정이다. 빈칸을 채운 것으로 알맞지 않은 것은?<fieldset><legend></legend>네 변 `bar (AB)`, `bar (BC)`, `bar (CD)`, `bar (DA)`의 중점을 각각 `E`, `F`, `G`, `H`라 두면 네 점 `E`, `F`, `G`, `H`의 좌표는 각각<br/>`E(①)`, `F((x_2+x_3)/2,(y_2+y_3)/2)`, `G((x_3+x_4)/2,(y_3+y_4)/2)`. `H((x_4+x_1)/2,(y_4+y_1)/2)`이다. 이때, `bar (EF)`의 기울기는 ②, `bar (FG)`의 기울기는 ③, `bar (GH)`의 기울기는 ②, `bar (HE)`의 기울기는 ③이다. 따라서 `bar (EF)④bar (GH)`, `bar (FG)④bar (HE)`이므로 사각형 `EFGH`는 ⑤이다.</fieldset>   \n",
       "\n",
       "                                                                                                                                                                                                                                                                                                                                                        math_field  \\\n",
       "1792  ['A(x_1,y_1)', 'B(x_2,y_2)', 'C(x_3,y_3)', 'D(x_4,y_4)', 'EFGH', 'bar (AB)', 'bar (BC)', 'bar (CD)', 'bar (DA)', 'E', 'F', 'G', 'H', 'E', 'F', 'G', 'H', 'E(①)', 'F((x_2+x_3)/2,(y_2+y_3)/2)', 'G((x_3+x_4)/2,(y_3+y_4)/2)', 'H((x_4+x_1)/2,(y_4+y_1)/2)', 'bar (EF)', 'bar (FG)', 'bar (GH)', 'bar (HE)', 'bar (EF)④bar (GH)', 'bar (FG)④bar (HE)', 'EFGH']   \n",
       "\n",
       "                                                                                                                                                                                                                              hangul_field  \\\n",
       "1792  ['다음', '임의', '점', '꼭짓점', '하', '사각형', '각', '변', '중점', '꼭짓점', '하', '사각형', '어떤', '사각형', '되는', '확인하', '과정', '빈칸', '채운', '것', '알맞', '않', '것', '변', '중점', '각각', '두', '점', '좌표', '각각', '이때', '기울기', '기울기', '기울기', '기울기', '따라', '이므', '사각형']   \n",
       "\n",
       "                                                            tag_field  \\\n",
       "1792  ['<fieldset>', '<legend>', '</legend>', '<br/>', '</fieldset>']   \n",
       "\n",
       "                   name subtitle  qplay_question_id  question_difficulty  \\\n",
       "1792  좌표를 이용한 도형의 성질 판단  NaN      4428               3                     \n",
       "\n",
       "      question_type_difficulty  grade purpose  \\\n",
       "1792  2.0                       10     open     \n",
       "\n",
       "                  word2vec_pred_chapter  \\\n",
       "1792  ['H1S1-09', 'H1S1-09', 'HSU1-06']   \n",
       "\n",
       "                                                 word2vec_pred_name  \\\n",
       "1792  ['좌표를 이용한 도형의 성질 판단', '거리의 제곱의 합의 최솟값', '일반각에서 삼각함수 성질 활용하기']   \n",
       "\n",
       "     tfidf_pred_chapter  \n",
       "1792  H1S1-09            "
      ],
      "text/html": "<div>\n<style scoped>\n    .dataframe tbody tr th:only-of-type {\n        vertical-align: middle;\n    }\n\n    .dataframe tbody tr th {\n        vertical-align: top;\n    }\n\n    .dataframe thead th {\n        text-align: right;\n    }\n</style>\n<table border=\"1\" class=\"dataframe\">\n  <thead>\n    <tr style=\"text-align: right;\">\n      <th></th>\n      <th>chapter</th>\n      <th>qtid</th>\n      <th>text</th>\n      <th>math_field</th>\n      <th>hangul_field</th>\n      <th>tag_field</th>\n      <th>name</th>\n      <th>subtitle</th>\n      <th>qplay_question_id</th>\n      <th>question_difficulty</th>\n      <th>question_type_difficulty</th>\n      <th>grade</th>\n      <th>purpose</th>\n      <th>word2vec_pred_chapter</th>\n      <th>word2vec_pred_name</th>\n      <th>tfidf_pred_chapter</th>\n    </tr>\n  </thead>\n  <tbody>\n    <tr>\n      <th>1792</th>\n      <td>H1S1-09</td>\n      <td>H1S1-09-06</td>\n      <td>다음은 임의의 네 점 `A(x_1,y_1)`, `B(x_2,y_2)`, `C(x_3,y_3)`, `D(x_4,y_4)`를 꼭짓점으로 하는 사각형에서 각 변의 중점을 꼭짓점으로 하는 사각형 `EFGH`가 어떤 사각형이 되는지 확인하는 과정이다. 빈칸을 채운 것으로 알맞지 않은 것은?&lt;fieldset&gt;&lt;legend&gt;&lt;/legend&gt;네 변 `bar (AB)`, `bar (BC)`, `bar (CD)`, `bar (DA)`의 중점을 각각 `E`, `F`, `G`, `H`라 두면 네 점 `E`, `F`, `G`, `H`의 좌표는 각각&lt;br/&gt;`E(①)`, `F((x_2+x_3)/2,(y_2+y_3)/2)`, `G((x_3+x_4)/2,(y_3+y_4)/2)`. `H((x_4+x_1)/2,(y_4+y_1)/2)`이다. 이때, `bar (EF)`의 기울기는 ②, `bar (FG)`의 기울기는 ③, `bar (GH)`의 기울기는 ②, `bar (HE)`의 기울기는 ③이다. 따라서 `bar (EF)④bar (GH)`, `bar (FG)④bar (HE)`이므로 사각형 `EFGH`는 ⑤이다.&lt;/fieldset&gt;</td>\n      <td>['A(x_1,y_1)', 'B(x_2,y_2)', 'C(x_3,y_3)', 'D(x_4,y_4)', 'EFGH', 'bar (AB)', 'bar (BC)', 'bar (CD)', 'bar (DA)', 'E', 'F', 'G', 'H', 'E', 'F', 'G', 'H', 'E(①)', 'F((x_2+x_3)/2,(y_2+y_3)/2)', 'G((x_3+x_4)/2,(y_3+y_4)/2)', 'H((x_4+x_1)/2,(y_4+y_1)/2)', 'bar (EF)', 'bar (FG)', 'bar (GH)', 'bar (HE)', 'bar (EF)④bar (GH)', 'bar (FG)④bar (HE)', 'EFGH']</td>\n      <td>['다음', '임의', '점', '꼭짓점', '하', '사각형', '각', '변', '중점', '꼭짓점', '하', '사각형', '어떤', '사각형', '되는', '확인하', '과정', '빈칸', '채운', '것', '알맞', '않', '것', '변', '중점', '각각', '두', '점', '좌표', '각각', '이때', '기울기', '기울기', '기울기', '기울기', '따라', '이므', '사각형']</td>\n      <td>['&lt;fieldset&gt;', '&lt;legend&gt;', '&lt;/legend&gt;', '&lt;br/&gt;', '&lt;/fieldset&gt;']</td>\n      <td>좌표를 이용한 도형의 성질 판단</td>\n      <td>NaN</td>\n      <td>4428</td>\n      <td>3</td>\n      <td>2.0</td>\n      <td>10</td>\n      <td>open</td>\n      <td>['H1S1-09', 'H1S1-09', 'HSU1-06']</td>\n      <td>['좌표를 이용한 도형의 성질 판단', '거리의 제곱의 합의 최솟값', '일반각에서 삼각함수 성질 활용하기']</td>\n      <td>H1S1-09</td>\n    </tr>\n  </tbody>\n</table>\n</div>"
     },
     "metadata": {},
     "execution_count": 18
    }
   ],
   "source": [
    "# 아직 안 바뀐 E() 들\n",
    "df_true_negatives = df_testing[(df_testing[\"text\"].str.contains(\"E\\(\"))]\n",
    "print(len(df_true_negatives))\n",
    "df_true_negatives.head(2)"
   ]
  },
  {
   "cell_type": "markdown",
   "metadata": {},
   "source": [
    "## Evaluation Dataset에서도 올바르게 작동하는지 확인"
   ]
  },
  {
   "cell_type": "code",
   "execution_count": 19,
   "metadata": {},
   "outputs": [
    {
     "output_type": "stream",
     "name": "stdout",
     "text": [
      "5\n"
     ]
    },
    {
     "output_type": "execute_result",
     "data": {
      "text/plain": [
       "      qplay_question_id  \\\n",
       "165   9261                \n",
       "169   9300                \n",
       "951   9168                \n",
       "963   9368                \n",
       "1259  9288                \n",
       "\n",
       "                                                                                                                                                                             text  \n",
       "165   한 개의 주사위를 `40`번 던질 때, 소수의 눈이 나오는 횟수를 확률변수 `X`라 하자. `E(3X-1)`의 값은?                                                                                                            \n",
       "169   다음 그림과 같이 한 모서리의 길이가 `1`인 정육면체에서 세 꼭짓점을 택하여 삼각형을 만들려고 한다. 만들어지는 삼각형의 넓이의 `2`배를 확률변수 `X`라고 할 때, `E(7X-sqrt3)`을 구하면?                                                           \n",
       "951   어느 모집단의 확률변수 `X`의 확률질량함수가 `P(X=r)={::}_90C_r(1/3)^r(2/3)^(90-r)` `(r=0, 1, 2, cdots, 90)`이고, 이 모집단에서 크기가 `5`인 표본을 임의추출하여 구한 표본평균을 `bar(X)`라 할 때, `E(bar(X))+V(bar(X))`의 값은?  \n",
       "963   확률변수 `X`의 확률분포를 표로 나타내면 다음과 같다.<br/>`(E(X))/a`의 값은? (단, `a`는 상수이다.)                                                                                                          \n",
       "1259  확률변수 `X`의 확률질량함수가 `P(X=x)={::}_100C_x7^x/2^300 (x=0, 1, 2, cdots, 100)`일 때, `E(8X+100)`의 값을 구하시오.                                                                            "
      ],
      "text/html": "<div>\n<style scoped>\n    .dataframe tbody tr th:only-of-type {\n        vertical-align: middle;\n    }\n\n    .dataframe tbody tr th {\n        vertical-align: top;\n    }\n\n    .dataframe thead th {\n        text-align: right;\n    }\n</style>\n<table border=\"1\" class=\"dataframe\">\n  <thead>\n    <tr style=\"text-align: right;\">\n      <th></th>\n      <th>qplay_question_id</th>\n      <th>text</th>\n    </tr>\n  </thead>\n  <tbody>\n    <tr>\n      <th>165</th>\n      <td>9261</td>\n      <td>한 개의 주사위를 `40`번 던질 때, 소수의 눈이 나오는 횟수를 확률변수 `X`라 하자. `E(3X-1)`의 값은?</td>\n    </tr>\n    <tr>\n      <th>169</th>\n      <td>9300</td>\n      <td>다음 그림과 같이 한 모서리의 길이가 `1`인 정육면체에서 세 꼭짓점을 택하여 삼각형을 만들려고 한다. 만들어지는 삼각형의 넓이의 `2`배를 확률변수 `X`라고 할 때, `E(7X-sqrt3)`을 구하면?</td>\n    </tr>\n    <tr>\n      <th>951</th>\n      <td>9168</td>\n      <td>어느 모집단의 확률변수 `X`의 확률질량함수가 `P(X=r)={::}_90C_r(1/3)^r(2/3)^(90-r)` `(r=0, 1, 2, cdots, 90)`이고, 이 모집단에서 크기가 `5`인 표본을 임의추출하여 구한 표본평균을 `bar(X)`라 할 때, `E(bar(X))+V(bar(X))`의 값은?</td>\n    </tr>\n    <tr>\n      <th>963</th>\n      <td>9368</td>\n      <td>확률변수 `X`의 확률분포를 표로 나타내면 다음과 같다.&lt;br/&gt;`(E(X))/a`의 값은? (단, `a`는 상수이다.)</td>\n    </tr>\n    <tr>\n      <th>1259</th>\n      <td>9288</td>\n      <td>확률변수 `X`의 확률질량함수가 `P(X=x)={::}_100C_x7^x/2^300 (x=0, 1, 2, cdots, 100)`일 때, `E(8X+100)`의 값을 구하시오.</td>\n    </tr>\n  </tbody>\n</table>\n</div>"
     },
     "metadata": {},
     "execution_count": 19
    }
   ],
   "source": [
    "df_testing = df_eval.copy()\n",
    "\n",
    "df_E = df_testing[(df_testing[\"text\"].str.contains(\"E\\(\"))]\n",
    "print(len(df_E))\n",
    "df_E"
   ]
  },
  {
   "cell_type": "code",
   "execution_count": 20,
   "metadata": {},
   "outputs": [
    {
     "output_type": "stream",
     "name": "stdout",
     "text": [
      "5\n"
     ]
    },
    {
     "output_type": "execute_result",
     "data": {
      "text/plain": [
       "      qplay_question_id  \\\n",
       "165   9261                \n",
       "169   9300                \n",
       "951   9168                \n",
       "963   9368                \n",
       "1259  9288                \n",
       "\n",
       "                                                                                                                                                                               text  \n",
       "165   한 개의 주사위를 `40`번 던질 때, 소수의 눈이 나오는 횟수를 확률변수 `X`라 하자. `기댓값(3X-1)`의 값은?                                                                                                            \n",
       "169   다음 그림과 같이 한 모서리의 길이가 `1`인 정육면체에서 세 꼭짓점을 택하여 삼각형을 만들려고 한다. 만들어지는 삼각형의 넓이의 `2`배를 확률변수 `X`라고 할 때, `기댓값(7X-sqrt3)`을 구하면?                                                           \n",
       "951   어느 모집단의 확률변수 `X`의 확률질량함수가 `P(X=r)={::}_90C_r(1/3)^r(2/3)^(90-r)` `(r=0, 1, 2, cdots, 90)`이고, 이 모집단에서 크기가 `5`인 표본을 임의추출하여 구한 표본평균을 `bar(X)`라 할 때, `기댓값(bar(X))+V(bar(X))`의 값은?  \n",
       "963   확률변수 `X`의 확률분포를 표로 나타내면 다음과 같다.<br/>`(기댓값(X))/a`의 값은? (단, `a`는 상수이다.)                                                                                                          \n",
       "1259  확률변수 `X`의 확률질량함수가 `P(X=x)={::}_100C_x7^x/2^300 (x=0, 1, 2, cdots, 100)`일 때, `기댓값(8X+100)`의 값을 구하시오.                                                                            "
      ],
      "text/html": "<div>\n<style scoped>\n    .dataframe tbody tr th:only-of-type {\n        vertical-align: middle;\n    }\n\n    .dataframe tbody tr th {\n        vertical-align: top;\n    }\n\n    .dataframe thead th {\n        text-align: right;\n    }\n</style>\n<table border=\"1\" class=\"dataframe\">\n  <thead>\n    <tr style=\"text-align: right;\">\n      <th></th>\n      <th>qplay_question_id</th>\n      <th>text</th>\n    </tr>\n  </thead>\n  <tbody>\n    <tr>\n      <th>165</th>\n      <td>9261</td>\n      <td>한 개의 주사위를 `40`번 던질 때, 소수의 눈이 나오는 횟수를 확률변수 `X`라 하자. `기댓값(3X-1)`의 값은?</td>\n    </tr>\n    <tr>\n      <th>169</th>\n      <td>9300</td>\n      <td>다음 그림과 같이 한 모서리의 길이가 `1`인 정육면체에서 세 꼭짓점을 택하여 삼각형을 만들려고 한다. 만들어지는 삼각형의 넓이의 `2`배를 확률변수 `X`라고 할 때, `기댓값(7X-sqrt3)`을 구하면?</td>\n    </tr>\n    <tr>\n      <th>951</th>\n      <td>9168</td>\n      <td>어느 모집단의 확률변수 `X`의 확률질량함수가 `P(X=r)={::}_90C_r(1/3)^r(2/3)^(90-r)` `(r=0, 1, 2, cdots, 90)`이고, 이 모집단에서 크기가 `5`인 표본을 임의추출하여 구한 표본평균을 `bar(X)`라 할 때, `기댓값(bar(X))+V(bar(X))`의 값은?</td>\n    </tr>\n    <tr>\n      <th>963</th>\n      <td>9368</td>\n      <td>확률변수 `X`의 확률분포를 표로 나타내면 다음과 같다.&lt;br/&gt;`(기댓값(X))/a`의 값은? (단, `a`는 상수이다.)</td>\n    </tr>\n    <tr>\n      <th>1259</th>\n      <td>9288</td>\n      <td>확률변수 `X`의 확률질량함수가 `P(X=x)={::}_100C_x7^x/2^300 (x=0, 1, 2, cdots, 100)`일 때, `기댓값(8X+100)`의 값을 구하시오.</td>\n    </tr>\n  </tbody>\n</table>\n</div>"
     },
     "metadata": {},
     "execution_count": 20
    }
   ],
   "source": [
    "df_testing = df_eval.copy()\n",
    "df_testing[\"text\"] = df_testing[\"text\"].apply(lambda x: re.sub(\"E\\(\", \"기댓값(\", x) if not \"기울기\" in x else x)  # 0개 잘못 분류\n",
    "\n",
    "df_expectation = df_testing[(df_testing[\"text\"].str.contains(\"기댓값\\(\"))]\n",
    "print(len(df_expectation))\n",
    "df_expectation"
   ]
  },
  {
   "cell_type": "markdown",
   "metadata": {},
   "source": [
    "### 집합의 조건제시법 |, 조건부확률의 |, 절대값 || 다르게 처리"
   ]
  },
  {
   "cell_type": "code",
   "execution_count": 21,
   "metadata": {},
   "outputs": [],
   "source": [
    "def preprocess_pipe(input_text: str) -> dict:\n",
    "    list_fucked_up = []\n",
    "    list_jiphap = []\n",
    "    list_conditional = []\n",
    "    list_absolute = []\n",
    "\n",
    "    list_math_matched = re.findall(r\"(?<=`).*?(?=`)\", input_text)\n",
    "    list_math = [\n",
    "        math for math in list_math_matched if list_math_matched.index(math) % 2 == 0\n",
    "    ]\n",
    "    for item in list_math:\n",
    "        if \"|\" in item and \"{\" in item:\n",
    "            # print(item, \"집합\")\n",
    "            list_jiphap.append(item)\n",
    "        elif \"|\" in item and \"(\" in item and \")\" in item:\n",
    "            # print(\"conditional\")\n",
    "            list_conditional.append(item)\n",
    "        elif item.count(\"|\") >= 2:\n",
    "            list_absolute.append(item)\n",
    "            # print(item, \"absolute_value\")\n",
    "    if len(list_jiphap)*len(list_conditional)*len(list_absolute) !=0:\n",
    "        return \"FUCKED\"\n",
    "    if len(list_jiphap+list_conditional+list_absolute) ==0:\n",
    "        return np.NaN\n",
    "    else: \n",
    "        dict_return = {\"집합\": list_jiphap, \"조건부\":list_conditional, \"절댓값\": list_absolute}\n",
    "        return dict_return\n"
   ]
  },
  {
   "cell_type": "code",
   "execution_count": 22,
   "metadata": {},
   "outputs": [
    {
     "output_type": "execute_result",
     "data": {
      "text/plain": [
       "{'집합': [], '조건부': [], '절댓값': ['|a+b|=|a|+|b|']}"
      ]
     },
     "metadata": {},
     "execution_count": 22
    }
   ],
   "source": [
    "sample_text3 = \"a, b, n, `|a+b|=|a|+|b|`, ab >= 0, a^2+b^2=0, ab=0, ab=0, a=0, b=0, n^2, 3, n, 3\"                                                       \n",
    "preprocess_pipe(sample_text3)"
   ]
  },
  {
   "cell_type": "code",
   "execution_count": 23,
   "metadata": {},
   "outputs": [
    {
     "output_type": "execute_result",
     "data": {
      "text/plain": [
       "'a, b, n, `테스트|a+b테스트|=테스트|a테스트|+테스트|b테스트|`, ab >= 0, a^2+b^2=0, ab=0, ab=0, a=0, b=0, n^2, 3, n, 3'"
      ]
     },
     "metadata": {},
     "execution_count": 23
    }
   ],
   "source": [
    "re.sub(\"\\|\",\"테스트|\",sample_text3)"
   ]
  },
  {
   "cell_type": "code",
   "execution_count": 24,
   "metadata": {},
   "outputs": [],
   "source": [
    "df_train[\"pipes\"] = df_train[\"text\"].apply(lambda x: preprocess_pipe(x))"
   ]
  },
  {
   "cell_type": "code",
   "execution_count": 25,
   "metadata": {},
   "outputs": [],
   "source": [
    "# 집합, 조건부, 절댓값이 겹치는 경우가 없음.\n",
    "# df_fucked = df_train[df_train[\"pipes\"].str.match(\"FUCKED\")]"
   ]
  },
  {
   "cell_type": "code",
   "execution_count": 26,
   "metadata": {},
   "outputs": [
    {
     "output_type": "execute_result",
     "data": {
      "text/plain": [
       "   \n",
       "24557              ['f(x)={(-sqrt(-(x+1))-2, (x < -1)),(2/x, (-1 <= x < 1, x!=0)), (sqrt(x-1)+2, (x >= 1)):}', 'g(x)=|x-1|+x+1']                          \n",
       "22305              ['y=-2x', 'y=|2x-1|', 'y=2x^2-1', 'y=3x+1']                                                                                            \n",
       "8819               ['y=ma^-x+n (a > 0, a!=1)', 'y=log_(a)(m-x)^-n', 'y=3', 'm', 'n', '{x|x > -2}', '(-3, 0)']                                             \n",
       "9447               ['A', 'B', 'P(A) = 1/4', 'P(B) = 1/2', 'P(B|A) = 1/3', 'P(B^C|A^C)']                                                                   \n",
       "7018               ['y=|sinx|+1']                                                                                                                         \n",
       "3489               ['|1/3x+9|+7(k-2)+8 <= 0', 'k']                                                                                                        \n",
       "4392               ['a', 'b', 'sqrta/sqrtb', 'sqrt(a/b)', 'sqrt(a^2)+sqrt(b^2)+sqrt((b-a)^2)-|b|', 'ab!=0']                                               \n",
       "24765              ['X = {1, 2, 3, 4, 5}', 'Y = {x|x', '13', '}', 'X', 'Y', 'f', 'f', 'i in X', 'j in X', 'i < j', 'f(i) < f(j)', 'f(3) = 7']             \n",
       "15411              ['U={x|x', '10', '}', 'A={x|x', '}', 'B={x|x', '}', '(A-B)^C']                                                                         \n",
       "7220               ['1/2 <= x <= 5/2', 'sinpix-|sinpix|=-1']                                                                                              \n",
       "4136               ['x', '|x^2+(a^2-2a)x-3|=1', '0', 'a']                                                                                                 \n",
       "9537               ['A={x|x', '12', '}']                                                                                                                  \n",
       "19401              ['U={x|x', '100', '}', 'k', 'A_k', 'n(A_2nn(A_5uuA_4))']                                                                               \n",
       "\n",
       "                                                                                                                                                                                                                                                        hangul_field  \\\n",
       "qplay_question_id                                                                                                                                                                                                                                                      \n",
       "24332              ['함수', '대', '설명', '중', '옳', '것', '정의역', '치역', '그래프', '제', '사분면', '지난', '함수', '그래프', '축', '대하', '대칭']                                                                                                                                                \n",
       "25160              ['집합', '대하', '로', '함수', '그래프', '아', '그림', '같', '때', '방정식', '실근', '개수']                                                                                                                                                                              \n",
       "25301              ['집합', '로', '함수', '일대일', '대응일', '때', '보기', '옳', '것', '모두', '고르', '단', '상수', '보기', '이', '이']                                                                                                                                                         \n",
       "9138               ['어느', '공장', '생산되', '제품', '개', '무게', '평균', '표준편차', '정규분포', '따른다', '한', '공장', '생산된', '제품', '중', '개', '임의추출하', '그', '무게', '측정하였더', '평균', '이었', '공장', '생산되', '제품', '무게', '모평균', '대하', '신뢰', '신뢰구간', '구하여', '단', '표준정규분포', '따르', '확률변수일', '때', '계산한']   \n",
       "9433               ['두', '사건', '대하', '일', '때', '값']                                                                                                                                                                                                                    \n",
       "3496               ['대', '부등식', '해', '모든', '실수', '되도록', '하', '자연수', '최댓값']                                                                                                                                                                                             \n",
       "25085              ['집합', '정의된', '두', '함수', '그래프', '그림', '같', '때', '방정식', '만족하', '서', '다른', '실근', '개수']                                                                                                                                                                \n",
       "24557              ['두', '함수', '그래프', '교점', '개수']                                                                                                                                                                                                                      \n",
       "22305              ['다음', '보기', '함수', '중', '일대일대응', '것', '있', '고르시오', '보기']                                                                                                                                                                                            \n",
       "8819               ['지수함수', '그래프', '그림', '같', '때', '로그함수', '그래프', '관', '설명', '옳', '것', '보기', '있', '고른', '것', '단', '직선', '점근선', '상수', '보기', '정의역', '그래프', '점', '지난', '정의역', '임의', '구간', '감소하', '함수']                                                                    \n",
       "9447               ['두', '사건', '대하', '일', '때', '구하여']                                                                                                                                                                                                                  \n",
       "7018               ['다음', '중', '대', '설명', '옳', '않', '것']                                                                                                                                                                                                               \n",
       "3489               ['부등식', '해', '존재하도록', '하', '정수', '최댓값']                                                                                                                                                                                                             \n",
       "4392               ['두', '실수', '만족시킬', '때', '간단히', '하', '단']                                                                                                                                                                                                           \n",
       "24765              ['두', '집합', '이하', '홀수', '자연수', '대하', '로', '함수', '다음', '조건', '모두', '만족시킬', '때', '함수', '개수', '일', '때', '이']                                                                                                                                           \n",
       "15411              ['전체집합', '이하', '자연수', '두', '부분집합', '짝수', '소수', '대하', '모든', '원소', '합']                                                                                                                                                                               \n",
       "7220               ['일', '때', '모든', '근', '합', '구하시오']                                                                                                                                                                                                                  \n",
       "4136               ['대', '방정식', '모든', '근', '합', '일', '때', '상수', '값']                                                                                                                                                                                                   \n",
       "9537               ['집합', '이하', '자연수', '부분집합', '중', '원소', '개수', '홀수', '것', '개수']                                                                                                                                                                                       \n",
       "19401              ['이하', '자연수', '부분집합', '중', '자연수', '배수', '집합', '나타낼', '때', '값', '구하']                                                                                                                                                                                \n",
       "\n",
       "                                                                                                           tag_field  \\\n",
       "qplay_question_id                                                                                                      \n",
       "24332              ['<br/>', '<fieldset>', '<br/>', '<br/>', '<br/>', '</fieldset>']                                   \n",
       "25160              []                                                                                                  \n",
       "25301              ['<br/>', '<보기>', '<fieldset>', '<legend>', '<보기>', '</legend>', '<br/>', '<br/>', '</fieldset>']   \n",
       "9138               []                                                                                                  \n",
       "9433               []                                                                                                  \n",
       "3496               []                                                                                                  \n",
       "25085              []                                                                                                  \n",
       "24557              ['< 1, x!=0)), (sqrt(x-1)+2, (x >', '<br/>']                                                        \n",
       "22305              ['<br/>', '<fieldset>', '<legend>', '</legend>', '<br/>', '<br/>', '<br/>', '</fieldset>']          \n",
       "8819               ['<보기>', '<fieldset>', '<legend>', '<보기>', '</legend>', '<br/>', '<br/>', '</fieldset>']            \n",
       "9447               []                                                                                                  \n",
       "7018               []                                                                                                  \n",
       "3489               []                                                                                                  \n",
       "4392               ['<br/>']                                                                                           \n",
       "24765              ['<br/>', '<br/>', '<br/>', '<fieldset>', '<br/>', '</fieldset>']                                   \n",
       "15411              []                                                                                                  \n",
       "7220               []                                                                                                  \n",
       "4136               []                                                                                                  \n",
       "9537               []                                                                                                  \n",
       "19401              []                                                                                                  \n",
       "\n",
       "                                           name       subtitle  \\\n",
       "qplay_question_id                                                \n",
       "24332              무리함수의 그래프의 성질                 NaN             \n",
       "25160              함수의 그래프와 합성함수                 NaN             \n",
       "25301              일대일대응 찾기                      NaN             \n",
       "9138               모평균의 추정 (1)                   모표준편차가 주어진 경우   \n",
       "9433               조건부확률의 계산                     NaN             \n",
       "3496               특수한 해를 갖는 일차부등식               NaN             \n",
       "25085              함수의 그래프와 합성함수                 NaN             \n",
       "24557              유리함수와 무리함수의 그래프               NaN             \n",
       "22305              일대일대응 찾기                      NaN             \n",
       "8819               로그함수의 그래프의 평행이동과 대칭이동         NaN             \n",
       "9447               조건부확률의 계산                     NaN             \n",
       "7018               절댓값 기호가 포함된 삼각함수              NaN             \n",
       "3489               특수한 해를 갖는 일차부등식               NaN             \n",
       "4392               음수의 제곱근                       NaN             \n",
       "24765              조건을 만족시키는 함수의 개수              NaN             \n",
       "15411              여집합과 차집합                      NaN             \n",
       "7220               삼각방정식 (4)                     그래프의 대칭성 이용하기   \n",
       "4136               이차방정식이 절댓값 또는 가우스 기호를 포함한 경우  NaN             \n",
       "9537               이항계수의 성질                      NaN             \n",
       "19401              배수와 약수의 집합의 연산                NaN             \n",
       "\n",
       "                   question_difficulty  question_type_difficulty  grade  \\\n",
       "qplay_question_id                                                         \n",
       "24332              2                   NaN                        10      \n",
       "25160              4                   NaN                        10      \n",
       "25301              4                   NaN                        10      \n",
       "9138               3                    3.0                       10      \n",
       "9433               3                    2.0                       10      \n",
       "3496               3                    2.0                       10      \n",
       "25085              3                   NaN                        10      \n",
       "24557              4                   NaN                        10      \n",
       "22305              3                   NaN                        10      \n",
       "8819               3                    1.0                       10      \n",
       "9447               3                    2.0                       10      \n",
       "7018               2                    2.0                       10      \n",
       "3489               3                    2.0                       10      \n",
       "4392               4                    2.0                       10      \n",
       "24765              3                   NaN                        10      \n",
       "15411              3                   NaN                        10      \n",
       "7220               3                    3.0                       10      \n",
       "4136               4                    2.0                       10      \n",
       "9537               3                    3.0                       10      \n",
       "19401              3                   NaN                        10      \n",
       "\n",
       "                  purpose              word2vec_pred_chapter  \\\n",
       "qplay_question_id                                              \n",
       "24332              open    ['HSU1-03', 'H1S2-06', 'H1S2-05']   \n",
       "25160              open    ['H1S2-04', 'H1S2-04', 'H1S2-04']   \n",
       "25301              open    ['H1S2-04', 'H1S2-04', 'H1S2-04']   \n",
       "9138               open    ['HSTA-07', 'HSTA-07', 'HSTA-07']   \n",
       "9433               open    ['HSTA-04', 'HSTA-04', 'HSTA-03']   \n",
       "3496               open    ['H1S1-08', 'H1S1-08', 'H1S1-08']   \n",
       "25085              open    ['H1S2-04', 'H1S2-04', 'H1S2-04']   \n",
       "24557              open    ['H1S2-04', 'H1S2-04', 'H1S1-08']   \n",
       "22305              open    ['H1S2-03', 'H1S2-05', 'HSU1-06']   \n",
       "8819               open    ['HSU1-04', 'HSU1-03', 'H1S2-06']   \n",
       "9447               open    ['HSTA-04', 'HSTA-03', 'HSTA-04']   \n",
       "7018               open    ['H1S2-03', 'H1S2-03', 'H1S1-03']   \n",
       "3489               open    ['H1S1-08', 'H1S1-08', 'HSU1-03']   \n",
       "4392               open    ['H1S1-04', 'H1S1-03', 'H1S2-05']   \n",
       "24765              open    ['H1S2-04', 'H1S2-07', 'HSTA-02']   \n",
       "15411              open    ['H1S2-02', 'H1S2-02', 'H1S2-02']   \n",
       "7220               open    ['HSU1-06', 'HSU1-06', 'HSU1-06']   \n",
       "4136               open    ['H1S1-07', 'H1S1-05', 'H1S1-08']   \n",
       "9537               open    ['H1S2-01', 'H1S2-01', 'H1S2-01']   \n",
       "19401              open    ['H1S2-02', 'H1S2-02', 'H1S2-07']   \n",
       "\n",
       "                                                                         word2vec_pred_name  \\\n",
       "qplay_question_id                                                                             \n",
       "24332              ['지수함수의 성질과 그래프', '무리함수의 그래프의 성질', '유리함수의 그래프의 성질']                        \n",
       "25160              ['함수의 그래프와 합성함수', 'f∘g=g∘f인 경우', '역함수가 존재하기 위한 조건']                        \n",
       "25301              ['함수의 정의역, 공역, 치역', '역함수가 존재하기 위한 조건', '일대일대응이 되도록 하는 미지수 구하기']            \n",
       "9138               ['모평균의 추정 (2)', '신뢰구간의 길이 (1)', '모평균의 추정 (3)']                             \n",
       "9433               ['조건부확률의 계산', '독립사건의 확률', '확률의 덧셈정리와 여사건의 확률']                             \n",
       "3496               ['특수한 해를 갖는 일차부등식', '절댓값 또는 가우스 기호가 포함된 이차부등식', '절댓값 기호가 포함된 일차부등식']       \n",
       "25085              ['함수의 그래프와 합성함수', '절댓값 기호를 포함한 함수', '역함수가 존재하기 위한 조건']                     \n",
       "24557              ['역함수 구하기', '함수의 값', '연립일차부등식']                                            \n",
       "22305              ['명제의 참과 거짓', '유리함수의 그래프의 성질', '삼각함수 그래프의 평행이동과 대칭이동']                     \n",
       "8819               ['로그함수의 그래프의 평행이동과 대칭이동', '지수함수의 성질과 그래프', '무리함수의 그래프의 성질']                \n",
       "9447               ['조건부확률의 계산', '확률의 덧셈정리와 여사건의 확률', '독립사건의 확률']                             \n",
       "7018               ['명제와 역, 대우의 참, 거짓', '명제의 참과 거짓', '인수분해의 기본']                              \n",
       "3489               ['특수한 해를 갖는 일차부등식', '해를 갖거나 갖지 않는 연립일차부등식', '지수부등식을 항상 성립하게 만드는 조건 구하기']   \n",
       "4392               ['음수의 제곱근', '순환꼴의 인수분해', '유리식의 값 (2)']                                     \n",
       "24765              ['조건을 만족시키는 함수의 개수', '함수의 개수', '중복조합의 활용 (3)']                             \n",
       "15411              ['여집합과 차집합', '서로소인 집합', '집합의 연산을 이용한 미지수 구하기']                             \n",
       "7220               ['삼각방정식 (1)', '삼각방정식 (2)', '삼각부등식 (2)']                                    \n",
       "4136               ['공통근을 가지는 방정식', '이차방정식의 근이 주어진 경우', '두 이차방정식의 근의 판별']                     \n",
       "9537               ['유한집합, 무한집합, 공집합', '부분집합 또는 부분집합의 개수 구하기', '집합과 원소 및 부분집합 사이의 관계']        \n",
       "19401              ['배수와 약수의 집합의 연산', '합집합과 교집합', '순열기호 P와 조합기호 C의 계산']                       \n",
       "\n",
       "                  tfidf_pred_chapter  \\\n",
       "qplay_question_id                      \n",
       "24332              H1S2-06             \n",
       "25160              H1S2-04             \n",
       "25301              H1S2-04             \n",
       "9138               HSTA-07             \n",
       "9433               HSTA-04             \n",
       "3496               H1S1-08             \n",
       "25085              H1S2-04             \n",
       "24557              H1S2-06             \n",
       "22305              H1S2-04             \n",
       "8819               HSU1-04             \n",
       "9447               HSTA-04             \n",
       "7018               HSU1-06             \n",
       "3489               H1S1-08             \n",
       "4392               H1S2-06             \n",
       "24765              H1S2-04             \n",
       "15411              H1S2-02             \n",
       "7220               HSU1-06             \n",
       "4136               H1S1-05             \n",
       "9537               H1S1-01             \n",
       "19401              H1S2-02             \n",
       "\n",
       "                                                                                     pipes  \n",
       "qplay_question_id                                                                           \n",
       "24332              {'집합': ['{x | x >= 0}', '{y | y >= 0}'], '조건부': [], '절댓값': []}           \n",
       "25160              {'집합': ['X={x|0 <= x <= 2}'], '조건부': [], '절댓값': []}                      \n",
       "25301              {'집합': ['X={x|0<=x<=3}'], '조건부': [], '절댓값': []}                          \n",
       "9138               {'집합': [], '조건부': ['P(|Z| <= 1.96)=0.95'], '절댓값': []}                    \n",
       "9433               {'집합': [], '조건부': ['P(B|A) = 1/2', 'P(A|B)'], '절댓값': []}                 \n",
       "3496               {'집합': [], '조건부': [], '절댓값': ['|8x-5|+7 > a']}                           \n",
       "25085              {'집합': ['X = {x|0 <= x <= 2}'], '조건부': [], '절댓값': []}                    \n",
       "24557              {'집합': [], '조건부': ['g(x)=|x-1|+x+1'], '절댓값': []}                         \n",
       "22305              {'집합': [], '조건부': [], '절댓값': ['y=|2x-1|']}                               \n",
       "8819               {'집합': ['{x|x > -2}'], '조건부': [], '절댓값': []}                             \n",
       "9447               {'집합': [], '조건부': ['P(B|A) = 1/3', 'P(B^C|A^C)'], '절댓값': []}             \n",
       "7018               {'집합': [], '조건부': [], '절댓값': ['y=|sinx|+1']}                             \n",
       "3489               {'집합': [], '조건부': ['|1/3x+9|+7(k-2)+8 <= 0'], '절댓값': []}                 \n",
       "4392               {'집합': [], '조건부': ['sqrt(a^2)+sqrt(b^2)+sqrt((b-a)^2)-|b|'], '절댓값': []}  \n",
       "24765              {'집합': ['Y = {x|x'], '조건부': [], '절댓값': []}                               \n",
       "15411              {'집합': ['U={x|x', 'A={x|x', 'B={x|x'], '조건부': [], '절댓값': []}             \n",
       "7220               {'집합': [], '조건부': [], '절댓값': ['sinpix-|sinpix|=-1']}                     \n",
       "4136               {'집합': [], '조건부': ['|x^2+(a^2-2a)x-3|=1'], '절댓값': []}                    \n",
       "9537               {'집합': ['A={x|x'], '조건부': [], '절댓값': []}                                 \n",
       "19401              {'집합': ['U={x|x'], '조건부': [], '절댓값': []}                                 "
      ],
      "text/html": "<div>\n<style scoped>\n    .dataframe tbody tr th:only-of-type {\n        vertical-align: middle;\n    }\n\n    .dataframe tbody tr th {\n        vertical-align: top;\n    }\n\n    .dataframe thead th {\n        text-align: right;\n    }\n</style>\n<table border=\"1\" class=\"dataframe\">\n  <thead>\n    <tr style=\"text-align: right;\">\n      <th></th>\n      <th>chapter</th>\n      <th>qtid</th>\n      <th>text</th>\n      <th>math_field</th>\n      <th>hangul_field</th>\n      <th>tag_field</th>\n      <th>name</th>\n      <th>subtitle</th>\n      <th>question_difficulty</th>\n      <th>question_type_difficulty</th>\n      <th>grade</th>\n      <th>purpose</th>\n      <th>word2vec_pred_chapter</th>\n      <th>word2vec_pred_name</th>\n      <th>tfidf_pred_chapter</th>\n      <th>pipes</th>\n    </tr>\n    <tr>\n      <th>qplay_question_id</th>\n      <th></th>\n      <th></th>\n      <th></th>\n      <th></th>\n      <th></th>\n      <th></th>\n      <th></th>\n      <th></th>\n      <th></th>\n      <th></th>\n      <th></th>\n      <th></th>\n      <th></th>\n      <th></th>\n      <th></th>\n      <th></th>\n    </tr>\n  </thead>\n  <tbody>\n    <tr>\n      <th>24332</th>\n      <td>H1S2-06</td>\n      <td>H1S2-06-10</td>\n      <td>함수 `y = sqrt(ax) (a != 0)`에 대한 설명 중 옳은 것은?&lt;br/&gt;&lt;fieldset&gt;ㄱ) 정의역은 `{x | x &gt;= 0}`이다.&lt;br/&gt;ㄴ) 치역은 `{y | y &gt;= 0}`이다.&lt;br/&gt;ㄷ) 그래프는 제`1`사분면을 지난다.&lt;br/&gt;ㄹ) 함수 `y = -sqrt(ax) (a!= 0)`의 그래프와 `x`축에 대하여 대칭이다.&lt;/fieldset&gt;</td>\n      <td>['y = sqrt(ax) (a != 0)', '{x | x &gt;= 0}', '{y | y &gt;= 0}', '1', 'y = -sqrt(ax) (a!= 0)', 'x']</td>\n      <td>['함수', '대', '설명', '중', '옳', '것', '정의역', '치역', '그래프', '제', '사분면', '지난', '함수', '그래프', '축', '대하', '대칭']</td>\n      <td>['&lt;br/&gt;', '&lt;fieldset&gt;', '&lt;br/&gt;', '&lt;br/&gt;', '&lt;br/&gt;', '&lt;/fieldset&gt;']</td>\n      <td>무리함수의 그래프의 성질</td>\n      <td>NaN</td>\n      <td>2</td>\n      <td>NaN</td>\n      <td>10</td>\n      <td>open</td>\n      <td>['HSU1-03', 'H1S2-06', 'H1S2-05']</td>\n      <td>['지수함수의 성질과 그래프', '무리함수의 그래프의 성질', '유리함수의 그래프의 성질']</td>\n      <td>H1S2-06</td>\n      <td>{'집합': ['{x | x &gt;= 0}', '{y | y &gt;= 0}'], '조건부': [], '절댓값': []}</td>\n    </tr>\n    <tr>\n      <th>25160</th>\n      <td>H1S2-04</td>\n      <td>H1S2-04-15</td>\n      <td>집합 `X={x|0 &lt;= x &lt;= 2}`에 대하여 `X`에서 `X`로의 함수 `y=f(x)`의 그래프가 아래 그림과 같을 때, 방정식 `(f@f@f)(x)=f(x)`의 실근의 개수는?</td>\n      <td>['X={x|0 &lt;= x &lt;= 2}', 'X', 'X', 'y=f(x)', '(f@f@f)(x)=f(x)']</td>\n      <td>['집합', '대하', '로', '함수', '그래프', '아', '그림', '같', '때', '방정식', '실근', '개수']</td>\n      <td>[]</td>\n      <td>함수의 그래프와 합성함수</td>\n      <td>NaN</td>\n      <td>4</td>\n      <td>NaN</td>\n      <td>10</td>\n      <td>open</td>\n      <td>['H1S2-04', 'H1S2-04', 'H1S2-04']</td>\n      <td>['함수의 그래프와 합성함수', 'f∘g=g∘f인 경우', '역함수가 존재하기 위한 조건']</td>\n      <td>H1S2-04</td>\n      <td>{'집합': ['X={x|0 &lt;= x &lt;= 2}'], '조건부': [], '절댓값': []}</td>\n    </tr>\n    <tr>\n      <th>25301</th>\n      <td>H1S2-04</td>\n      <td>H1S2-04-06</td>\n      <td>집합 `X={x|0&lt;=x&lt;=3}`에서 `X`로의 함수&lt;br/&gt;`f(x)={(ax, (0&lt;=x&lt;1)),(bx+c, (1&lt;=x&lt;=3)):}`이 일대일 대응일 때, &lt;보기&gt;에서 옳은 것만을 모두 고르면? (단, `a`, `b`, `c`는 상수)&lt;fieldset&gt;&lt;legend&gt;&lt;보기&gt;&lt;/legend&gt;ㄱ. `0 &lt; a &lt;3`&lt;br/&gt;ㄴ. `ab &gt;0`이면 `a+2b=3`&lt;br/&gt;ㄷ. `ab &lt; 0`이면 `a+2c=9`&lt;/fieldset&gt;</td>\n      <td>['X={x|0&lt;=x&lt;=3}', 'X', 'f(x)={(ax, (0&lt;=x&lt;1)),(bx+c, (1&lt;=x&lt;=3)):}', 'a', 'b', 'c', '0 &lt; a &lt;3', 'ab &gt;0', 'a+2b=3', 'ab &lt; 0', 'a+2c=9']</td>\n      <td>['집합', '로', '함수', '일대일', '대응일', '때', '보기', '옳', '것', '모두', '고르', '단', '상수', '보기', '이', '이']</td>\n      <td>['&lt;br/&gt;', '&lt;보기&gt;', '&lt;fieldset&gt;', '&lt;legend&gt;', '&lt;보기&gt;', '&lt;/legend&gt;', '&lt;br/&gt;', '&lt;br/&gt;', '&lt;/fieldset&gt;']</td>\n      <td>일대일대응 찾기</td>\n      <td>NaN</td>\n      <td>4</td>\n      <td>NaN</td>\n      <td>10</td>\n      <td>open</td>\n      <td>['H1S2-04', 'H1S2-04', 'H1S2-04']</td>\n      <td>['함수의 정의역, 공역, 치역', '역함수가 존재하기 위한 조건', '일대일대응이 되도록 하는 미지수 구하기']</td>\n      <td>H1S2-04</td>\n      <td>{'집합': ['X={x|0&lt;=x&lt;=3}'], '조건부': [], '절댓값': []}</td>\n    </tr>\n    <tr>\n      <th>9138</th>\n      <td>HSTA-07</td>\n      <td>HSTA-07-07</td>\n      <td>어느 공장에서 생산되는 제품 한 개의 무게는 평균 `m``g`, 표준편차 `10g`인 정규분포를 따른다고 한다. 이 공장에서 생산된 제품 중 `400`개를 임의추출하여 그 무게를 측정하였더니 평균이 `80g`이었다. 이 공장에서 생산되는 제품의 무게의 모평균 `m`에 대하여 신뢰도 `95%`인 신뢰구간을 구하여라. (단, `Z`가 표준정규분포를 따르는 확률변수일 때, `P(|Z| &lt;= 1.96)=0.95`로 계산한다.)</td>\n      <td>['m', '`g', '10g', '400', '80g', 'm', '95%', 'Z', 'P(|Z| &lt;= 1.96)=0.95']</td>\n      <td>['어느', '공장', '생산되', '제품', '개', '무게', '평균', '표준편차', '정규분포', '따른다', '한', '공장', '생산된', '제품', '중', '개', '임의추출하', '그', '무게', '측정하였더', '평균', '이었', '공장', '생산되', '제품', '무게', '모평균', '대하', '신뢰', '신뢰구간', '구하여', '단', '표준정규분포', '따르', '확률변수일', '때', '계산한']</td>\n      <td>[]</td>\n      <td>모평균의 추정 (1)</td>\n      <td>모표준편차가 주어진 경우</td>\n      <td>3</td>\n      <td>3.0</td>\n      <td>10</td>\n      <td>open</td>\n      <td>['HSTA-07', 'HSTA-07', 'HSTA-07']</td>\n      <td>['모평균의 추정 (2)', '신뢰구간의 길이 (1)', '모평균의 추정 (3)']</td>\n      <td>HSTA-07</td>\n      <td>{'집합': [], '조건부': ['P(|Z| &lt;= 1.96)=0.95'], '절댓값': []}</td>\n    </tr>\n    <tr>\n      <th>9433</th>\n      <td>HSTA-04</td>\n      <td>HSTA-04-01</td>\n      <td>두 사건 `A`, `B`에 대하여 `P(A^C) = 3/5`, `P(A^C nn B^C) = 1/5`, `P(B|A) = 1/2`일 때, `P(A|B)`의 값은?</td>\n      <td>['A', 'B', 'P(A^C) = 3/5', 'P(A^C nn B^C) = 1/5', 'P(B|A) = 1/2', 'P(A|B)']</td>\n      <td>['두', '사건', '대하', '일', '때', '값']</td>\n      <td>[]</td>\n      <td>조건부확률의 계산</td>\n      <td>NaN</td>\n      <td>3</td>\n      <td>2.0</td>\n      <td>10</td>\n      <td>open</td>\n      <td>['HSTA-04', 'HSTA-04', 'HSTA-03']</td>\n      <td>['조건부확률의 계산', '독립사건의 확률', '확률의 덧셈정리와 여사건의 확률']</td>\n      <td>HSTA-04</td>\n      <td>{'집합': [], '조건부': ['P(B|A) = 1/2', 'P(A|B)'], '절댓값': []}</td>\n    </tr>\n    <tr>\n      <th>3496</th>\n      <td>H1S1-08</td>\n      <td>H1S1-08-09</td>\n      <td>`x`에 대한 부등식 `|8x-5|+7 &gt; a`의 해가 모든 실수가 되도록 하는 자연수 `a`의 최댓값은?</td>\n      <td>['x', '|8x-5|+7 &gt; a', 'a']</td>\n      <td>['대', '부등식', '해', '모든', '실수', '되도록', '하', '자연수', '최댓값']</td>\n      <td>[]</td>\n      <td>특수한 해를 갖는 일차부등식</td>\n      <td>NaN</td>\n      <td>3</td>\n      <td>2.0</td>\n      <td>10</td>\n      <td>open</td>\n      <td>['H1S1-08', 'H1S1-08', 'H1S1-08']</td>\n      <td>['특수한 해를 갖는 일차부등식', '절댓값 또는 가우스 기호가 포함된 이차부등식', '절댓값 기호가 포함된 일차부등식']</td>\n      <td>H1S1-08</td>\n      <td>{'집합': [], '조건부': [], '절댓값': ['|8x-5|+7 &gt; a']}</td>\n    </tr>\n    <tr>\n      <th>25085</th>\n      <td>H1S2-04</td>\n      <td>H1S2-04-15</td>\n      <td>집합 `X = {x|0 &lt;= x &lt;= 2}`에서 정의된 두 함수 `y = f(x)`와 `y = g(x)`의 그래프가 그림과 같을 때, `0 &lt;= x &lt;= 2`에서 방정식 `f(g(x)) = x`를 만족하는 서로 다른 실근의 개수는?</td>\n      <td>['X = {x|0 &lt;= x &lt;= 2}', 'y = f(x)', 'y = g(x)', '0 &lt;= x &lt;= 2', 'f(g(x)) = x']</td>\n      <td>['집합', '정의된', '두', '함수', '그래프', '그림', '같', '때', '방정식', '만족하', '서', '다른', '실근', '개수']</td>\n      <td>[]</td>\n      <td>함수의 그래프와 합성함수</td>\n      <td>NaN</td>\n      <td>3</td>\n      <td>NaN</td>\n      <td>10</td>\n      <td>open</td>\n      <td>['H1S2-04', 'H1S2-04', 'H1S2-04']</td>\n      <td>['함수의 그래프와 합성함수', '절댓값 기호를 포함한 함수', '역함수가 존재하기 위한 조건']</td>\n      <td>H1S2-04</td>\n      <td>{'집합': ['X = {x|0 &lt;= x &lt;= 2}'], '조건부': [], '절댓값': []}</td>\n    </tr>\n    <tr>\n      <th>24557</th>\n      <td>H1S2-06</td>\n      <td>H1S2-06-15</td>\n      <td>두 함수 `f(x)={(-sqrt(-(x+1))-2, (x &lt; -1)),(2/x, (-1 &lt;= x &lt; 1, x!=0)), (sqrt(x-1)+2, (x &gt;= 1)):}`&lt;br/&gt;`g(x)=|x-1|+x+1`의 그래프의 교점의 개수는?</td>\n      <td>['f(x)={(-sqrt(-(x+1))-2, (x &lt; -1)),(2/x, (-1 &lt;= x &lt; 1, x!=0)), (sqrt(x-1)+2, (x &gt;= 1)):}', 'g(x)=|x-1|+x+1']</td>\n      <td>['두', '함수', '그래프', '교점', '개수']</td>\n      <td>['&lt; 1, x!=0)), (sqrt(x-1)+2, (x &gt;', '&lt;br/&gt;']</td>\n      <td>유리함수와 무리함수의 그래프</td>\n      <td>NaN</td>\n      <td>4</td>\n      <td>NaN</td>\n      <td>10</td>\n      <td>open</td>\n      <td>['H1S2-04', 'H1S2-04', 'H1S1-08']</td>\n      <td>['역함수 구하기', '함수의 값', '연립일차부등식']</td>\n      <td>H1S2-06</td>\n      <td>{'집합': [], '조건부': ['g(x)=|x-1|+x+1'], '절댓값': []}</td>\n    </tr>\n    <tr>\n      <th>22305</th>\n      <td>H1S2-04</td>\n      <td>H1S2-04-06</td>\n      <td>다음 보기의 함수 중 일대일대응인 것만을 있는 대로 고르시오.&lt;br/&gt;&lt;fieldset&gt;&lt;legend&gt;보기&lt;/legend&gt;ㄱ. `y=-2x`&lt;br/&gt;ㄴ. `y=|2x-1|`&lt;br/&gt;ㄷ. `y=2x^2-1`&lt;br/&gt;ㄹ. `y=3x+1`&lt;/fieldset&gt;</td>\n      <td>['y=-2x', 'y=|2x-1|', 'y=2x^2-1', 'y=3x+1']</td>\n      <td>['다음', '보기', '함수', '중', '일대일대응', '것', '있', '고르시오', '보기']</td>\n      <td>['&lt;br/&gt;', '&lt;fieldset&gt;', '&lt;legend&gt;', '&lt;/legend&gt;', '&lt;br/&gt;', '&lt;br/&gt;', '&lt;br/&gt;', '&lt;/fieldset&gt;']</td>\n      <td>일대일대응 찾기</td>\n      <td>NaN</td>\n      <td>3</td>\n      <td>NaN</td>\n      <td>10</td>\n      <td>open</td>\n      <td>['H1S2-03', 'H1S2-05', 'HSU1-06']</td>\n      <td>['명제의 참과 거짓', '유리함수의 그래프의 성질', '삼각함수 그래프의 평행이동과 대칭이동']</td>\n      <td>H1S2-04</td>\n      <td>{'집합': [], '조건부': [], '절댓값': ['y=|2x-1|']}</td>\n    </tr>\n    <tr>\n      <th>8819</th>\n      <td>HSU1-04</td>\n      <td>HSU1-04-03</td>\n      <td>지수함수 `y=ma^-x+n (a &gt; 0, a!=1)`의 그래프가 그림과 같을 때, 로그함수 `y=log_(a)(m-x)^-n`의 그래프에 관한 설명으로 옳은 것만을 &lt;보기&gt;에서 있는 대로 고른 것은? (단, 직선 `y=3`은 점근선이고, `m`, `n`은 상수이다.)&lt;fieldset&gt;&lt;legend&gt;&lt;보기&gt;&lt;/legend&gt;ㄱ. 정의역은 `{x|x &gt; -2}`이다.&lt;br/&gt;ㄴ. 그래프는 점 `(-3, 0)`을 지난다.&lt;br/&gt;ㄷ. 정의역의 임의의 구간에서 감소하는 함수이다.&lt;/fieldset&gt;</td>\n      <td>['y=ma^-x+n (a &gt; 0, a!=1)', 'y=log_(a)(m-x)^-n', 'y=3', 'm', 'n', '{x|x &gt; -2}', '(-3, 0)']</td>\n      <td>['지수함수', '그래프', '그림', '같', '때', '로그함수', '그래프', '관', '설명', '옳', '것', '보기', '있', '고른', '것', '단', '직선', '점근선', '상수', '보기', '정의역', '그래프', '점', '지난', '정의역', '임의', '구간', '감소하', '함수']</td>\n      <td>['&lt;보기&gt;', '&lt;fieldset&gt;', '&lt;legend&gt;', '&lt;보기&gt;', '&lt;/legend&gt;', '&lt;br/&gt;', '&lt;br/&gt;', '&lt;/fieldset&gt;']</td>\n      <td>로그함수의 그래프의 평행이동과 대칭이동</td>\n      <td>NaN</td>\n      <td>3</td>\n      <td>1.0</td>\n      <td>10</td>\n      <td>open</td>\n      <td>['HSU1-04', 'HSU1-03', 'H1S2-06']</td>\n      <td>['로그함수의 그래프의 평행이동과 대칭이동', '지수함수의 성질과 그래프', '무리함수의 그래프의 성질']</td>\n      <td>HSU1-04</td>\n      <td>{'집합': ['{x|x &gt; -2}'], '조건부': [], '절댓값': []}</td>\n    </tr>\n    <tr>\n      <th>9447</th>\n      <td>HSTA-04</td>\n      <td>HSTA-04-01</td>\n      <td>두 사건 `A`, `B`에 대하여 `P(A) = 1/4`, `P(B) = 1/2`, `P(B|A) = 1/3`일 때, `P(B^C|A^C)`을 구하여라.</td>\n      <td>['A', 'B', 'P(A) = 1/4', 'P(B) = 1/2', 'P(B|A) = 1/3', 'P(B^C|A^C)']</td>\n      <td>['두', '사건', '대하', '일', '때', '구하여']</td>\n      <td>[]</td>\n      <td>조건부확률의 계산</td>\n      <td>NaN</td>\n      <td>3</td>\n      <td>2.0</td>\n      <td>10</td>\n      <td>open</td>\n      <td>['HSTA-04', 'HSTA-03', 'HSTA-04']</td>\n      <td>['조건부확률의 계산', '확률의 덧셈정리와 여사건의 확률', '독립사건의 확률']</td>\n      <td>HSTA-04</td>\n      <td>{'집합': [], '조건부': ['P(B|A) = 1/3', 'P(B^C|A^C)'], '절댓값': []}</td>\n    </tr>\n    <tr>\n      <th>7018</th>\n      <td>HSU1-06</td>\n      <td>HSU1-06-08</td>\n      <td>다음 중 `y=|sinx|+1`에 대한 설명으로 옳지 않은 것은?</td>\n      <td>['y=|sinx|+1']</td>\n      <td>['다음', '중', '대', '설명', '옳', '않', '것']</td>\n      <td>[]</td>\n      <td>절댓값 기호가 포함된 삼각함수</td>\n      <td>NaN</td>\n      <td>2</td>\n      <td>2.0</td>\n      <td>10</td>\n      <td>open</td>\n      <td>['H1S2-03', 'H1S2-03', 'H1S1-03']</td>\n      <td>['명제와 역, 대우의 참, 거짓', '명제의 참과 거짓', '인수분해의 기본']</td>\n      <td>HSU1-06</td>\n      <td>{'집합': [], '조건부': [], '절댓값': ['y=|sinx|+1']}</td>\n    </tr>\n    <tr>\n      <th>3489</th>\n      <td>H1S1-08</td>\n      <td>H1S1-08-09</td>\n      <td>부등식 `|1/3x+9|+7(k-2)+8 &lt;= 0`의 해가 존재하도록 하는 정수 `k`의 최댓값은?</td>\n      <td>['|1/3x+9|+7(k-2)+8 &lt;= 0', 'k']</td>\n      <td>['부등식', '해', '존재하도록', '하', '정수', '최댓값']</td>\n      <td>[]</td>\n      <td>특수한 해를 갖는 일차부등식</td>\n      <td>NaN</td>\n      <td>3</td>\n      <td>2.0</td>\n      <td>10</td>\n      <td>open</td>\n      <td>['H1S1-08', 'H1S1-08', 'HSU1-03']</td>\n      <td>['특수한 해를 갖는 일차부등식', '해를 갖거나 갖지 않는 연립일차부등식', '지수부등식을 항상 성립하게 만드는 조건 구하기']</td>\n      <td>H1S1-08</td>\n      <td>{'집합': [], '조건부': ['|1/3x+9|+7(k-2)+8 &lt;= 0'], '절댓값': []}</td>\n    </tr>\n    <tr>\n      <th>4392</th>\n      <td>H1S1-04</td>\n      <td>H1S1-04-09</td>\n      <td>두 실수 `a`, `b`가 `sqrta/sqrtb`=-`sqrt(a/b)`를 만족시킬 때,&lt;br/&gt; `sqrt(a^2)+sqrt(b^2)+sqrt((b-a)^2)-|b|`를 간단히 하면? (단, `ab!=0`이다.)</td>\n      <td>['a', 'b', 'sqrta/sqrtb', 'sqrt(a/b)', 'sqrt(a^2)+sqrt(b^2)+sqrt((b-a)^2)-|b|', 'ab!=0']</td>\n      <td>['두', '실수', '만족시킬', '때', '간단히', '하', '단']</td>\n      <td>['&lt;br/&gt;']</td>\n      <td>음수의 제곱근</td>\n      <td>NaN</td>\n      <td>4</td>\n      <td>2.0</td>\n      <td>10</td>\n      <td>open</td>\n      <td>['H1S1-04', 'H1S1-03', 'H1S2-05']</td>\n      <td>['음수의 제곱근', '순환꼴의 인수분해', '유리식의 값 (2)']</td>\n      <td>H1S2-06</td>\n      <td>{'집합': [], '조건부': ['sqrt(a^2)+sqrt(b^2)+sqrt((b-a)^2)-|b|'], '절댓값': []}</td>\n    </tr>\n    <tr>\n      <th>24765</th>\n      <td>H1S2-04</td>\n      <td>H1S2-04-09</td>\n      <td>두 집합&lt;br/&gt;`X = {1, 2, 3, 4, 5}`, `Y = {x|x`는 `13`이하의 홀수인 자연수`}`&lt;br/&gt;에 대하여 `X`에서 `Y`로의 함수 `f`가 다음 조건을 모두 만족시킬 때, 함수 `f`의 개수는?&lt;br/&gt;&lt;fieldset&gt;(가) `i in X`, `j in X`일 때, `i &lt; j`이면 `f(i) &lt; f(j)`이다.&lt;br/&gt;(나) `f(3) = 7`&lt;/fieldset&gt;</td>\n      <td>['X = {1, 2, 3, 4, 5}', 'Y = {x|x', '13', '}', 'X', 'Y', 'f', 'f', 'i in X', 'j in X', 'i &lt; j', 'f(i) &lt; f(j)', 'f(3) = 7']</td>\n      <td>['두', '집합', '이하', '홀수', '자연수', '대하', '로', '함수', '다음', '조건', '모두', '만족시킬', '때', '함수', '개수', '일', '때', '이']</td>\n      <td>['&lt;br/&gt;', '&lt;br/&gt;', '&lt;br/&gt;', '&lt;fieldset&gt;', '&lt;br/&gt;', '&lt;/fieldset&gt;']</td>\n      <td>조건을 만족시키는 함수의 개수</td>\n      <td>NaN</td>\n      <td>3</td>\n      <td>NaN</td>\n      <td>10</td>\n      <td>open</td>\n      <td>['H1S2-04', 'H1S2-07', 'HSTA-02']</td>\n      <td>['조건을 만족시키는 함수의 개수', '함수의 개수', '중복조합의 활용 (3)']</td>\n      <td>H1S2-04</td>\n      <td>{'집합': ['Y = {x|x'], '조건부': [], '절댓값': []}</td>\n    </tr>\n    <tr>\n      <th>15411</th>\n      <td>H1S2-02</td>\n      <td>H1S2-02-02</td>\n      <td>전체집합 `U={x|x`는 `10`이하의 자연수`}`의 두 부분집합 `A={x|x`는 짝수`}`, `B={x|x`는 소수`}`에 대하여 `(A-B)^C`의 모든 원소의 합은?</td>\n      <td>['U={x|x', '10', '}', 'A={x|x', '}', 'B={x|x', '}', '(A-B)^C']</td>\n      <td>['전체집합', '이하', '자연수', '두', '부분집합', '짝수', '소수', '대하', '모든', '원소', '합']</td>\n      <td>[]</td>\n      <td>여집합과 차집합</td>\n      <td>NaN</td>\n      <td>3</td>\n      <td>NaN</td>\n      <td>10</td>\n      <td>open</td>\n      <td>['H1S2-02', 'H1S2-02', 'H1S2-02']</td>\n      <td>['여집합과 차집합', '서로소인 집합', '집합의 연산을 이용한 미지수 구하기']</td>\n      <td>H1S2-02</td>\n      <td>{'집합': ['U={x|x', 'A={x|x', 'B={x|x'], '조건부': [], '절댓값': []}</td>\n    </tr>\n    <tr>\n      <th>7220</th>\n      <td>HSU1-06</td>\n      <td>HSU1-06-21</td>\n      <td>`1/2 &lt;= x &lt;= 5/2`일 때, `sinpix-|sinpix|=-1`의 모든 근의 합을 구하시오.</td>\n      <td>['1/2 &lt;= x &lt;= 5/2', 'sinpix-|sinpix|=-1']</td>\n      <td>['일', '때', '모든', '근', '합', '구하시오']</td>\n      <td>[]</td>\n      <td>삼각방정식 (4)</td>\n      <td>그래프의 대칭성 이용하기</td>\n      <td>3</td>\n      <td>3.0</td>\n      <td>10</td>\n      <td>open</td>\n      <td>['HSU1-06', 'HSU1-06', 'HSU1-06']</td>\n      <td>['삼각방정식 (1)', '삼각방정식 (2)', '삼각부등식 (2)']</td>\n      <td>HSU1-06</td>\n      <td>{'집합': [], '조건부': [], '절댓값': ['sinpix-|sinpix|=-1']}</td>\n    </tr>\n    <tr>\n      <th>4136</th>\n      <td>H1S1-05</td>\n      <td>H1S1-05-03</td>\n      <td>`x`에 대한 방정식 `|x^2+(a^2-2a)x-3|=1`의 모든 근의 합이 `0`일 때, 상수 `a`의 값은?</td>\n      <td>['x', '|x^2+(a^2-2a)x-3|=1', '0', 'a']</td>\n      <td>['대', '방정식', '모든', '근', '합', '일', '때', '상수', '값']</td>\n      <td>[]</td>\n      <td>이차방정식이 절댓값 또는 가우스 기호를 포함한 경우</td>\n      <td>NaN</td>\n      <td>4</td>\n      <td>2.0</td>\n      <td>10</td>\n      <td>open</td>\n      <td>['H1S1-07', 'H1S1-05', 'H1S1-08']</td>\n      <td>['공통근을 가지는 방정식', '이차방정식의 근이 주어진 경우', '두 이차방정식의 근의 판별']</td>\n      <td>H1S1-05</td>\n      <td>{'집합': [], '조건부': ['|x^2+(a^2-2a)x-3|=1'], '절댓값': []}</td>\n    </tr>\n    <tr>\n      <th>9537</th>\n      <td>HSTA-02</td>\n      <td>HSTA-02-09</td>\n      <td>집합 `A={x|x`는 `12` 이하의 자연수`}`의 부분집합 중 원소의 개수가 홀수인 것의 개수는?</td>\n      <td>['A={x|x', '12', '}']</td>\n      <td>['집합', '이하', '자연수', '부분집합', '중', '원소', '개수', '홀수', '것', '개수']</td>\n      <td>[]</td>\n      <td>이항계수의 성질</td>\n      <td>NaN</td>\n      <td>3</td>\n      <td>3.0</td>\n      <td>10</td>\n      <td>open</td>\n      <td>['H1S2-01', 'H1S2-01', 'H1S2-01']</td>\n      <td>['유한집합, 무한집합, 공집합', '부분집합 또는 부분집합의 개수 구하기', '집합과 원소 및 부분집합 사이의 관계']</td>\n      <td>H1S1-01</td>\n      <td>{'집합': ['A={x|x'], '조건부': [], '절댓값': []}</td>\n    </tr>\n    <tr>\n      <th>19401</th>\n      <td>H1S2-02</td>\n      <td>H1S2-02-11</td>\n      <td>`U={x|x`는 `100`이하의 자연수`}`의 부분집합 중 자연수 `k`의 배수의 집합을 `A_k`로 나타낼 때, `n(A_2nn(A_5uuA_4))`의 값을 구하면?</td>\n      <td>['U={x|x', '100', '}', 'k', 'A_k', 'n(A_2nn(A_5uuA_4))']</td>\n      <td>['이하', '자연수', '부분집합', '중', '자연수', '배수', '집합', '나타낼', '때', '값', '구하']</td>\n      <td>[]</td>\n      <td>배수와 약수의 집합의 연산</td>\n      <td>NaN</td>\n      <td>3</td>\n      <td>NaN</td>\n      <td>10</td>\n      <td>open</td>\n      <td>['H1S2-02', 'H1S2-02', 'H1S2-07']</td>\n      <td>['배수와 약수의 집합의 연산', '합집합과 교집합', '순열기호 P와 조합기호 C의 계산']</td>\n      <td>H1S2-02</td>\n      <td>{'집합': ['U={x|x'], '조건부': [], '절댓값': []}</td>\n    </tr>\n  </tbody>\n</table>\n</div>"
     },
     "metadata": {},
     "execution_count": 26
    }
   ],
   "source": [
    "pd.set_option('display.max_rows', 20)\n",
    "df_pipe = df_train[df_train[\"pipes\"].notna()]\n",
    "# df_pipe[0:300]\n",
    "df_pipe = df_pipe.set_index(\"qplay_question_id\")\n",
    "df_pipe.sample(20)"
   ]
  },
  {
   "cell_type": "code",
   "execution_count": 27,
   "metadata": {},
   "outputs": [],
   "source": [
    "# def sub_func_replace_pipe(input_text: str) -> str:\n",
    "#     if \"|\" in input_text and \"{\" in input_text:\n",
    "#         input_text = re.sub(\"\\|\", \"조건제시법|\", input_text)\n",
    "#     elif \"|\" in input_text and \"확률함수(\" in input_text and \")\" in input_text:\n",
    "#         if input_text.count(\"|\") % 2 == 0:\n",
    "#             input_text = re.sub(\"\\|\", \"절대값|\", input_text)\n",
    "#         if input_text.count(\"|\") % 2 == 1:\n",
    "#             input_text = re.sub(\"\\|\", \"조건부확률|\", input_text)\n",
    "#     elif input_text.count(\"|\") >= 2:\n",
    "#         input_text = re.sub(\"\\|\", \"절대값|\", input_text)\n",
    "#     else:\n",
    "#         return input_text\n",
    "#     result_text = input_text\n",
    "#     return result_text\n",
    "\n",
    "def sub_func_replace_pipe(input_text: str) -> str:\n",
    "    if \"|\" in input_text and \"{\" in input_text:\n",
    "        input_text = re.sub(\"\\|\", \"조건제시법|\", input_text)\n",
    "    elif \"|\" in input_text and \"확률함수(\" in input_text and \")\" in input_text:\n",
    "        words_broken_down = []\n",
    "        # word_broken_by_bracket = re.findall(r'\\([^)]*\\)', input_text)\n",
    "        word_broken_by_bracket = re.findall('\\[[^\\]]*\\]|\\([^\\)]*\\)|\\\"[^\\\"]*\\\"|\\S+',input_text)\n",
    "        print(word_broken_by_bracket)\n",
    "        for i in word_broken_by_bracket:\n",
    "            print(i)\n",
    "            if i.count(\"|\") % 2 == 0:\n",
    "                i = re.sub(\"\\|\", \"절대값|\", i)\n",
    "                words_broken_down.append(i)\n",
    "            elif i.count(\"|\") % 2 == 1:\n",
    "                i = re.sub(\"\\|\", \"조건부확률|\", i)\n",
    "                words_broken_down.append(i)\n",
    "            else:\n",
    "                words_broken_down.append(i)\n",
    "        input_text = \"\".join(words_broken_down)\n",
    "    elif input_text.count(\"|\") >= 2:\n",
    "        input_text = re.sub(\"\\|\", \"절대값|\", input_text)\n",
    "    else:\n",
    "        return input_text\n",
    "    result_text = input_text\n",
    "    return result_text"
   ]
  },
  {
   "cell_type": "code",
   "execution_count": 28,
   "metadata": {},
   "outputs": [],
   "source": [
    "\n",
    "#  if list_math_matched.index(math) % 2 == 0\n",
    "def main_replace_pipe(input_text: str) -> str:\n",
    "    # print(input_text, \"\\n\")\n",
    "\n",
    "    list_to_return = []\n",
    "    # list_separated = re.findall(r'(?<=`).*?(?=`)', input_text)\n",
    "    # list_separated = input_text.split(\"`\")\n",
    "\n",
    "    delimiter = \"`\"\n",
    "    if input_text.startswith(delimiter) == True:\n",
    "        bool_starts_with_delimiter = True\n",
    "    elif input_text.startswith(delimiter) == False:\n",
    "        bool_starts_with_delimiter = False\n",
    "    list_separated = [delimiter + e for e in input_text.split(delimiter) if e]\n",
    "\n",
    "    # print(list_separated, \"\\n\")\n",
    "    for item in list_separated:\n",
    "        if \"|\" in item and \"{\" in item:\n",
    "            item = sub_func_replace_pipe(item)\n",
    "            # item = f\"`{item}`\"\n",
    "            list_to_return.append(item)\n",
    "        elif \"|\" in item and \"확률함수(\" in item and \")\" in item:\n",
    "            item = sub_func_replace_pipe(item)\n",
    "            # item = f\"`{item}`\"\n",
    "            list_to_return.append(item)\n",
    "        elif item.count(\"|\") >= 2:\n",
    "            item = sub_func_replace_pipe(item)\n",
    "            # item = f\"`{item}`\"\n",
    "            list_to_return.append(item)\n",
    "        else:\n",
    "            list_to_return.append(item)\n",
    "    # print(list_to_return, \"\\n\")\n",
    "    str_to_return = \"\".join(list_to_return)\n",
    "    if bool_starts_with_delimiter == True:\n",
    "        return str_to_return\n",
    "    elif bool_starts_with_delimiter == False:\n",
    "        return str_to_return[1:]"
   ]
  },
  {
   "cell_type": "code",
   "execution_count": 29,
   "metadata": {},
   "outputs": [
    {
     "output_type": "stream",
     "name": "stdout",
     "text": [
      "['`확률함수(|X|', '<=', '63)=0.6826']\n`확률함수(|X|\n<=\n63)=0.6826\n"
     ]
    },
    {
     "output_type": "execute_result",
     "data": {
      "text/plain": [
       "'정규분포 `N(m, 9)`에 따르는 확률변수 `X`에 대하여 `확률함수(절대값|X절대값|<=63)=0.6826`일 때, 상수 `m`의 값은?'"
      ]
     },
     "metadata": {},
     "execution_count": 29
    }
   ],
   "source": [
    "main_replace_pipe(\"정규분포 `N(m, 9)`에 따르는 확률변수 `X`에 대하여 `확률함수(|X| <= 63)=0.6826`일 때, 상수 `m`의 값은?\")"
   ]
  },
  {
   "cell_type": "code",
   "execution_count": 30,
   "metadata": {},
   "outputs": [
    {
     "output_type": "stream",
     "name": "stdout",
     "text": [
      "이차함수 `y=3x^2+2`의 그래프와 직선 `y=3x+절대값|a-1절대값|`이 만나지 않도록 하는 실수 `a`의 값의 범위는 `m< a< M`과 같다. `M/m`의 값을 구하시오.\n"
     ]
    }
   ],
   "source": [
    "import random\n",
    "\n",
    "rand_int = random.randrange(0, 101)\n",
    "sample_text = df_pipe[\"text\"].iloc[rand_int]\n",
    "print(main_replace_pipe(sample_text))"
   ]
  },
  {
   "cell_type": "code",
   "execution_count": 31,
   "metadata": {},
   "outputs": [
    {
     "output_type": "execute_result",
     "data": {
      "text/plain": [
       "                                                                                                       text  \\\n",
       "qplay_question_id                                                                                             \n",
       "6993               삼각형 `ABC`의 세 내각의 크기를 각각 `A`, `B`, `C`라 할 때, ` tan A=-1/2`이다. 이때 `√5 cos (B+C)`의 값을 구하시오.   \n",
       "7948               ` theta `가 제`1`사분면의 각일 때, 각 ` theta / 2`가 속하는 사분면으로 옳은 것은?                                 \n",
       "\n",
       "                         qtid                 name   subtitle  \\\n",
       "qplay_question_id                                               \n",
       "6993               HSU1-06-12  여러 가지 각의 삼각함수 값 (3)  도형에서 활용하기   \n",
       "7948               HSU1-05-02  사분면의 각               NaN         \n",
       "\n",
       "                   question_difficulty  question_type_difficulty  grade  \\\n",
       "qplay_question_id                                                         \n",
       "6993               2                    3.0                       10      \n",
       "7948               3                    1.0                       10      \n",
       "\n",
       "                  purpose  \n",
       "qplay_question_id          \n",
       "6993               open    \n",
       "7948               open    "
      ],
      "text/html": "<div>\n<style scoped>\n    .dataframe tbody tr th:only-of-type {\n        vertical-align: middle;\n    }\n\n    .dataframe tbody tr th {\n        vertical-align: top;\n    }\n\n    .dataframe thead th {\n        text-align: right;\n    }\n</style>\n<table border=\"1\" class=\"dataframe\">\n  <thead>\n    <tr style=\"text-align: right;\">\n      <th></th>\n      <th>text</th>\n      <th>qtid</th>\n      <th>name</th>\n      <th>subtitle</th>\n      <th>question_difficulty</th>\n      <th>question_type_difficulty</th>\n      <th>grade</th>\n      <th>purpose</th>\n    </tr>\n    <tr>\n      <th>qplay_question_id</th>\n      <th></th>\n      <th></th>\n      <th></th>\n      <th></th>\n      <th></th>\n      <th></th>\n      <th></th>\n      <th></th>\n    </tr>\n  </thead>\n  <tbody>\n    <tr>\n      <th>6993</th>\n      <td>삼각형 `ABC`의 세 내각의 크기를 각각 `A`, `B`, `C`라 할 때, ` tan A=-1/2`이다. 이때 `√5 cos (B+C)`의 값을 구하시오.</td>\n      <td>HSU1-06-12</td>\n      <td>여러 가지 각의 삼각함수 값 (3)</td>\n      <td>도형에서 활용하기</td>\n      <td>2</td>\n      <td>3.0</td>\n      <td>10</td>\n      <td>open</td>\n    </tr>\n    <tr>\n      <th>7948</th>\n      <td>` theta `가 제`1`사분면의 각일 때, 각 ` theta / 2`가 속하는 사분면으로 옳은 것은?</td>\n      <td>HSU1-05-02</td>\n      <td>사분면의 각</td>\n      <td>NaN</td>\n      <td>3</td>\n      <td>1.0</td>\n      <td>10</td>\n      <td>open</td>\n    </tr>\n  </tbody>\n</table>\n</div>"
     },
     "metadata": {},
     "execution_count": 31
    }
   ],
   "source": [
    "df_test_pipe = preprocess(df_original, korean=True, space=True, condition=True)\n",
    "df_test_pipe = df_test_pipe.set_index(\"qplay_question_id\")\n",
    "df_test_pipe.sample(2)"
   ]
  },
  {
   "cell_type": "code",
   "execution_count": 44,
   "metadata": {},
   "outputs": [
    {
     "output_type": "stream",
     "name": "stdout",
     "text": [
      "(323, 8)\n"
     ]
    },
    {
     "output_type": "execute_result",
     "data": {
      "text/plain": [
       "                                                                                                                                                                                                                           text  \\\n",
       "qplay_question_id                                                                                                                                                                                                                 \n",
       "24882              집합 `X = {x 조건제시법| 0 ≤ x ≤ 1}`에 대하여 `X`에서 `X`로의 함수 `y = f(x)`의 그래프가 그림과 같다. `f^2 = f@f`, `f^3 = f^2 @f`, `f^4 = f^3 @ f …` 이라 할 때, `f(1/4) + f^2(1/4) + f^3(1/4) + … + f^40(1/4)`의 값은? `, ` bar (AB)`는 선분이다.)   \n",
       "18846              다음 보기 중 무리함수 `y=√(-2x+6)+1`의 그래프에 대한 설명으로 옳은 것을 모두 고른 것은?  보기  정의역은 `{x조건제시법|x≤3}`, 치역은 `{y조건제시법|y≥1}`이다.  `y=√(-2x)`의 그래프를 `x`축의 방향으로 `6`만큼, `y`의 방향으로 `1`만큼 평행이동한 그래프이다.  제`3`, `4`사분면을 지나지 않는다.             \n",
       "24262              집합 `X={x조건제시법|0 ≤ x ≤2}`일 때 `X`에서 `X`로의 함수 `f(x)=ax^2+bx`의 역함수가 존재하도록 하는 실수 `a`, `b`에 대하여 좌표평면에서 점 `(a, b)`가 나타내는 도형의 길이를 구하시오.                                                                                \n",
       "17809              전체집합 `U={x조건제시법|x`는 `10`이하의 자연수`}`의 두 부분집합 `A={x조건제시법|x`는 `8`의 약수`}`, `B={x조건제시법|x`는 `10`이하의 짝수`}`에 대하여 `A여집합-B`의 원소의 개수는?                                                                                     \n",
       "9430               두 사건 `A`, `B`에 대하여 `확률함수(A) = 0.6`, `확률함수(B) = 0.2`, `확률함수(A ∪ B) = 0.7`일 때, `확률함수(B조건부확률|A여집합)`는?                                                                                                             \n",
       "24755              함수 `f(x)=mx-1`의 정의역이 `{x조건제시법|2 ≤ x ≤ 3}`이고 공역이 `{y조건제시법| 1 ≤ y ≤ 5}`일 때, 실수 `m`의 값의 범위는 `a ≤ m ≤ b`이다. 이때, 상수 `a`, `b`에 대하여 `a+b`의 값은?                                                                        \n",
       "7405               함수 `y=절대값| cos x/2절대값|-1`의 주기와 최댓값, 최솟값을 옳게 구한 것을 고르시오.                                                                                                                                                        \n",
       "25245              두 집합 `X={-1, 0, 1, 2}`, `Y={0, 1, 2, 3, 4}`에 대하여 `X`에서 `Y`로의 함수인 것을 보에서 있는 대로 고른 것은?   보  `y=x`  `y=절대값|x절대값|+1`  `y=x^2`  `y=x^2-x+1`                                                                         \n",
       "3487               부등식 `절대값|x절대값|^2-4절대값|x절대값|-12 ≤ 0`을 만족시키는 정수 `x`의 개수를 구하시오.                                                                                                                                                   \n",
       "25024              함수 `f(x)=-3kx+절대값|4x-1절대값|+2`의 역함수가 존재할 때, 자연수 `k`의 최솟값은?                                                                                                                                                      \n",
       "24362              함수 `y = -√(x+4) + 2`의 정의역이 `{x 조건제시법| a ≤ x ≤ 5}`일 때, 치역은 `{y 조건제시법| b ≤ y ≤ 1}`이다. 이 때, 상수 `a`, `b`에 대하여 `ab`를 구하면?                                                                                           \n",
       "19147              집합 `A={x조건제시법|x`는 `14`보다 작은 자연수`}`의 부분집합 `X`는 적어도 하나의 `3`의 배수는 포함하고, `4`의 배수는 하나도 포함하지 않을 때, 집합`X`의 개수는?                                                                                                       \n",
       "24468              두 집합 `A = {(x, y)조건제시법|y = √(x-3)}`, `B = {(x, y)조건제시법|y = kx + 1}`에 대하여 `A ∩ B ≠ Ø`이다. 실수 `k`의 최댓값을 `M`, 최솟값을 `m`이라 할 때, `180Mm`의 값은?                                                                         \n",
       "24206              정의역이 `{x조건제시법|x`는 `x≥k`인 모든 실수`}`이고, 공역이 `{y조건제시법|y`는 `y≥1`인 모든 실수`}`인 함수 `f(x) = x^2 - 2kx + k^2 + 1`에 대하여 함수 `f(x)`의 역함수를 `g(x)`라 하자. 두 함수 `y = f(x)`와 `y = g(x)`의 그래프가 서로 다른 두 점에서 만나도록 하는 실수 `k`의 최댓값은?    \n",
       "22330              정의역이 `{x조건제시법|-2 ≤ x ≤ 1}`인 함수 `y=2/(x+3)+a`의 최솟값이 `5/2`일 때, 최댓값은?                                                                                                                                             \n",
       "\n",
       "                         qtid                      name        subtitle  \\\n",
       "qplay_question_id                                                         \n",
       "24882              H1S2-04-14  fⁿ 꼴의 합성함수                NaN              \n",
       "18846              H1S2-06-10  무리함수의 그래프의 성질             NaN              \n",
       "24262              H1S2-04-17  역함수가 존재하기 위한 조건           NaN              \n",
       "17809              H1S2-02-02  여집합과 차집합                  NaN              \n",
       "9430               HSTA-04-01  조건부확률의 계산                 NaN              \n",
       "24755              H1S2-04-03  함수의 정의역, 공역, 치역           NaN              \n",
       "7405               HSU1-06-17  삼각함수를 포함한 식의 최대, 최소 (4)   절댓값 기호를 포함한 경우   \n",
       "25245              H1S2-04-01  함수의 뜻                     NaN              \n",
       "3487               H1S1-08-11  절댓값 또는 가우스 기호가 포함된 이차부등식  NaN              \n",
       "25024              H1S2-04-23  절댓값 기호를 포함한 함수            NaN              \n",
       "24362              H1S2-06-06  무리함수의 정의역과 치역             NaN              \n",
       "19147              H1S2-02-08  조건을 만족시키는 부분집합의 개수        NaN              \n",
       "24468              H1S2-06-12  무리함수의 그래프와 직선의 위치 관계      NaN              \n",
       "24206              H1S2-04-22  함수와 역함수의 교점               NaN              \n",
       "22330              H1S2-05-19  유리함수의 최대·최소               NaN              \n",
       "\n",
       "                   question_difficulty  question_type_difficulty  grade  \\\n",
       "qplay_question_id                                                         \n",
       "24882              4                   NaN                        10      \n",
       "18846              3                   NaN                        10      \n",
       "24262              4                   NaN                        10      \n",
       "17809              2                   NaN                        10      \n",
       "9430               3                    2.0                       10      \n",
       "24755              3                   NaN                        10      \n",
       "7405               3                    3.0                       10      \n",
       "25245              3                   NaN                        10      \n",
       "3487               3                    2.0                       10      \n",
       "25024              3                   NaN                        10      \n",
       "24362              3                   NaN                        10      \n",
       "19147              3                   NaN                        10      \n",
       "24468              3                   NaN                        10      \n",
       "24206              3                   NaN                        10      \n",
       "22330              3                   NaN                        10      \n",
       "\n",
       "                  purpose  \n",
       "qplay_question_id          \n",
       "24882              open    \n",
       "18846              open    \n",
       "24262              open    \n",
       "17809              open    \n",
       "9430               open    \n",
       "24755              open    \n",
       "7405               open    \n",
       "25245              open    \n",
       "3487               open    \n",
       "25024              open    \n",
       "24362              open    \n",
       "19147              open    \n",
       "24468              open    \n",
       "24206              open    \n",
       "22330              open    "
      ],
      "text/html": "<div>\n<style scoped>\n    .dataframe tbody tr th:only-of-type {\n        vertical-align: middle;\n    }\n\n    .dataframe tbody tr th {\n        vertical-align: top;\n    }\n\n    .dataframe thead th {\n        text-align: right;\n    }\n</style>\n<table border=\"1\" class=\"dataframe\">\n  <thead>\n    <tr style=\"text-align: right;\">\n      <th></th>\n      <th>text</th>\n      <th>qtid</th>\n      <th>name</th>\n      <th>subtitle</th>\n      <th>question_difficulty</th>\n      <th>question_type_difficulty</th>\n      <th>grade</th>\n      <th>purpose</th>\n    </tr>\n    <tr>\n      <th>qplay_question_id</th>\n      <th></th>\n      <th></th>\n      <th></th>\n      <th></th>\n      <th></th>\n      <th></th>\n      <th></th>\n      <th></th>\n    </tr>\n  </thead>\n  <tbody>\n    <tr>\n      <th>24882</th>\n      <td>집합 `X = {x 조건제시법| 0 ≤ x ≤ 1}`에 대하여 `X`에서 `X`로의 함수 `y = f(x)`의 그래프가 그림과 같다. `f^2 = f@f`, `f^3 = f^2 @f`, `f^4 = f^3 @ f …` 이라 할 때, `f(1/4) + f^2(1/4) + f^3(1/4) + … + f^40(1/4)`의 값은? `, ` bar (AB)`는 선분이다.)</td>\n      <td>H1S2-04-14</td>\n      <td>fⁿ 꼴의 합성함수</td>\n      <td>NaN</td>\n      <td>4</td>\n      <td>NaN</td>\n      <td>10</td>\n      <td>open</td>\n    </tr>\n    <tr>\n      <th>18846</th>\n      <td>다음 보기 중 무리함수 `y=√(-2x+6)+1`의 그래프에 대한 설명으로 옳은 것을 모두 고른 것은?  보기  정의역은 `{x조건제시법|x≤3}`, 치역은 `{y조건제시법|y≥1}`이다.  `y=√(-2x)`의 그래프를 `x`축의 방향으로 `6`만큼, `y`의 방향으로 `1`만큼 평행이동한 그래프이다.  제`3`, `4`사분면을 지나지 않는다.</td>\n      <td>H1S2-06-10</td>\n      <td>무리함수의 그래프의 성질</td>\n      <td>NaN</td>\n      <td>3</td>\n      <td>NaN</td>\n      <td>10</td>\n      <td>open</td>\n    </tr>\n    <tr>\n      <th>24262</th>\n      <td>집합 `X={x조건제시법|0 ≤ x ≤2}`일 때 `X`에서 `X`로의 함수 `f(x)=ax^2+bx`의 역함수가 존재하도록 하는 실수 `a`, `b`에 대하여 좌표평면에서 점 `(a, b)`가 나타내는 도형의 길이를 구하시오.</td>\n      <td>H1S2-04-17</td>\n      <td>역함수가 존재하기 위한 조건</td>\n      <td>NaN</td>\n      <td>4</td>\n      <td>NaN</td>\n      <td>10</td>\n      <td>open</td>\n    </tr>\n    <tr>\n      <th>17809</th>\n      <td>전체집합 `U={x조건제시법|x`는 `10`이하의 자연수`}`의 두 부분집합 `A={x조건제시법|x`는 `8`의 약수`}`, `B={x조건제시법|x`는 `10`이하의 짝수`}`에 대하여 `A여집합-B`의 원소의 개수는?</td>\n      <td>H1S2-02-02</td>\n      <td>여집합과 차집합</td>\n      <td>NaN</td>\n      <td>2</td>\n      <td>NaN</td>\n      <td>10</td>\n      <td>open</td>\n    </tr>\n    <tr>\n      <th>9430</th>\n      <td>두 사건 `A`, `B`에 대하여 `확률함수(A) = 0.6`, `확률함수(B) = 0.2`, `확률함수(A ∪ B) = 0.7`일 때, `확률함수(B조건부확률|A여집합)`는?</td>\n      <td>HSTA-04-01</td>\n      <td>조건부확률의 계산</td>\n      <td>NaN</td>\n      <td>3</td>\n      <td>2.0</td>\n      <td>10</td>\n      <td>open</td>\n    </tr>\n    <tr>\n      <th>24755</th>\n      <td>함수 `f(x)=mx-1`의 정의역이 `{x조건제시법|2 ≤ x ≤ 3}`이고 공역이 `{y조건제시법| 1 ≤ y ≤ 5}`일 때, 실수 `m`의 값의 범위는 `a ≤ m ≤ b`이다. 이때, 상수 `a`, `b`에 대하여 `a+b`의 값은?</td>\n      <td>H1S2-04-03</td>\n      <td>함수의 정의역, 공역, 치역</td>\n      <td>NaN</td>\n      <td>3</td>\n      <td>NaN</td>\n      <td>10</td>\n      <td>open</td>\n    </tr>\n    <tr>\n      <th>7405</th>\n      <td>함수 `y=절대값| cos x/2절대값|-1`의 주기와 최댓값, 최솟값을 옳게 구한 것을 고르시오.</td>\n      <td>HSU1-06-17</td>\n      <td>삼각함수를 포함한 식의 최대, 최소 (4)</td>\n      <td>절댓값 기호를 포함한 경우</td>\n      <td>3</td>\n      <td>3.0</td>\n      <td>10</td>\n      <td>open</td>\n    </tr>\n    <tr>\n      <th>25245</th>\n      <td>두 집합 `X={-1, 0, 1, 2}`, `Y={0, 1, 2, 3, 4}`에 대하여 `X`에서 `Y`로의 함수인 것을 보에서 있는 대로 고른 것은?   보  `y=x`  `y=절대값|x절대값|+1`  `y=x^2`  `y=x^2-x+1`</td>\n      <td>H1S2-04-01</td>\n      <td>함수의 뜻</td>\n      <td>NaN</td>\n      <td>3</td>\n      <td>NaN</td>\n      <td>10</td>\n      <td>open</td>\n    </tr>\n    <tr>\n      <th>3487</th>\n      <td>부등식 `절대값|x절대값|^2-4절대값|x절대값|-12 ≤ 0`을 만족시키는 정수 `x`의 개수를 구하시오.</td>\n      <td>H1S1-08-11</td>\n      <td>절댓값 또는 가우스 기호가 포함된 이차부등식</td>\n      <td>NaN</td>\n      <td>3</td>\n      <td>2.0</td>\n      <td>10</td>\n      <td>open</td>\n    </tr>\n    <tr>\n      <th>25024</th>\n      <td>함수 `f(x)=-3kx+절대값|4x-1절대값|+2`의 역함수가 존재할 때, 자연수 `k`의 최솟값은?</td>\n      <td>H1S2-04-23</td>\n      <td>절댓값 기호를 포함한 함수</td>\n      <td>NaN</td>\n      <td>3</td>\n      <td>NaN</td>\n      <td>10</td>\n      <td>open</td>\n    </tr>\n    <tr>\n      <th>24362</th>\n      <td>함수 `y = -√(x+4) + 2`의 정의역이 `{x 조건제시법| a ≤ x ≤ 5}`일 때, 치역은 `{y 조건제시법| b ≤ y ≤ 1}`이다. 이 때, 상수 `a`, `b`에 대하여 `ab`를 구하면?</td>\n      <td>H1S2-06-06</td>\n      <td>무리함수의 정의역과 치역</td>\n      <td>NaN</td>\n      <td>3</td>\n      <td>NaN</td>\n      <td>10</td>\n      <td>open</td>\n    </tr>\n    <tr>\n      <th>19147</th>\n      <td>집합 `A={x조건제시법|x`는 `14`보다 작은 자연수`}`의 부분집합 `X`는 적어도 하나의 `3`의 배수는 포함하고, `4`의 배수는 하나도 포함하지 않을 때, 집합`X`의 개수는?</td>\n      <td>H1S2-02-08</td>\n      <td>조건을 만족시키는 부분집합의 개수</td>\n      <td>NaN</td>\n      <td>3</td>\n      <td>NaN</td>\n      <td>10</td>\n      <td>open</td>\n    </tr>\n    <tr>\n      <th>24468</th>\n      <td>두 집합 `A = {(x, y)조건제시법|y = √(x-3)}`, `B = {(x, y)조건제시법|y = kx + 1}`에 대하여 `A ∩ B ≠ Ø`이다. 실수 `k`의 최댓값을 `M`, 최솟값을 `m`이라 할 때, `180Mm`의 값은?</td>\n      <td>H1S2-06-12</td>\n      <td>무리함수의 그래프와 직선의 위치 관계</td>\n      <td>NaN</td>\n      <td>3</td>\n      <td>NaN</td>\n      <td>10</td>\n      <td>open</td>\n    </tr>\n    <tr>\n      <th>24206</th>\n      <td>정의역이 `{x조건제시법|x`는 `x≥k`인 모든 실수`}`이고, 공역이 `{y조건제시법|y`는 `y≥1`인 모든 실수`}`인 함수 `f(x) = x^2 - 2kx + k^2 + 1`에 대하여 함수 `f(x)`의 역함수를 `g(x)`라 하자. 두 함수 `y = f(x)`와 `y = g(x)`의 그래프가 서로 다른 두 점에서 만나도록 하는 실수 `k`의 최댓값은?</td>\n      <td>H1S2-04-22</td>\n      <td>함수와 역함수의 교점</td>\n      <td>NaN</td>\n      <td>3</td>\n      <td>NaN</td>\n      <td>10</td>\n      <td>open</td>\n    </tr>\n    <tr>\n      <th>22330</th>\n      <td>정의역이 `{x조건제시법|-2 ≤ x ≤ 1}`인 함수 `y=2/(x+3)+a`의 최솟값이 `5/2`일 때, 최댓값은?</td>\n      <td>H1S2-05-19</td>\n      <td>유리함수의 최대·최소</td>\n      <td>NaN</td>\n      <td>3</td>\n      <td>NaN</td>\n      <td>10</td>\n      <td>open</td>\n    </tr>\n  </tbody>\n</table>\n</div>"
     },
     "metadata": {},
     "execution_count": 44
    }
   ],
   "source": [
    "df_test_pipe_lookup = df_test_pipe.loc[df_pipe.index]\n",
    "print(df_test_pipe_lookup.shape)\n",
    "df_test_pipe_lookup.sample(15)"
   ]
  },
  {
   "cell_type": "code",
   "execution_count": 49,
   "metadata": {},
   "outputs": [
    {
     "output_type": "execute_result",
     "data": {
      "text/plain": [
       "                                                                                                                                                                                                                                 text  \\\n",
       "qplay_question_id                                                                                                                                                                                                                       \n",
       "9143               어느 고등학교 `2`학년 학생들의 키는 표준편차가 `10cm`인 정규분포를 따른다고 한다. 이 고등학교 `2`학년 학생 중 `64`명을 임의추출하여 키를 조사하였더니 평균이 `160cm`이었다. 이 고등학교 `2`학년 전체 학생의 키의 평균 `m`에 대한 신뢰도 `95%`의 신뢰구간을 `l`이라 하자. `10l`의 값을 구하여라. =0.95`)                    \n",
       "9744               어느 공장에서 만드는 제품 한 개의 무게는 표준편차가 `5g`인 정규분포를 따른다고 한다. 이 공장에서 만든 제품 중에서 `n`개를 임의추출하여 그 무게를 조사하였더니 평균이 `30g`이었다. 이 공장에서 만드는 제품의 평균 무게 `mg`을 신뢰도 `99%`로 추정한 신뢰구간이 `27.85 ≤ m ≤ 32.15`일 때, `n`의 값은? =0.99`)                 \n",
       "9115               표준편차가 `sigma`인 정규분포를 따르는 어느 모집단에서 크기가 `n` 인 표본을 임의추출한 신뢰도 `95%`의 신뢰구간의 길이가 `l`일 때, 크기가 `16n`인 표본을 임의추출하여 추정한 신뢰도 `95%`의 신뢰구간의 길이는? =0.95`로 계산한다.)                                                                    \n",
       "9150               정규분포을 따르는 모집단에서 크기가 `n`인 표본을 임의추출할 때, 그 표본평균을 ` bar X`라고 하자. `확률함수(29 ≤ bar  X ≤ 31)=0.95`를 만족하는 `n`의 값은? =0.95`)                                                                                                    \n",
       "9727               표본공간 `S={x조건제시법|x`는 10 이하의 자연수`}`에 대하여, 두 사건 `A`, `B`가 `A={x조건제시법|x`는 `절대값|x절대값| ≤ 6`인 자연수`}`, `B={x조건제시법|x`는 소수`}`일 때, 표본공간 `S`의 사건 중에서 `A`, `B`와 모두 배반사건인 것은 `n`개이다. 자연수 `n`의 값을 구하시오.                             \n",
       "8008               어느 고등 학교 학생의 `1`인당 연간 독서량은 표준편차가 `6`권인 정규분포를 따른다. 학생 중 임의로 `n`명을 뽑아 조사한 `1`인당 연간 독서량의 평균이 `10`권일 때, 전체 학생의 `1`인당 연간 독서량의 평균 `m`을 신뢰도 `95%`로 추정한 신뢰구간이 `8 ≤ m ≤ 12`이었다. 이 때, 표본의 크기 `n`의 값을 구하여라. =0.95`)             \n",
       "9537               집합 `A={x조건제시법|x`는 `12` 이하의 자연수`}`의 부분집합 중 원소의 개수가 홀수인 것의 개수는?                                                                                                                                                        \n",
       "9686               어느 과수원에서 생산하는 사과 한 개의 무게는 모평균이 `m`, 모표준편차가 `10`인 정규분포를 따른다고 한다. 이 과수원에서 생산하는 사과의 무게를 조사하기 위하여 임의로 `64`개를 택하여 조사하였다. 이 과수원에서 생산하는 사과 한 개의 무게의 모평균 `m`에 대한 신뢰도 `95%`의 신뢰구간이 `a ≤ m ≤b`일 때, `b-a`의 값은? =0.95`로 계산한다.)   \n",
       "7791               어느 고등 학교 학생 전체의 키의 표준편차는 `5cm`라고 한다. 이 학교의 학생 중 `100`명을 임의추출하여 키를 조사하였더니 평균 `167cm`라고 할 때, 이 고등 학교 학생 전체의 키의 평균을 `95%`의 신뢰도로 추정하면? =0.95`)                                                                           \n",
       "9379               두 사건 `A`, `B`가 서로 독립일 때, 보 중 옳은 것만을 있는 대로 고른 것은?    보  `확률함수(A∩B)=확률함수(A)확률함수(B)`  `(A여집합|B)=5/6`이면 `확률함수(A)=1/6`  `확률함수(A∪B)=확률함수(A)+확률함수(B)`                                                                       \n",
       "9433               두 사건 `A`, `B`에 대하여 `확률함수(A여집합) = 3/5`, `확률함수(A여집합 ∩ B여집합) = 1/5`, `확률함수(B조건부확률|A)=1/2`일 때, `확률함수(A조건부확률|B)`의 값은?                                                                                                     \n",
       "9318               정규분포에 따르는 확률변수 `X`에 대하여 `확률함수(절대값|X절대값|≤63)=0.6826`일 때, 상수 `m`의 값은?                                                                                                                                                  \n",
       "9447               두 사건 `A`, `B`에 대하여 `확률함수(A) = 1/4`, `확률함수(B) = 1/2`, `확률함수(B조건부확률|A)=1/3`일 때, `확률함수(B여집합조건부확률|A여집합)`을 구하여라.                                                                                                          \n",
       "9424               두 사건 `A`, `B`에 대하여 `확률함수(B)=1/3`, `확률함수(A∪B)=2/3`, `확률함수(A조건부확률|B)=1/2`일 때, `확률함수(A조건부확률|B여집합)`을 구하면?                                                                                                                \n",
       "9435               두 사건 `A`, `B`에 대하여 `확률함수(A)=1/3`, `확률함수(B)=2/5`, `확률함수(A절대값|B)+확률함수(B절대값|A)=11/12`일 때, `확률함수(A∩B)`를 구하면?                                                                                                             \n",
       "9093               어느 나라의 성인들이 일주일 동안 섭취한 커피 속의 카페인의 양은 모평균이 `m`, 모표준편차가 `120`인 정규분포를 따른다고 한다. 이 나라의 성인 중 `n`명을 임의추출하여 신뢰도 `95%`로 추정한 모평균 `m`에 대한 신뢰구간이 `560.8 ≤ m ≤ 639.2`일 때, `n`의 값은? =0.95`로 계산한다.)                                 \n",
       "9146               정규분포을 따르는 모집단에서 임의추출한 크기가 `64`인 표본의 표본평균이 `32`일 때, 모평균 `m`의 신뢰도 `95%`의 신뢰구간은? =0.95`)                                                                                                                                \n",
       "9092               어느 대학교의 논술고사 점수는 모표준편차가 `10`인 정규분포를 따른다고 한다. 논술고사를 응시한 학생 중 `n`명을 임의추출하여 신뢰도 `95%`로 모평균을 추정할 때, 신뢰구간의 길이가 `5` 이하가 되도록 하는 `n`의 최솟값은? =0.95`로 계산한다.)                                                                   \n",
       "9635               표준편차가 `20`인 정규분포를 따르는 모집단에서 크기가 `n`인 표본을 임의추출하여 모평균을 신뢰도 `99%`로 추정할 때, 모평균과 표본평균의 차가 `10` 이하가 되도록 하는 `n`의 최솟값은? =0.99`)                                                                                              \n",
       "9082               모평균 `m`, 모분산 `3`인 정규분포를 따르는 모집단에서 크기 `n`인 표본을 임의추출하여 얻은 표본평균을 ` bar X`라고 하자. `절대값| bar X=m절대값| < 1/5`일 확률이 `0.95` 이상이 되게 하려면 표본의 크기 `n`은 최소 얼마로 해야 하는지 구하면? =0.95`)                                                  \n",
       "\n",
       "                         qtid                name       subtitle  \\\n",
       "qplay_question_id                                                  \n",
       "9143               HSTA-07-07  모평균의 추정 (1)         모표준편차가 주어진 경우   \n",
       "9744               HSTA-07-09  모평균의 추정 (3)         표본의 크기 계산하기     \n",
       "9115               HSTA-07-10  신뢰구간의 길이 (1)        NaN             \n",
       "9150               HSTA-07-05  표본평균의 확률 (2)        표본의 크기 계산하기     \n",
       "9727               HSTA-03-01  시행과 사건              NaN             \n",
       "8008               HSTA-07-07  모평균의 추정 (1)         모표준편차가 주어진 경우   \n",
       "9537               HSTA-02-09  이항계수의 성질            NaN             \n",
       "9686               HSTA-07-10  신뢰구간의 길이 (1)        NaN             \n",
       "7791               HSTA-07-07  모평균의 추정 (1)         모표준편차가 주어진 경우   \n",
       "9379               HSTA-04-07  사건의 독립과 종속의 성질      NaN             \n",
       "9433               HSTA-04-01  조건부확률의 계산           NaN             \n",
       "9318               HSTA-06-07  표준화를 이용한 미지수의 값 계산  NaN             \n",
       "9447               HSTA-04-01  조건부확률의 계산           NaN             \n",
       "9424               HSTA-04-01  조건부확률의 계산           NaN             \n",
       "9435               HSTA-04-01  조건부확률의 계산           NaN             \n",
       "9093               HSTA-07-11  신뢰구간의 길이 (2)        표본의 크기 계산하기     \n",
       "9146               HSTA-07-07  모평균의 추정 (1)         모표준편차가 주어진 경우   \n",
       "9092               HSTA-07-11  신뢰구간의 길이 (2)        표본의 크기 계산하기     \n",
       "9635               HSTA-07-13  모평균과 표본평균의 차        NaN             \n",
       "9082               HSTA-07-13  모평균과 표본평균의 차        NaN             \n",
       "\n",
       "                   question_difficulty  question_type_difficulty  grade  \\\n",
       "qplay_question_id                                                         \n",
       "9143               3                    3.0                       10      \n",
       "9744               3                    3.0                       10      \n",
       "9115               3                    2.0                       10      \n",
       "9150               3                    2.0                       10      \n",
       "9727               2                    1.0                       10      \n",
       "8008               3                    3.0                       10      \n",
       "9537               3                    3.0                       10      \n",
       "9686               3                    2.0                       10      \n",
       "7791               3                    3.0                       10      \n",
       "9379               3                    2.0                       10      \n",
       "9433               3                    2.0                       10      \n",
       "9318               3                    2.0                       10      \n",
       "9447               3                    2.0                       10      \n",
       "9424               3                    2.0                       10      \n",
       "9435               3                    2.0                       10      \n",
       "9093               3                    3.0                       10      \n",
       "9146               3                    3.0                       10      \n",
       "9092               3                    3.0                       10      \n",
       "9635               3                    3.0                       10      \n",
       "9082               3                    3.0                       10      \n",
       "\n",
       "                  purpose  \n",
       "qplay_question_id          \n",
       "9143               open    \n",
       "9744               open    \n",
       "9115               open    \n",
       "9150               open    \n",
       "9727               open    \n",
       "8008               open    \n",
       "9537               open    \n",
       "9686               open    \n",
       "7791               open    \n",
       "9379               open    \n",
       "9433               open    \n",
       "9318               open    \n",
       "9447               open    \n",
       "9424               open    \n",
       "9435               open    \n",
       "9093               open    \n",
       "9146               open    \n",
       "9092               open    \n",
       "9635               open    \n",
       "9082               open    "
      ],
      "text/html": "<div>\n<style scoped>\n    .dataframe tbody tr th:only-of-type {\n        vertical-align: middle;\n    }\n\n    .dataframe tbody tr th {\n        vertical-align: top;\n    }\n\n    .dataframe thead th {\n        text-align: right;\n    }\n</style>\n<table border=\"1\" class=\"dataframe\">\n  <thead>\n    <tr style=\"text-align: right;\">\n      <th></th>\n      <th>text</th>\n      <th>qtid</th>\n      <th>name</th>\n      <th>subtitle</th>\n      <th>question_difficulty</th>\n      <th>question_type_difficulty</th>\n      <th>grade</th>\n      <th>purpose</th>\n    </tr>\n    <tr>\n      <th>qplay_question_id</th>\n      <th></th>\n      <th></th>\n      <th></th>\n      <th></th>\n      <th></th>\n      <th></th>\n      <th></th>\n      <th></th>\n    </tr>\n  </thead>\n  <tbody>\n    <tr>\n      <th>9143</th>\n      <td>어느 고등학교 `2`학년 학생들의 키는 표준편차가 `10cm`인 정규분포를 따른다고 한다. 이 고등학교 `2`학년 학생 중 `64`명을 임의추출하여 키를 조사하였더니 평균이 `160cm`이었다. 이 고등학교 `2`학년 전체 학생의 키의 평균 `m`에 대한 신뢰도 `95%`의 신뢰구간을 `l`이라 하자. `10l`의 값을 구하여라. =0.95`)</td>\n      <td>HSTA-07-07</td>\n      <td>모평균의 추정 (1)</td>\n      <td>모표준편차가 주어진 경우</td>\n      <td>3</td>\n      <td>3.0</td>\n      <td>10</td>\n      <td>open</td>\n    </tr>\n    <tr>\n      <th>9744</th>\n      <td>어느 공장에서 만드는 제품 한 개의 무게는 표준편차가 `5g`인 정규분포를 따른다고 한다. 이 공장에서 만든 제품 중에서 `n`개를 임의추출하여 그 무게를 조사하였더니 평균이 `30g`이었다. 이 공장에서 만드는 제품의 평균 무게 `mg`을 신뢰도 `99%`로 추정한 신뢰구간이 `27.85 ≤ m ≤ 32.15`일 때, `n`의 값은? =0.99`)</td>\n      <td>HSTA-07-09</td>\n      <td>모평균의 추정 (3)</td>\n      <td>표본의 크기 계산하기</td>\n      <td>3</td>\n      <td>3.0</td>\n      <td>10</td>\n      <td>open</td>\n    </tr>\n    <tr>\n      <th>9115</th>\n      <td>표준편차가 `sigma`인 정규분포를 따르는 어느 모집단에서 크기가 `n` 인 표본을 임의추출한 신뢰도 `95%`의 신뢰구간의 길이가 `l`일 때, 크기가 `16n`인 표본을 임의추출하여 추정한 신뢰도 `95%`의 신뢰구간의 길이는? =0.95`로 계산한다.)</td>\n      <td>HSTA-07-10</td>\n      <td>신뢰구간의 길이 (1)</td>\n      <td>NaN</td>\n      <td>3</td>\n      <td>2.0</td>\n      <td>10</td>\n      <td>open</td>\n    </tr>\n    <tr>\n      <th>9150</th>\n      <td>정규분포을 따르는 모집단에서 크기가 `n`인 표본을 임의추출할 때, 그 표본평균을 ` bar X`라고 하자. `확률함수(29 ≤ bar  X ≤ 31)=0.95`를 만족하는 `n`의 값은? =0.95`)</td>\n      <td>HSTA-07-05</td>\n      <td>표본평균의 확률 (2)</td>\n      <td>표본의 크기 계산하기</td>\n      <td>3</td>\n      <td>2.0</td>\n      <td>10</td>\n      <td>open</td>\n    </tr>\n    <tr>\n      <th>9727</th>\n      <td>표본공간 `S={x조건제시법|x`는 10 이하의 자연수`}`에 대하여, 두 사건 `A`, `B`가 `A={x조건제시법|x`는 `절대값|x절대값| ≤ 6`인 자연수`}`, `B={x조건제시법|x`는 소수`}`일 때, 표본공간 `S`의 사건 중에서 `A`, `B`와 모두 배반사건인 것은 `n`개이다. 자연수 `n`의 값을 구하시오.</td>\n      <td>HSTA-03-01</td>\n      <td>시행과 사건</td>\n      <td>NaN</td>\n      <td>2</td>\n      <td>1.0</td>\n      <td>10</td>\n      <td>open</td>\n    </tr>\n    <tr>\n      <th>8008</th>\n      <td>어느 고등 학교 학생의 `1`인당 연간 독서량은 표준편차가 `6`권인 정규분포를 따른다. 학생 중 임의로 `n`명을 뽑아 조사한 `1`인당 연간 독서량의 평균이 `10`권일 때, 전체 학생의 `1`인당 연간 독서량의 평균 `m`을 신뢰도 `95%`로 추정한 신뢰구간이 `8 ≤ m ≤ 12`이었다. 이 때, 표본의 크기 `n`의 값을 구하여라. =0.95`)</td>\n      <td>HSTA-07-07</td>\n      <td>모평균의 추정 (1)</td>\n      <td>모표준편차가 주어진 경우</td>\n      <td>3</td>\n      <td>3.0</td>\n      <td>10</td>\n      <td>open</td>\n    </tr>\n    <tr>\n      <th>9537</th>\n      <td>집합 `A={x조건제시법|x`는 `12` 이하의 자연수`}`의 부분집합 중 원소의 개수가 홀수인 것의 개수는?</td>\n      <td>HSTA-02-09</td>\n      <td>이항계수의 성질</td>\n      <td>NaN</td>\n      <td>3</td>\n      <td>3.0</td>\n      <td>10</td>\n      <td>open</td>\n    </tr>\n    <tr>\n      <th>9686</th>\n      <td>어느 과수원에서 생산하는 사과 한 개의 무게는 모평균이 `m`, 모표준편차가 `10`인 정규분포를 따른다고 한다. 이 과수원에서 생산하는 사과의 무게를 조사하기 위하여 임의로 `64`개를 택하여 조사하였다. 이 과수원에서 생산하는 사과 한 개의 무게의 모평균 `m`에 대한 신뢰도 `95%`의 신뢰구간이 `a ≤ m ≤b`일 때, `b-a`의 값은? =0.95`로 계산한다.)</td>\n      <td>HSTA-07-10</td>\n      <td>신뢰구간의 길이 (1)</td>\n      <td>NaN</td>\n      <td>3</td>\n      <td>2.0</td>\n      <td>10</td>\n      <td>open</td>\n    </tr>\n    <tr>\n      <th>7791</th>\n      <td>어느 고등 학교 학생 전체의 키의 표준편차는 `5cm`라고 한다. 이 학교의 학생 중 `100`명을 임의추출하여 키를 조사하였더니 평균 `167cm`라고 할 때, 이 고등 학교 학생 전체의 키의 평균을 `95%`의 신뢰도로 추정하면? =0.95`)</td>\n      <td>HSTA-07-07</td>\n      <td>모평균의 추정 (1)</td>\n      <td>모표준편차가 주어진 경우</td>\n      <td>3</td>\n      <td>3.0</td>\n      <td>10</td>\n      <td>open</td>\n    </tr>\n    <tr>\n      <th>9379</th>\n      <td>두 사건 `A`, `B`가 서로 독립일 때, 보 중 옳은 것만을 있는 대로 고른 것은?    보  `확률함수(A∩B)=확률함수(A)확률함수(B)`  `(A여집합|B)=5/6`이면 `확률함수(A)=1/6`  `확률함수(A∪B)=확률함수(A)+확률함수(B)`</td>\n      <td>HSTA-04-07</td>\n      <td>사건의 독립과 종속의 성질</td>\n      <td>NaN</td>\n      <td>3</td>\n      <td>2.0</td>\n      <td>10</td>\n      <td>open</td>\n    </tr>\n    <tr>\n      <th>9433</th>\n      <td>두 사건 `A`, `B`에 대하여 `확률함수(A여집합) = 3/5`, `확률함수(A여집합 ∩ B여집합) = 1/5`, `확률함수(B조건부확률|A)=1/2`일 때, `확률함수(A조건부확률|B)`의 값은?</td>\n      <td>HSTA-04-01</td>\n      <td>조건부확률의 계산</td>\n      <td>NaN</td>\n      <td>3</td>\n      <td>2.0</td>\n      <td>10</td>\n      <td>open</td>\n    </tr>\n    <tr>\n      <th>9318</th>\n      <td>정규분포에 따르는 확률변수 `X`에 대하여 `확률함수(절대값|X절대값|≤63)=0.6826`일 때, 상수 `m`의 값은?</td>\n      <td>HSTA-06-07</td>\n      <td>표준화를 이용한 미지수의 값 계산</td>\n      <td>NaN</td>\n      <td>3</td>\n      <td>2.0</td>\n      <td>10</td>\n      <td>open</td>\n    </tr>\n    <tr>\n      <th>9447</th>\n      <td>두 사건 `A`, `B`에 대하여 `확률함수(A) = 1/4`, `확률함수(B) = 1/2`, `확률함수(B조건부확률|A)=1/3`일 때, `확률함수(B여집합조건부확률|A여집합)`을 구하여라.</td>\n      <td>HSTA-04-01</td>\n      <td>조건부확률의 계산</td>\n      <td>NaN</td>\n      <td>3</td>\n      <td>2.0</td>\n      <td>10</td>\n      <td>open</td>\n    </tr>\n    <tr>\n      <th>9424</th>\n      <td>두 사건 `A`, `B`에 대하여 `확률함수(B)=1/3`, `확률함수(A∪B)=2/3`, `확률함수(A조건부확률|B)=1/2`일 때, `확률함수(A조건부확률|B여집합)`을 구하면?</td>\n      <td>HSTA-04-01</td>\n      <td>조건부확률의 계산</td>\n      <td>NaN</td>\n      <td>3</td>\n      <td>2.0</td>\n      <td>10</td>\n      <td>open</td>\n    </tr>\n    <tr>\n      <th>9435</th>\n      <td>두 사건 `A`, `B`에 대하여 `확률함수(A)=1/3`, `확률함수(B)=2/5`, `확률함수(A절대값|B)+확률함수(B절대값|A)=11/12`일 때, `확률함수(A∩B)`를 구하면?</td>\n      <td>HSTA-04-01</td>\n      <td>조건부확률의 계산</td>\n      <td>NaN</td>\n      <td>3</td>\n      <td>2.0</td>\n      <td>10</td>\n      <td>open</td>\n    </tr>\n    <tr>\n      <th>9093</th>\n      <td>어느 나라의 성인들이 일주일 동안 섭취한 커피 속의 카페인의 양은 모평균이 `m`, 모표준편차가 `120`인 정규분포를 따른다고 한다. 이 나라의 성인 중 `n`명을 임의추출하여 신뢰도 `95%`로 추정한 모평균 `m`에 대한 신뢰구간이 `560.8 ≤ m ≤ 639.2`일 때, `n`의 값은? =0.95`로 계산한다.)</td>\n      <td>HSTA-07-11</td>\n      <td>신뢰구간의 길이 (2)</td>\n      <td>표본의 크기 계산하기</td>\n      <td>3</td>\n      <td>3.0</td>\n      <td>10</td>\n      <td>open</td>\n    </tr>\n    <tr>\n      <th>9146</th>\n      <td>정규분포을 따르는 모집단에서 임의추출한 크기가 `64`인 표본의 표본평균이 `32`일 때, 모평균 `m`의 신뢰도 `95%`의 신뢰구간은? =0.95`)</td>\n      <td>HSTA-07-07</td>\n      <td>모평균의 추정 (1)</td>\n      <td>모표준편차가 주어진 경우</td>\n      <td>3</td>\n      <td>3.0</td>\n      <td>10</td>\n      <td>open</td>\n    </tr>\n    <tr>\n      <th>9092</th>\n      <td>어느 대학교의 논술고사 점수는 모표준편차가 `10`인 정규분포를 따른다고 한다. 논술고사를 응시한 학생 중 `n`명을 임의추출하여 신뢰도 `95%`로 모평균을 추정할 때, 신뢰구간의 길이가 `5` 이하가 되도록 하는 `n`의 최솟값은? =0.95`로 계산한다.)</td>\n      <td>HSTA-07-11</td>\n      <td>신뢰구간의 길이 (2)</td>\n      <td>표본의 크기 계산하기</td>\n      <td>3</td>\n      <td>3.0</td>\n      <td>10</td>\n      <td>open</td>\n    </tr>\n    <tr>\n      <th>9635</th>\n      <td>표준편차가 `20`인 정규분포를 따르는 모집단에서 크기가 `n`인 표본을 임의추출하여 모평균을 신뢰도 `99%`로 추정할 때, 모평균과 표본평균의 차가 `10` 이하가 되도록 하는 `n`의 최솟값은? =0.99`)</td>\n      <td>HSTA-07-13</td>\n      <td>모평균과 표본평균의 차</td>\n      <td>NaN</td>\n      <td>3</td>\n      <td>3.0</td>\n      <td>10</td>\n      <td>open</td>\n    </tr>\n    <tr>\n      <th>9082</th>\n      <td>모평균 `m`, 모분산 `3`인 정규분포를 따르는 모집단에서 크기 `n`인 표본을 임의추출하여 얻은 표본평균을 ` bar X`라고 하자. `절대값| bar X=m절대값| &lt; 1/5`일 확률이 `0.95` 이상이 되게 하려면 표본의 크기 `n`은 최소 얼마로 해야 하는지 구하면? =0.95`)</td>\n      <td>HSTA-07-13</td>\n      <td>모평균과 표본평균의 차</td>\n      <td>NaN</td>\n      <td>3</td>\n      <td>3.0</td>\n      <td>10</td>\n      <td>open</td>\n    </tr>\n  </tbody>\n</table>\n</div>"
     },
     "metadata": {},
     "execution_count": 49
    }
   ],
   "source": [
    "df_test_pipe_lookup[df_test_pipe_lookup[\"qtid\"].str.startswith(\"HSTA\")].sample(20)"
   ]
  },
  {
   "cell_type": "code",
   "execution_count": 47,
   "metadata": {},
   "outputs": [
    {
     "output_type": "execute_result",
     "data": {
      "text/plain": [
       "                                                                                                                                                                      text\n",
       "1979  표본공간 `S={x|x`는 10 이하의 자연수`}`에 대하여, 두 사건 `A`, `B`가 `A={x|x`는 `|x| <= 6`인 자연수`}`, `B={x|x`는 소수`}`일 때, 표본공간 `S`의 사건 중에서 `A`, `B`와 모두 배반사건인 것은 `n`개이다. 자연수 `n`의 값을 구하시오."
      ],
      "text/html": "<div>\n<style scoped>\n    .dataframe tbody tr th:only-of-type {\n        vertical-align: middle;\n    }\n\n    .dataframe tbody tr th {\n        vertical-align: top;\n    }\n\n    .dataframe thead th {\n        text-align: right;\n    }\n</style>\n<table border=\"1\" class=\"dataframe\">\n  <thead>\n    <tr style=\"text-align: right;\">\n      <th></th>\n      <th>text</th>\n    </tr>\n  </thead>\n  <tbody>\n    <tr>\n      <th>1979</th>\n      <td>표본공간 `S={x|x`는 10 이하의 자연수`}`에 대하여, 두 사건 `A`, `B`가 `A={x|x`는 `|x| &lt;= 6`인 자연수`}`, `B={x|x`는 소수`}`일 때, 표본공간 `S`의 사건 중에서 `A`, `B`와 모두 배반사건인 것은 `n`개이다. 자연수 `n`의 값을 구하시오.</td>\n    </tr>\n  </tbody>\n</table>\n</div>"
     },
     "metadata": {},
     "execution_count": 47
    }
   ],
   "source": [
    "df_train.loc[df_train[\"qplay_question_id\"] == 9727][[\"text\"]]"
   ]
  },
  {
   "cell_type": "code",
   "execution_count": 34,
   "metadata": {},
   "outputs": [
    {
     "output_type": "execute_result",
     "data": {
      "text/plain": [
       "                                                                         text\n",
       "2739  정규분포 `N(m, 9)`에 따르는 확률변수 `X`에 대하여 `P(|X| <= 63)=0.6826`일 때, 상수 `m`의 값은?"
      ],
      "text/html": "<div>\n<style scoped>\n    .dataframe tbody tr th:only-of-type {\n        vertical-align: middle;\n    }\n\n    .dataframe tbody tr th {\n        vertical-align: top;\n    }\n\n    .dataframe thead th {\n        text-align: right;\n    }\n</style>\n<table border=\"1\" class=\"dataframe\">\n  <thead>\n    <tr style=\"text-align: right;\">\n      <th></th>\n      <th>text</th>\n    </tr>\n  </thead>\n  <tbody>\n    <tr>\n      <th>2739</th>\n      <td>정규분포 `N(m, 9)`에 따르는 확률변수 `X`에 대하여 `P(|X| &lt;= 63)=0.6826`일 때, 상수 `m`의 값은?</td>\n    </tr>\n  </tbody>\n</table>\n</div>"
     },
     "metadata": {},
     "execution_count": 34
    }
   ],
   "source": [
    "df_train.loc[df_train[\"qplay_question_id\"] == 9318][[\"text\"]]"
   ]
  },
  {
   "cell_type": "code",
   "execution_count": 35,
   "metadata": {},
   "outputs": [
    {
     "output_type": "execute_result",
     "data": {
      "text/plain": [
       "text    정규분포에 따르는 확률변수 `X`에 대하여 `확률함수(절대값|X절대값|≤63)=0.6826`일 때, 상수 `m`의 값은?\n",
       "Name: 9318, dtype: object"
      ]
     },
     "metadata": {},
     "execution_count": 35
    }
   ],
   "source": [
    "df_test_pipe_lookup.loc[9318][[\"text\"]]"
   ]
  },
  {
   "cell_type": "code",
   "execution_count": 36,
   "metadata": {},
   "outputs": [
    {
     "output_type": "execute_result",
     "data": {
      "text/plain": [
       "                                                                                                                  text\n",
       "548  정규분포 `N(m ,4^2)`을 따르는 모집단에서 임의추출한 크기가 `64`인 표본의 표본평균이 `32`일 때, 모평균 `m`의 신뢰도 `95%`의 신뢰구간은? (단, `P(|Z| <= 2)=0.95`)"
      ],
      "text/html": "<div>\n<style scoped>\n    .dataframe tbody tr th:only-of-type {\n        vertical-align: middle;\n    }\n\n    .dataframe tbody tr th {\n        vertical-align: top;\n    }\n\n    .dataframe thead th {\n        text-align: right;\n    }\n</style>\n<table border=\"1\" class=\"dataframe\">\n  <thead>\n    <tr style=\"text-align: right;\">\n      <th></th>\n      <th>text</th>\n    </tr>\n  </thead>\n  <tbody>\n    <tr>\n      <th>548</th>\n      <td>정규분포 `N(m ,4^2)`을 따르는 모집단에서 임의추출한 크기가 `64`인 표본의 표본평균이 `32`일 때, 모평균 `m`의 신뢰도 `95%`의 신뢰구간은? (단, `P(|Z| &lt;= 2)=0.95`)</td>\n    </tr>\n  </tbody>\n</table>\n</div>"
     },
     "metadata": {},
     "execution_count": 36
    }
   ],
   "source": [
    "df_train.loc[df_train[\"qplay_question_id\"] == 9146][[\"text\"]]"
   ]
  },
  {
   "cell_type": "code",
   "execution_count": 37,
   "metadata": {},
   "outputs": [
    {
     "output_type": "execute_result",
     "data": {
      "text/plain": [
       "text    정규분포을 따르는 모집단에서 임의추출한 크기가 `64`인 표본의 표본평균이 `32`일 때, 모평균 `m`의 신뢰도 `95%`의 신뢰구간은? =0.95`)\n",
       "Name: 9146, dtype: object"
      ]
     },
     "metadata": {},
     "execution_count": 37
    }
   ],
   "source": [
    "df_test_pipe.loc[9146][[\"text\"]]"
   ]
  },
  {
   "cell_type": "code",
   "execution_count": 38,
   "metadata": {},
   "outputs": [
    {
     "output_type": "stream",
     "name": "stdout",
     "text": [
      "['`확률함수(|Z|', '<=', '2)=0.95']\n`확률함수(|Z|\n<=\n2)=0.95\n"
     ]
    },
    {
     "output_type": "execute_result",
     "data": {
      "text/plain": [
       "'정규분포 `N(m ,4^2)`을 따르는 모집단에서 임의추출한 크기가 `64`인 표본의 표본평균이 `32`일 때, 모평균 `m`의 신뢰도 `95%`의 신뢰구간은? (단, `확률함수(절대값|Z절대값|<=2)=0.95`)'"
      ]
     },
     "metadata": {},
     "execution_count": 38
    }
   ],
   "source": [
    "problem_text = \"정규분포 `N(m ,4^2)`을 따르는 모집단에서 임의추출한 크기가 `64`인 표본의 표본평균이 `32`일 때, 모평균 `m`의 신뢰도 `95%`의 신뢰구간은? (단, `확률함수(|Z| <= 2)=0.95`)\"\n",
    "main_replace_pipe(problem_text)"
   ]
  },
  {
   "cell_type": "code",
   "execution_count": null,
   "metadata": {},
   "outputs": [],
   "source": []
  },
  {
   "cell_type": "code",
   "execution_count": null,
   "metadata": {},
   "outputs": [],
   "source": []
  },
  {
   "cell_type": "code",
   "execution_count": null,
   "metadata": {},
   "outputs": [],
   "source": []
  },
  {
   "cell_type": "code",
   "execution_count": 39,
   "metadata": {},
   "outputs": [],
   "source": [
    "df_eval_test_pipe = preprocess(df_eval, korean=True, space=True, condition=True)"
   ]
  }
 ],
 "metadata": {
  "kernelspec": {
   "name": "python3",
   "display_name": "Python 3.8.3 64-bit ('math_nlp')",
   "metadata": {
    "interpreter": {
     "hash": "b0342785599f483fbf2673039d90c9d8e5c499f0db3bc16fe29e86731d39d362"
    }
   }
  },
  "language_info": {
   "codemirror_mode": {
    "name": "ipython",
    "version": 3
   },
   "file_extension": ".py",
   "mimetype": "text/x-python",
   "name": "python",
   "nbconvert_exporter": "python",
   "pygments_lexer": "ipython3",
   "version": "3.8.3-final"
  }
 },
 "nbformat": 4,
 "nbformat_minor": 4
}