{
 "metadata": {
  "language_info": {
   "codemirror_mode": {
    "name": "ipython",
    "version": 3
   },
   "file_extension": ".py",
   "mimetype": "text/x-python",
   "name": "python",
   "nbconvert_exporter": "python",
   "pygments_lexer": "ipython3",
   "version": "3.8.3-final"
  },
  "orig_nbformat": 2,
  "kernelspec": {
   "name": "python3",
   "display_name": "Python 3.8.3 64-bit ('math_nlp')",
   "metadata": {
    "interpreter": {
     "hash": "b0342785599f483fbf2673039d90c9d8e5c499f0db3bc16fe29e86731d39d362"
    }
   }
  }
 },
 "nbformat": 4,
 "nbformat_minor": 2,
 "cells": [
  {
   "cell_type": "code",
   "execution_count": 1,
   "metadata": {},
   "outputs": [],
   "source": [
    "import pandas as pd\n",
    "import numpy as np\n",
    "import re"
   ]
  },
  {
   "cell_type": "code",
   "execution_count": 2,
   "metadata": {},
   "outputs": [
    {
     "output_type": "execute_result",
     "data": {
      "text/plain": [
       "'1.1.4'"
      ]
     },
     "metadata": {},
     "execution_count": 2
    }
   ],
   "source": [
    "# pandas 설정: 각 column 별 (혹은 한 cell에서) 출력되는 글자수 제한을 없애기\n",
    "pd.set_option('display.max_colwidth', -1)\n",
    "pd.__version__"
   ]
  },
  {
   "cell_type": "code",
   "execution_count": 3,
   "metadata": {},
   "outputs": [
    {
     "output_type": "execute_result",
     "data": {
      "text/plain": [
       "      qplay_question_id predict_category predict_middle_category  \\\n",
       "0     8548               HSU1-01-12       HSU1-01                  \n",
       "1     9148               HSTA-07-07       HSTA-07                  \n",
       "2     17608              H1S2-04-20       H1S2-04                  \n",
       "3     7788               HSU1-01-04       HSU1-01                  \n",
       "4     25275              H1S2-04-20       H1S2-04                  \n",
       "...     ...                     ...           ...                  \n",
       "1065  22282              HSU1-11-12       HSU1-11                  \n",
       "1066  4693               H1S1-11-08       H1S1-11                  \n",
       "1067  24849              H1S2-07-11       H1S2-07                  \n",
       "1068  3391               H1S1-11-17       H1S1-11                  \n",
       "1069  25253              H1S2-05-14       H1S2-05                  \n",
       "\n",
       "                                                                                                                                                                                                                                                                                  predict_probability  \\\n",
       "0     {'HSU1-01-12': -11.376259, 'HSU1-01-11': -13.564799, 'HSU1-01-10': -17.119465, 'H1S1-04-08': -18.028997, 'H1S2-05-11': -18.051655, 'H1S2-04-19': -18.181334, 'H1S2-05-03': -18.232037, 'H1S1-01-03': -18.64543, 'HSU1-03-01': -19.009594, 'H1S2-04-02': -19.121258, 'H1S2-05-05': -19.32013}      \n",
       "1     {'HSTA-07-07': -8.819035, 'HSTA-07-09': -9.240341, 'HSTA-07-10': -10.081232, 'HSTA-07-11': -13.904758, 'HSTA-07-08': -13.9349785, 'HSTA-07-05': -15.334319, 'HSTA-07-13': -15.531416, 'H1S1-02-12': -15.536122, 'HSTA-06-10': -16.00332, 'HSTA-02-07': -16.17024, 'HSTA-06-04': -16.40165}        \n",
       "2     {'H1S2-04-20': -11.012324, 'H1S2-04-19': -16.903236, 'H1S2-04-14': -17.586264, 'H1S2-04-10': -18.533783, 'H1S2-05-25': -19.170769, 'H1S2-04-16': -19.198435, 'H1S1-12-12': -19.301615, 'H1S2-04-15': -19.351856, 'H1S2-04-12': -19.612349, 'H1S1-02-07': -19.881647, 'H1S2-04-11': -20.07652}     \n",
       "3     {'HSU1-01-04': -17.317554, 'H1S1-09-03': -19.275858, 'HSU1-03-05': -19.289806, 'HSU1-01-02': -20.436504, 'HSU1-01-07': -21.663912, 'H1S1-10-02': -22.735518, 'HSTA-05-09': -22.835047, 'H1S1-09-11': -23.01901, 'H1S1-11-03': -23.068302, 'H1S2-07-15': -23.283081, 'H1S1-10-04': -23.606974}     \n",
       "4     {'H1S2-04-20': -11.5843115, 'H1S2-04-19': -12.056982, 'H1S2-04-10': -13.817684, 'H1S2-04-12': -14.2238035, 'H1S2-04-11': -15.567081, 'H1S2-06-14': -16.433693, 'H1S2-04-14': -17.520672, 'H1S2-05-25': -18.32765, 'H1S2-04-16': -19.267708, 'H1S2-04-13': -19.285646, 'H1S1-04-08': -19.891586}   \n",
       "...                                                                                                                                                                                                                                                                                               ...   \n",
       "1065  {'HSU1-11-12': -8.492875, 'H1S2-03-18': -8.78329, 'HSU1-11-11': -13.091569, 'H1S2-03-17': -14.731253, 'HSU1-02-09': -15.079092, 'H1S2-03-19': -15.252344, 'HSU1-11-13': -15.266082, 'H1S1-04-08': -15.358758, 'HSU1-11-06': -15.568064, 'H1S2-05-04': -16.099043, 'HSU1-10-06': -16.209307}       \n",
       "1066  {'H1S1-11-08': -10.096279, 'H1S1-11-09': -14.659082, 'H1S1-11-11': -17.246206, 'H1S1-11-10': -17.34268, 'H1S1-12-04': -18.34105, 'H1S1-09-05': -18.367018, 'H1S1-10-10': -18.452984, 'H1S1-02-06': -19.113699, 'H1S1-11-14': -19.15764, 'H1S1-01-04': -19.469738, 'H1S1-11-06': -19.644596}       \n",
       "1067  {'H1S2-07-11': -1.884048, 'H1S2-07-20': -2.383606, 'H1S2-07-10': -4.3870173, 'HSTA-03-03': -6.2709527, 'H1S2-07-14': -7.863308, 'HSTA-01-01': -8.188512, 'H1S2-07-07': -8.323971, 'HSTA-04-03': -8.563311, 'H1S2-07-12': -8.762451, 'HSTA-01-09': -8.838194, 'HSTA-01-04': -9.000531}             \n",
       "1068  {'H1S1-11-17': -13.7485, 'H1S1-11-16': -14.080412, 'H1S1-11-12': -14.629485, 'H1S1-11-05': -15.886945, 'H1S1-12-04': -16.623337, 'H1S1-11-18': -16.796282, 'H1S1-10-12': -16.945255, 'H1S1-12-07': -17.744617, 'H1S1-12-06': -17.863874, 'H1S1-10-10': -17.97471, 'H1S1-12-10': -17.990192}       \n",
       "1069  {'H1S2-05-14': -7.0314937, 'H1S2-05-24': -8.349267, 'H1S2-04-22': -10.024098, 'HSU1-03-03': -10.785341, 'H1S2-05-25': -10.807186, 'H1S2-05-19': -10.908193, 'H1S1-06-07': -11.553551, 'H1S1-02-02': -12.8166685, 'H1S1-02-01': -13.115969, 'H1S2-05-23': -13.355278, 'H1S2-05-02': -13.425956}    \n",
       "\n",
       "     true_category true_middle_category  \n",
       "0     HSU1-01-12    HSU1-01              \n",
       "1     HSTA-07-08    HSTA-07              \n",
       "2     H1S2-04-19    H1S2-04              \n",
       "3     HSU1-03-05    HSU1-03              \n",
       "4     H1S2-04-19    H1S2-04              \n",
       "...          ...        ...              \n",
       "1065  H1S2-03-18    H1S2-03              \n",
       "1066  H1S1-11-08    H1S1-11              \n",
       "1067  H1S2-07-11    H1S2-07              \n",
       "1068  H1S1-11-16    H1S1-11              \n",
       "1069  H1S2-05-20    H1S2-05              \n",
       "\n",
       "[1070 rows x 6 columns]"
      ],
      "text/html": "<div>\n<style scoped>\n    .dataframe tbody tr th:only-of-type {\n        vertical-align: middle;\n    }\n\n    .dataframe tbody tr th {\n        vertical-align: top;\n    }\n\n    .dataframe thead th {\n        text-align: right;\n    }\n</style>\n<table border=\"1\" class=\"dataframe\">\n  <thead>\n    <tr style=\"text-align: right;\">\n      <th></th>\n      <th>qplay_question_id</th>\n      <th>predict_category</th>\n      <th>predict_middle_category</th>\n      <th>predict_probability</th>\n      <th>true_category</th>\n      <th>true_middle_category</th>\n    </tr>\n  </thead>\n  <tbody>\n    <tr>\n      <th>0</th>\n      <td>8548</td>\n      <td>HSU1-01-12</td>\n      <td>HSU1-01</td>\n      <td>{'HSU1-01-12': -11.376259, 'HSU1-01-11': -13.564799, 'HSU1-01-10': -17.119465, 'H1S1-04-08': -18.028997, 'H1S2-05-11': -18.051655, 'H1S2-04-19': -18.181334, 'H1S2-05-03': -18.232037, 'H1S1-01-03': -18.64543, 'HSU1-03-01': -19.009594, 'H1S2-04-02': -19.121258, 'H1S2-05-05': -19.32013}</td>\n      <td>HSU1-01-12</td>\n      <td>HSU1-01</td>\n    </tr>\n    <tr>\n      <th>1</th>\n      <td>9148</td>\n      <td>HSTA-07-07</td>\n      <td>HSTA-07</td>\n      <td>{'HSTA-07-07': -8.819035, 'HSTA-07-09': -9.240341, 'HSTA-07-10': -10.081232, 'HSTA-07-11': -13.904758, 'HSTA-07-08': -13.9349785, 'HSTA-07-05': -15.334319, 'HSTA-07-13': -15.531416, 'H1S1-02-12': -15.536122, 'HSTA-06-10': -16.00332, 'HSTA-02-07': -16.17024, 'HSTA-06-04': -16.40165}</td>\n      <td>HSTA-07-08</td>\n      <td>HSTA-07</td>\n    </tr>\n    <tr>\n      <th>2</th>\n      <td>17608</td>\n      <td>H1S2-04-20</td>\n      <td>H1S2-04</td>\n      <td>{'H1S2-04-20': -11.012324, 'H1S2-04-19': -16.903236, 'H1S2-04-14': -17.586264, 'H1S2-04-10': -18.533783, 'H1S2-05-25': -19.170769, 'H1S2-04-16': -19.198435, 'H1S1-12-12': -19.301615, 'H1S2-04-15': -19.351856, 'H1S2-04-12': -19.612349, 'H1S1-02-07': -19.881647, 'H1S2-04-11': -20.07652}</td>\n      <td>H1S2-04-19</td>\n      <td>H1S2-04</td>\n    </tr>\n    <tr>\n      <th>3</th>\n      <td>7788</td>\n      <td>HSU1-01-04</td>\n      <td>HSU1-01</td>\n      <td>{'HSU1-01-04': -17.317554, 'H1S1-09-03': -19.275858, 'HSU1-03-05': -19.289806, 'HSU1-01-02': -20.436504, 'HSU1-01-07': -21.663912, 'H1S1-10-02': -22.735518, 'HSTA-05-09': -22.835047, 'H1S1-09-11': -23.01901, 'H1S1-11-03': -23.068302, 'H1S2-07-15': -23.283081, 'H1S1-10-04': -23.606974}</td>\n      <td>HSU1-03-05</td>\n      <td>HSU1-03</td>\n    </tr>\n    <tr>\n      <th>4</th>\n      <td>25275</td>\n      <td>H1S2-04-20</td>\n      <td>H1S2-04</td>\n      <td>{'H1S2-04-20': -11.5843115, 'H1S2-04-19': -12.056982, 'H1S2-04-10': -13.817684, 'H1S2-04-12': -14.2238035, 'H1S2-04-11': -15.567081, 'H1S2-06-14': -16.433693, 'H1S2-04-14': -17.520672, 'H1S2-05-25': -18.32765, 'H1S2-04-16': -19.267708, 'H1S2-04-13': -19.285646, 'H1S1-04-08': -19.891586}</td>\n      <td>H1S2-04-19</td>\n      <td>H1S2-04</td>\n    </tr>\n    <tr>\n      <th>...</th>\n      <td>...</td>\n      <td>...</td>\n      <td>...</td>\n      <td>...</td>\n      <td>...</td>\n      <td>...</td>\n    </tr>\n    <tr>\n      <th>1065</th>\n      <td>22282</td>\n      <td>HSU1-11-12</td>\n      <td>HSU1-11</td>\n      <td>{'HSU1-11-12': -8.492875, 'H1S2-03-18': -8.78329, 'HSU1-11-11': -13.091569, 'H1S2-03-17': -14.731253, 'HSU1-02-09': -15.079092, 'H1S2-03-19': -15.252344, 'HSU1-11-13': -15.266082, 'H1S1-04-08': -15.358758, 'HSU1-11-06': -15.568064, 'H1S2-05-04': -16.099043, 'HSU1-10-06': -16.209307}</td>\n      <td>H1S2-03-18</td>\n      <td>H1S2-03</td>\n    </tr>\n    <tr>\n      <th>1066</th>\n      <td>4693</td>\n      <td>H1S1-11-08</td>\n      <td>H1S1-11</td>\n      <td>{'H1S1-11-08': -10.096279, 'H1S1-11-09': -14.659082, 'H1S1-11-11': -17.246206, 'H1S1-11-10': -17.34268, 'H1S1-12-04': -18.34105, 'H1S1-09-05': -18.367018, 'H1S1-10-10': -18.452984, 'H1S1-02-06': -19.113699, 'H1S1-11-14': -19.15764, 'H1S1-01-04': -19.469738, 'H1S1-11-06': -19.644596}</td>\n      <td>H1S1-11-08</td>\n      <td>H1S1-11</td>\n    </tr>\n    <tr>\n      <th>1067</th>\n      <td>24849</td>\n      <td>H1S2-07-11</td>\n      <td>H1S2-07</td>\n      <td>{'H1S2-07-11': -1.884048, 'H1S2-07-20': -2.383606, 'H1S2-07-10': -4.3870173, 'HSTA-03-03': -6.2709527, 'H1S2-07-14': -7.863308, 'HSTA-01-01': -8.188512, 'H1S2-07-07': -8.323971, 'HSTA-04-03': -8.563311, 'H1S2-07-12': -8.762451, 'HSTA-01-09': -8.838194, 'HSTA-01-04': -9.000531}</td>\n      <td>H1S2-07-11</td>\n      <td>H1S2-07</td>\n    </tr>\n    <tr>\n      <th>1068</th>\n      <td>3391</td>\n      <td>H1S1-11-17</td>\n      <td>H1S1-11</td>\n      <td>{'H1S1-11-17': -13.7485, 'H1S1-11-16': -14.080412, 'H1S1-11-12': -14.629485, 'H1S1-11-05': -15.886945, 'H1S1-12-04': -16.623337, 'H1S1-11-18': -16.796282, 'H1S1-10-12': -16.945255, 'H1S1-12-07': -17.744617, 'H1S1-12-06': -17.863874, 'H1S1-10-10': -17.97471, 'H1S1-12-10': -17.990192}</td>\n      <td>H1S1-11-16</td>\n      <td>H1S1-11</td>\n    </tr>\n    <tr>\n      <th>1069</th>\n      <td>25253</td>\n      <td>H1S2-05-14</td>\n      <td>H1S2-05</td>\n      <td>{'H1S2-05-14': -7.0314937, 'H1S2-05-24': -8.349267, 'H1S2-04-22': -10.024098, 'HSU1-03-03': -10.785341, 'H1S2-05-25': -10.807186, 'H1S2-05-19': -10.908193, 'H1S1-06-07': -11.553551, 'H1S1-02-02': -12.8166685, 'H1S1-02-01': -13.115969, 'H1S2-05-23': -13.355278, 'H1S2-05-02': -13.425956}</td>\n      <td>H1S2-05-20</td>\n      <td>H1S2-05</td>\n    </tr>\n  </tbody>\n</table>\n<p>1070 rows × 6 columns</p>\n</div>"
     },
     "metadata": {},
     "execution_count": 3
    }
   ],
   "source": [
    "df = pd.read_csv(\"data/koelectra_result/KoElectra_small_class_epoch50_prob.csv\", encoding=\"utf-8\")\n",
    "df = df[[\"qplay_question_id\",\"predict_category\",\"predict_middle_category\",\"predict_probability\",\"true_category\",\"true_middle_category\"]]\n",
    "df"
   ]
  },
  {
   "cell_type": "code",
   "execution_count": 4,
   "metadata": {},
   "outputs": [],
   "source": [
    "# convert value's string type in column to dictionary\n",
    "import ast\n",
    "df['predict_probability'] = df['predict_probability'].apply(lambda x: ast.literal_eval(x))"
   ]
  },
  {
   "cell_type": "code",
   "execution_count": 5,
   "metadata": {},
   "outputs": [
    {
     "output_type": "stream",
     "name": "stdout",
     "text": [
      "{'H1S2-05-17': -10.327636, 'H1S2-06-08': -17.325796, 'H1S2-05-19': -17.458927, 'H1S2-06-01': -17.709557, 'H1S1-04-04': -17.88108, 'H1S1-06-06': -18.194096, 'H1S2-05-13': -18.474024, 'H1S2-06-11': -18.555866, 'H1S1-06-05': -18.659866, 'HSU1-03-07': -18.713749, 'H1S1-05-05': -18.79045}\n"
     ]
    }
   ],
   "source": [
    "import random\n",
    "index_no = random.randint(0, len(df))\n",
    "dict_sample = df[\"predict_probability\"].iloc[index_no]\n",
    "print(dict_sample)"
   ]
  },
  {
   "cell_type": "code",
   "execution_count": 6,
   "metadata": {},
   "outputs": [
    {
     "output_type": "stream",
     "name": "stdout",
     "text": [
      "['H1S2-05', 'H1S2-06', 'H1S2-05', 'H1S2-06', 'H1S1-04', 'H1S1-06', 'H1S2-05', 'H1S2-06', 'H1S1-06', 'HSU1-03', 'H1S1-05']\n"
     ]
    }
   ],
   "source": [
    "list_sample_ch = dict_sample.keys()\n",
    "list_sample_middle_ch = [w[:-3] for w in list_sample_ch]\n",
    "print(list_sample_middle_ch)"
   ]
  },
  {
   "cell_type": "code",
   "execution_count": 7,
   "metadata": {},
   "outputs": [
    {
     "output_type": "execute_result",
     "data": {
      "text/plain": [
       "'H1S2-05'"
      ]
     },
     "metadata": {},
     "execution_count": 7
    }
   ],
   "source": [
    "def most_frequent(List): \n",
    "    return max(set(List), key = List.count) \n",
    "\n",
    "def get_democracy(dict_sample):\n",
    "    list_sample_ch = dict_sample.keys()\n",
    "    list_sample_middle_ch = [w[:-3] for w in list_sample_ch]\n",
    "    str_frequent = most_frequent(list_sample_middle_ch)\n",
    "    return str_frequent\n",
    "\n",
    "get_democracy(dict_sample)"
   ]
  },
  {
   "cell_type": "code",
   "execution_count": 8,
   "metadata": {},
   "outputs": [
    {
     "output_type": "execute_result",
     "data": {
      "text/plain": [
       "5.33435032750443"
      ]
     },
     "metadata": {},
     "execution_count": 8
    }
   ],
   "source": [
    "import numpy as np\n",
    "\n",
    "def get_variance(dict_sample):\n",
    "    list_sample_loss = list(dict_sample.values())\n",
    "    variance = np.var(list_sample_loss)\n",
    "    return variance\n",
    "\n",
    "get_variance(dict_sample)"
   ]
  },
  {
   "cell_type": "code",
   "execution_count": 9,
   "metadata": {},
   "outputs": [
    {
     "output_type": "execute_result",
     "data": {
      "text/plain": [
       "-17.462822454545456"
      ]
     },
     "metadata": {},
     "execution_count": 9
    }
   ],
   "source": [
    "def get_mean(dict_sample):\n",
    "    list_sample_loss = list(dict_sample.values())\n",
    "    mean = np.mean(list_sample_loss)\n",
    "    return mean\n",
    "get_mean(dict_sample)"
   ]
  },
  {
   "cell_type": "code",
   "execution_count": 10,
   "metadata": {},
   "outputs": [],
   "source": [
    "import numpy as np\n",
    "\n",
    "def get_maximum(sample_dict):\n",
    "    list_sample_loss = list(sample_dict.values())\n",
    "    maximum = np.max(list_sample_loss)\n",
    "    return maximum"
   ]
  },
  {
   "cell_type": "code",
   "execution_count": 11,
   "metadata": {},
   "outputs": [
    {
     "output_type": "stream",
     "name": "stdout",
     "text": [
      "(1070, 10)\n"
     ]
    },
    {
     "output_type": "execute_result",
     "data": {
      "text/plain": [
       "      qplay_question_id predict_category predict_middle_category  \\\n",
       "0     8548               HSU1-01-12       HSU1-01                  \n",
       "1     9148               HSTA-07-07       HSTA-07                  \n",
       "2     17608              H1S2-04-20       H1S2-04                  \n",
       "3     7788               HSU1-01-04       HSU1-01                  \n",
       "4     25275              H1S2-04-20       H1S2-04                  \n",
       "...     ...                     ...           ...                  \n",
       "1065  22282              HSU1-11-12       HSU1-11                  \n",
       "1066  4693               H1S1-11-08       H1S1-11                  \n",
       "1067  24849              H1S2-07-11       H1S2-07                  \n",
       "1068  3391               H1S1-11-17       H1S1-11                  \n",
       "1069  25253              H1S2-05-14       H1S2-05                  \n",
       "\n",
       "                                                                                                                                                                                                                                                                                  predict_probability  \\\n",
       "0     {'HSU1-01-12': -11.376259, 'HSU1-01-11': -13.564799, 'HSU1-01-10': -17.119465, 'H1S1-04-08': -18.028997, 'H1S2-05-11': -18.051655, 'H1S2-04-19': -18.181334, 'H1S2-05-03': -18.232037, 'H1S1-01-03': -18.64543, 'HSU1-03-01': -19.009594, 'H1S2-04-02': -19.121258, 'H1S2-05-05': -19.32013}      \n",
       "1     {'HSTA-07-07': -8.819035, 'HSTA-07-09': -9.240341, 'HSTA-07-10': -10.081232, 'HSTA-07-11': -13.904758, 'HSTA-07-08': -13.9349785, 'HSTA-07-05': -15.334319, 'HSTA-07-13': -15.531416, 'H1S1-02-12': -15.536122, 'HSTA-06-10': -16.00332, 'HSTA-02-07': -16.17024, 'HSTA-06-04': -16.40165}        \n",
       "2     {'H1S2-04-20': -11.012324, 'H1S2-04-19': -16.903236, 'H1S2-04-14': -17.586264, 'H1S2-04-10': -18.533783, 'H1S2-05-25': -19.170769, 'H1S2-04-16': -19.198435, 'H1S1-12-12': -19.301615, 'H1S2-04-15': -19.351856, 'H1S2-04-12': -19.612349, 'H1S1-02-07': -19.881647, 'H1S2-04-11': -20.07652}     \n",
       "3     {'HSU1-01-04': -17.317554, 'H1S1-09-03': -19.275858, 'HSU1-03-05': -19.289806, 'HSU1-01-02': -20.436504, 'HSU1-01-07': -21.663912, 'H1S1-10-02': -22.735518, 'HSTA-05-09': -22.835047, 'H1S1-09-11': -23.01901, 'H1S1-11-03': -23.068302, 'H1S2-07-15': -23.283081, 'H1S1-10-04': -23.606974}     \n",
       "4     {'H1S2-04-20': -11.5843115, 'H1S2-04-19': -12.056982, 'H1S2-04-10': -13.817684, 'H1S2-04-12': -14.2238035, 'H1S2-04-11': -15.567081, 'H1S2-06-14': -16.433693, 'H1S2-04-14': -17.520672, 'H1S2-05-25': -18.32765, 'H1S2-04-16': -19.267708, 'H1S2-04-13': -19.285646, 'H1S1-04-08': -19.891586}   \n",
       "...                                                                                                                                                                                                                                                                                               ...   \n",
       "1065  {'HSU1-11-12': -8.492875, 'H1S2-03-18': -8.78329, 'HSU1-11-11': -13.091569, 'H1S2-03-17': -14.731253, 'HSU1-02-09': -15.079092, 'H1S2-03-19': -15.252344, 'HSU1-11-13': -15.266082, 'H1S1-04-08': -15.358758, 'HSU1-11-06': -15.568064, 'H1S2-05-04': -16.099043, 'HSU1-10-06': -16.209307}       \n",
       "1066  {'H1S1-11-08': -10.096279, 'H1S1-11-09': -14.659082, 'H1S1-11-11': -17.246206, 'H1S1-11-10': -17.34268, 'H1S1-12-04': -18.34105, 'H1S1-09-05': -18.367018, 'H1S1-10-10': -18.452984, 'H1S1-02-06': -19.113699, 'H1S1-11-14': -19.15764, 'H1S1-01-04': -19.469738, 'H1S1-11-06': -19.644596}       \n",
       "1067  {'H1S2-07-11': -1.884048, 'H1S2-07-20': -2.383606, 'H1S2-07-10': -4.3870173, 'HSTA-03-03': -6.2709527, 'H1S2-07-14': -7.863308, 'HSTA-01-01': -8.188512, 'H1S2-07-07': -8.323971, 'HSTA-04-03': -8.563311, 'H1S2-07-12': -8.762451, 'HSTA-01-09': -8.838194, 'HSTA-01-04': -9.000531}             \n",
       "1068  {'H1S1-11-17': -13.7485, 'H1S1-11-16': -14.080412, 'H1S1-11-12': -14.629485, 'H1S1-11-05': -15.886945, 'H1S1-12-04': -16.623337, 'H1S1-11-18': -16.796282, 'H1S1-10-12': -16.945255, 'H1S1-12-07': -17.744617, 'H1S1-12-06': -17.863874, 'H1S1-10-10': -17.97471, 'H1S1-12-10': -17.990192}       \n",
       "1069  {'H1S2-05-14': -7.0314937, 'H1S2-05-24': -8.349267, 'H1S2-04-22': -10.024098, 'HSU1-03-03': -10.785341, 'H1S2-05-25': -10.807186, 'H1S2-05-19': -10.908193, 'H1S1-06-07': -11.553551, 'H1S1-02-02': -12.8166685, 'H1S1-02-01': -13.115969, 'H1S2-05-23': -13.355278, 'H1S2-05-02': -13.425956}    \n",
       "\n",
       "     true_category true_middle_category frequent_prob  mean_prob  var_prob  \\\n",
       "0     HSU1-01-12    HSU1-01              HSU1-01      -17.331905  5.812408   \n",
       "1     HSTA-07-08    HSTA-07              HSTA-07      -13.723401  7.727426   \n",
       "2     H1S2-04-19    H1S2-04              H1S2-04      -18.238982  6.058112   \n",
       "3     HSU1-03-05    HSU1-03              HSU1-01      -21.502870  4.016087   \n",
       "4     H1S2-04-19    H1S2-04              H1S2-04      -16.179711  7.939232   \n",
       "...          ...        ...                  ...             ...       ...   \n",
       "1065  H1S2-03-18    H1S2-03              HSU1-11      -13.993789  6.984534   \n",
       "1066  H1S1-11-08    H1S1-11              H1S1-11      -17.444634  7.194505   \n",
       "1067  H1S2-07-11    H1S2-07              H1S2-07      -6.769627   6.463771   \n",
       "1068  H1S1-11-16    H1S1-11              H1S1-11      -16.389419  2.297384   \n",
       "1069  H1S2-05-20    H1S2-05              H1S2-05      -11.106636  3.928276   \n",
       "\n",
       "       max_prob  \n",
       "0    -11.376259  \n",
       "1    -8.819035   \n",
       "2    -11.012324  \n",
       "3    -17.317554  \n",
       "4    -11.584312  \n",
       "...         ...  \n",
       "1065 -8.492875   \n",
       "1066 -10.096279  \n",
       "1067 -1.884048   \n",
       "1068 -13.748500  \n",
       "1069 -7.031494   \n",
       "\n",
       "[1070 rows x 10 columns]"
      ],
      "text/html": "<div>\n<style scoped>\n    .dataframe tbody tr th:only-of-type {\n        vertical-align: middle;\n    }\n\n    .dataframe tbody tr th {\n        vertical-align: top;\n    }\n\n    .dataframe thead th {\n        text-align: right;\n    }\n</style>\n<table border=\"1\" class=\"dataframe\">\n  <thead>\n    <tr style=\"text-align: right;\">\n      <th></th>\n      <th>qplay_question_id</th>\n      <th>predict_category</th>\n      <th>predict_middle_category</th>\n      <th>predict_probability</th>\n      <th>true_category</th>\n      <th>true_middle_category</th>\n      <th>frequent_prob</th>\n      <th>mean_prob</th>\n      <th>var_prob</th>\n      <th>max_prob</th>\n    </tr>\n  </thead>\n  <tbody>\n    <tr>\n      <th>0</th>\n      <td>8548</td>\n      <td>HSU1-01-12</td>\n      <td>HSU1-01</td>\n      <td>{'HSU1-01-12': -11.376259, 'HSU1-01-11': -13.564799, 'HSU1-01-10': -17.119465, 'H1S1-04-08': -18.028997, 'H1S2-05-11': -18.051655, 'H1S2-04-19': -18.181334, 'H1S2-05-03': -18.232037, 'H1S1-01-03': -18.64543, 'HSU1-03-01': -19.009594, 'H1S2-04-02': -19.121258, 'H1S2-05-05': -19.32013}</td>\n      <td>HSU1-01-12</td>\n      <td>HSU1-01</td>\n      <td>HSU1-01</td>\n      <td>-17.331905</td>\n      <td>5.812408</td>\n      <td>-11.376259</td>\n    </tr>\n    <tr>\n      <th>1</th>\n      <td>9148</td>\n      <td>HSTA-07-07</td>\n      <td>HSTA-07</td>\n      <td>{'HSTA-07-07': -8.819035, 'HSTA-07-09': -9.240341, 'HSTA-07-10': -10.081232, 'HSTA-07-11': -13.904758, 'HSTA-07-08': -13.9349785, 'HSTA-07-05': -15.334319, 'HSTA-07-13': -15.531416, 'H1S1-02-12': -15.536122, 'HSTA-06-10': -16.00332, 'HSTA-02-07': -16.17024, 'HSTA-06-04': -16.40165}</td>\n      <td>HSTA-07-08</td>\n      <td>HSTA-07</td>\n      <td>HSTA-07</td>\n      <td>-13.723401</td>\n      <td>7.727426</td>\n      <td>-8.819035</td>\n    </tr>\n    <tr>\n      <th>2</th>\n      <td>17608</td>\n      <td>H1S2-04-20</td>\n      <td>H1S2-04</td>\n      <td>{'H1S2-04-20': -11.012324, 'H1S2-04-19': -16.903236, 'H1S2-04-14': -17.586264, 'H1S2-04-10': -18.533783, 'H1S2-05-25': -19.170769, 'H1S2-04-16': -19.198435, 'H1S1-12-12': -19.301615, 'H1S2-04-15': -19.351856, 'H1S2-04-12': -19.612349, 'H1S1-02-07': -19.881647, 'H1S2-04-11': -20.07652}</td>\n      <td>H1S2-04-19</td>\n      <td>H1S2-04</td>\n      <td>H1S2-04</td>\n      <td>-18.238982</td>\n      <td>6.058112</td>\n      <td>-11.012324</td>\n    </tr>\n    <tr>\n      <th>3</th>\n      <td>7788</td>\n      <td>HSU1-01-04</td>\n      <td>HSU1-01</td>\n      <td>{'HSU1-01-04': -17.317554, 'H1S1-09-03': -19.275858, 'HSU1-03-05': -19.289806, 'HSU1-01-02': -20.436504, 'HSU1-01-07': -21.663912, 'H1S1-10-02': -22.735518, 'HSTA-05-09': -22.835047, 'H1S1-09-11': -23.01901, 'H1S1-11-03': -23.068302, 'H1S2-07-15': -23.283081, 'H1S1-10-04': -23.606974}</td>\n      <td>HSU1-03-05</td>\n      <td>HSU1-03</td>\n      <td>HSU1-01</td>\n      <td>-21.502870</td>\n      <td>4.016087</td>\n      <td>-17.317554</td>\n    </tr>\n    <tr>\n      <th>4</th>\n      <td>25275</td>\n      <td>H1S2-04-20</td>\n      <td>H1S2-04</td>\n      <td>{'H1S2-04-20': -11.5843115, 'H1S2-04-19': -12.056982, 'H1S2-04-10': -13.817684, 'H1S2-04-12': -14.2238035, 'H1S2-04-11': -15.567081, 'H1S2-06-14': -16.433693, 'H1S2-04-14': -17.520672, 'H1S2-05-25': -18.32765, 'H1S2-04-16': -19.267708, 'H1S2-04-13': -19.285646, 'H1S1-04-08': -19.891586}</td>\n      <td>H1S2-04-19</td>\n      <td>H1S2-04</td>\n      <td>H1S2-04</td>\n      <td>-16.179711</td>\n      <td>7.939232</td>\n      <td>-11.584312</td>\n    </tr>\n    <tr>\n      <th>...</th>\n      <td>...</td>\n      <td>...</td>\n      <td>...</td>\n      <td>...</td>\n      <td>...</td>\n      <td>...</td>\n      <td>...</td>\n      <td>...</td>\n      <td>...</td>\n      <td>...</td>\n    </tr>\n    <tr>\n      <th>1065</th>\n      <td>22282</td>\n      <td>HSU1-11-12</td>\n      <td>HSU1-11</td>\n      <td>{'HSU1-11-12': -8.492875, 'H1S2-03-18': -8.78329, 'HSU1-11-11': -13.091569, 'H1S2-03-17': -14.731253, 'HSU1-02-09': -15.079092, 'H1S2-03-19': -15.252344, 'HSU1-11-13': -15.266082, 'H1S1-04-08': -15.358758, 'HSU1-11-06': -15.568064, 'H1S2-05-04': -16.099043, 'HSU1-10-06': -16.209307}</td>\n      <td>H1S2-03-18</td>\n      <td>H1S2-03</td>\n      <td>HSU1-11</td>\n      <td>-13.993789</td>\n      <td>6.984534</td>\n      <td>-8.492875</td>\n    </tr>\n    <tr>\n      <th>1066</th>\n      <td>4693</td>\n      <td>H1S1-11-08</td>\n      <td>H1S1-11</td>\n      <td>{'H1S1-11-08': -10.096279, 'H1S1-11-09': -14.659082, 'H1S1-11-11': -17.246206, 'H1S1-11-10': -17.34268, 'H1S1-12-04': -18.34105, 'H1S1-09-05': -18.367018, 'H1S1-10-10': -18.452984, 'H1S1-02-06': -19.113699, 'H1S1-11-14': -19.15764, 'H1S1-01-04': -19.469738, 'H1S1-11-06': -19.644596}</td>\n      <td>H1S1-11-08</td>\n      <td>H1S1-11</td>\n      <td>H1S1-11</td>\n      <td>-17.444634</td>\n      <td>7.194505</td>\n      <td>-10.096279</td>\n    </tr>\n    <tr>\n      <th>1067</th>\n      <td>24849</td>\n      <td>H1S2-07-11</td>\n      <td>H1S2-07</td>\n      <td>{'H1S2-07-11': -1.884048, 'H1S2-07-20': -2.383606, 'H1S2-07-10': -4.3870173, 'HSTA-03-03': -6.2709527, 'H1S2-07-14': -7.863308, 'HSTA-01-01': -8.188512, 'H1S2-07-07': -8.323971, 'HSTA-04-03': -8.563311, 'H1S2-07-12': -8.762451, 'HSTA-01-09': -8.838194, 'HSTA-01-04': -9.000531}</td>\n      <td>H1S2-07-11</td>\n      <td>H1S2-07</td>\n      <td>H1S2-07</td>\n      <td>-6.769627</td>\n      <td>6.463771</td>\n      <td>-1.884048</td>\n    </tr>\n    <tr>\n      <th>1068</th>\n      <td>3391</td>\n      <td>H1S1-11-17</td>\n      <td>H1S1-11</td>\n      <td>{'H1S1-11-17': -13.7485, 'H1S1-11-16': -14.080412, 'H1S1-11-12': -14.629485, 'H1S1-11-05': -15.886945, 'H1S1-12-04': -16.623337, 'H1S1-11-18': -16.796282, 'H1S1-10-12': -16.945255, 'H1S1-12-07': -17.744617, 'H1S1-12-06': -17.863874, 'H1S1-10-10': -17.97471, 'H1S1-12-10': -17.990192}</td>\n      <td>H1S1-11-16</td>\n      <td>H1S1-11</td>\n      <td>H1S1-11</td>\n      <td>-16.389419</td>\n      <td>2.297384</td>\n      <td>-13.748500</td>\n    </tr>\n    <tr>\n      <th>1069</th>\n      <td>25253</td>\n      <td>H1S2-05-14</td>\n      <td>H1S2-05</td>\n      <td>{'H1S2-05-14': -7.0314937, 'H1S2-05-24': -8.349267, 'H1S2-04-22': -10.024098, 'HSU1-03-03': -10.785341, 'H1S2-05-25': -10.807186, 'H1S2-05-19': -10.908193, 'H1S1-06-07': -11.553551, 'H1S1-02-02': -12.8166685, 'H1S1-02-01': -13.115969, 'H1S2-05-23': -13.355278, 'H1S2-05-02': -13.425956}</td>\n      <td>H1S2-05-20</td>\n      <td>H1S2-05</td>\n      <td>H1S2-05</td>\n      <td>-11.106636</td>\n      <td>3.928276</td>\n      <td>-7.031494</td>\n    </tr>\n  </tbody>\n</table>\n<p>1070 rows × 10 columns</p>\n</div>"
     },
     "metadata": {},
     "execution_count": 11
    }
   ],
   "source": [
    "df[\"frequent_prob\"] = df['predict_probability'].apply(lambda x: get_democracy(x))\n",
    "df[\"mean_prob\"] = df['predict_probability'].apply(lambda x: get_mean(x))\n",
    "df[\"var_prob\"] = df['predict_probability'].apply(lambda x: get_variance(x))\n",
    "df[\"max_prob\"] = df['predict_probability'].apply(lambda x: get_maximum(x))\n",
    "print(df.shape)\n",
    "df"
   ]
  },
  {
   "cell_type": "code",
   "execution_count": 12,
   "metadata": {},
   "outputs": [
    {
     "output_type": "execute_result",
     "data": {
      "text/plain": [
       "     qplay_question_id true_middle_category predict_middle_category  \\\n",
       "926  3536               H1S1-05              H1S1-05                  \n",
       "708  3439               H1S1-07              H1S1-07                  \n",
       "279  4555               H1S1-03              H1S1-02                  \n",
       "585  25205              H1S2-04              H1S2-04                  \n",
       "873  21055              H1S2-06              H1S2-06                  \n",
       "\n",
       "    frequent_prob  mean_prob  var_prob   max_prob  \n",
       "926  HSU1-11      -19.632886  5.122058 -12.849252  \n",
       "708  H1S1-07      -13.151000  4.133703 -9.513939   \n",
       "279  H1S1-03      -16.726286  5.973888 -10.138098  \n",
       "585  H1S2-04      -15.022659  7.969217 -7.638349   \n",
       "873  H1S2-05      -16.999241  7.579874 -8.512825   "
      ],
      "text/html": "<div>\n<style scoped>\n    .dataframe tbody tr th:only-of-type {\n        vertical-align: middle;\n    }\n\n    .dataframe tbody tr th {\n        vertical-align: top;\n    }\n\n    .dataframe thead th {\n        text-align: right;\n    }\n</style>\n<table border=\"1\" class=\"dataframe\">\n  <thead>\n    <tr style=\"text-align: right;\">\n      <th></th>\n      <th>qplay_question_id</th>\n      <th>true_middle_category</th>\n      <th>predict_middle_category</th>\n      <th>frequent_prob</th>\n      <th>mean_prob</th>\n      <th>var_prob</th>\n      <th>max_prob</th>\n    </tr>\n  </thead>\n  <tbody>\n    <tr>\n      <th>926</th>\n      <td>3536</td>\n      <td>H1S1-05</td>\n      <td>H1S1-05</td>\n      <td>HSU1-11</td>\n      <td>-19.632886</td>\n      <td>5.122058</td>\n      <td>-12.849252</td>\n    </tr>\n    <tr>\n      <th>708</th>\n      <td>3439</td>\n      <td>H1S1-07</td>\n      <td>H1S1-07</td>\n      <td>H1S1-07</td>\n      <td>-13.151000</td>\n      <td>4.133703</td>\n      <td>-9.513939</td>\n    </tr>\n    <tr>\n      <th>279</th>\n      <td>4555</td>\n      <td>H1S1-03</td>\n      <td>H1S1-02</td>\n      <td>H1S1-03</td>\n      <td>-16.726286</td>\n      <td>5.973888</td>\n      <td>-10.138098</td>\n    </tr>\n    <tr>\n      <th>585</th>\n      <td>25205</td>\n      <td>H1S2-04</td>\n      <td>H1S2-04</td>\n      <td>H1S2-04</td>\n      <td>-15.022659</td>\n      <td>7.969217</td>\n      <td>-7.638349</td>\n    </tr>\n    <tr>\n      <th>873</th>\n      <td>21055</td>\n      <td>H1S2-06</td>\n      <td>H1S2-06</td>\n      <td>H1S2-05</td>\n      <td>-16.999241</td>\n      <td>7.579874</td>\n      <td>-8.512825</td>\n    </tr>\n  </tbody>\n</table>\n</div>"
     },
     "metadata": {},
     "execution_count": 12
    }
   ],
   "source": [
    "df = df[[\"qplay_question_id\",\"true_middle_category\",\"predict_middle_category\", \"frequent_prob\",\"mean_prob\", \"var_prob\", \"max_prob\"]]\n",
    "df.sample(5)"
   ]
  },
  {
   "cell_type": "code",
   "execution_count": 13,
   "metadata": {},
   "outputs": [
    {
     "output_type": "execute_result",
     "data": {
      "text/plain": [
       "      qplay_question_id true_middle_category predict_middle_category  \\\n",
       "3     7788               HSU1-03              HSU1-01                  \n",
       "16    8862               HSU1-07              H1S2-05                  \n",
       "36    4033               H1S1-03              H1S1-01                  \n",
       "44    20361              H1S2-01              H1S2-02                  \n",
       "59    8563               HSU1-01              HSU1-02                  \n",
       "...    ...                   ...                  ...                  \n",
       "1046  8099               HSU1-02              HSU1-01                  \n",
       "1047  24379              H1S2-04              H1S2-06                  \n",
       "1056  8322               HSU1-02              HSU1-09                  \n",
       "1058  5035               H1S1-03              H1S2-05                  \n",
       "1065  22282              H1S2-03              HSU1-11                  \n",
       "\n",
       "     frequent_prob  mean_prob  var_prob   max_prob  \n",
       "3     HSU1-01      -21.502870  4.016087 -17.317554  \n",
       "16    HSU1-07      -20.835493  1.890619 -17.767733  \n",
       "36    H1S1-03      -14.293819  4.503212 -8.133976   \n",
       "44    HSTA-01      -21.091686  1.206112 -18.217182  \n",
       "59    HSU1-02      -23.591778  4.416673 -17.689194  \n",
       "...       ...             ...       ...        ...  \n",
       "1046  HSU1-01      -20.004243  2.230362 -16.981804  \n",
       "1047  H1S2-03      -23.561338  0.405294 -22.196596  \n",
       "1056  H1S2-07      -12.255645  1.007911 -10.891567  \n",
       "1058  H1S1-03      -23.016523  0.646225 -21.622854  \n",
       "1065  HSU1-11      -13.993789  6.984534 -8.492875   \n",
       "\n",
       "[151 rows x 7 columns]"
      ],
      "text/html": "<div>\n<style scoped>\n    .dataframe tbody tr th:only-of-type {\n        vertical-align: middle;\n    }\n\n    .dataframe tbody tr th {\n        vertical-align: top;\n    }\n\n    .dataframe thead th {\n        text-align: right;\n    }\n</style>\n<table border=\"1\" class=\"dataframe\">\n  <thead>\n    <tr style=\"text-align: right;\">\n      <th></th>\n      <th>qplay_question_id</th>\n      <th>true_middle_category</th>\n      <th>predict_middle_category</th>\n      <th>frequent_prob</th>\n      <th>mean_prob</th>\n      <th>var_prob</th>\n      <th>max_prob</th>\n    </tr>\n  </thead>\n  <tbody>\n    <tr>\n      <th>3</th>\n      <td>7788</td>\n      <td>HSU1-03</td>\n      <td>HSU1-01</td>\n      <td>HSU1-01</td>\n      <td>-21.502870</td>\n      <td>4.016087</td>\n      <td>-17.317554</td>\n    </tr>\n    <tr>\n      <th>16</th>\n      <td>8862</td>\n      <td>HSU1-07</td>\n      <td>H1S2-05</td>\n      <td>HSU1-07</td>\n      <td>-20.835493</td>\n      <td>1.890619</td>\n      <td>-17.767733</td>\n    </tr>\n    <tr>\n      <th>36</th>\n      <td>4033</td>\n      <td>H1S1-03</td>\n      <td>H1S1-01</td>\n      <td>H1S1-03</td>\n      <td>-14.293819</td>\n      <td>4.503212</td>\n      <td>-8.133976</td>\n    </tr>\n    <tr>\n      <th>44</th>\n      <td>20361</td>\n      <td>H1S2-01</td>\n      <td>H1S2-02</td>\n      <td>HSTA-01</td>\n      <td>-21.091686</td>\n      <td>1.206112</td>\n      <td>-18.217182</td>\n    </tr>\n    <tr>\n      <th>59</th>\n      <td>8563</td>\n      <td>HSU1-01</td>\n      <td>HSU1-02</td>\n      <td>HSU1-02</td>\n      <td>-23.591778</td>\n      <td>4.416673</td>\n      <td>-17.689194</td>\n    </tr>\n    <tr>\n      <th>...</th>\n      <td>...</td>\n      <td>...</td>\n      <td>...</td>\n      <td>...</td>\n      <td>...</td>\n      <td>...</td>\n      <td>...</td>\n    </tr>\n    <tr>\n      <th>1046</th>\n      <td>8099</td>\n      <td>HSU1-02</td>\n      <td>HSU1-01</td>\n      <td>HSU1-01</td>\n      <td>-20.004243</td>\n      <td>2.230362</td>\n      <td>-16.981804</td>\n    </tr>\n    <tr>\n      <th>1047</th>\n      <td>24379</td>\n      <td>H1S2-04</td>\n      <td>H1S2-06</td>\n      <td>H1S2-03</td>\n      <td>-23.561338</td>\n      <td>0.405294</td>\n      <td>-22.196596</td>\n    </tr>\n    <tr>\n      <th>1056</th>\n      <td>8322</td>\n      <td>HSU1-02</td>\n      <td>HSU1-09</td>\n      <td>H1S2-07</td>\n      <td>-12.255645</td>\n      <td>1.007911</td>\n      <td>-10.891567</td>\n    </tr>\n    <tr>\n      <th>1058</th>\n      <td>5035</td>\n      <td>H1S1-03</td>\n      <td>H1S2-05</td>\n      <td>H1S1-03</td>\n      <td>-23.016523</td>\n      <td>0.646225</td>\n      <td>-21.622854</td>\n    </tr>\n    <tr>\n      <th>1065</th>\n      <td>22282</td>\n      <td>H1S2-03</td>\n      <td>HSU1-11</td>\n      <td>HSU1-11</td>\n      <td>-13.993789</td>\n      <td>6.984534</td>\n      <td>-8.492875</td>\n    </tr>\n  </tbody>\n</table>\n<p>151 rows × 7 columns</p>\n</div>"
     },
     "metadata": {},
     "execution_count": 13
    }
   ],
   "source": [
    "index_diff = df[\"true_middle_category\"].compare(df[\"predict_middle_category\"]).index\n",
    "df_maximum = df.loc[index_diff]\n",
    "df_maximum"
   ]
  },
  {
   "cell_type": "code",
   "execution_count": 22,
   "metadata": {},
   "outputs": [
    {
     "output_type": "execute_result",
     "data": {
      "text/plain": [
       "      qplay_question_id true_middle_category predict_middle_category  \\\n",
       "685   9076               HSTA-01              H1S2-07                  \n",
       "672   9612               HSTA-01              H1S2-07                  \n",
       "325   24243              H1S2-07              HSTA-01                  \n",
       "386   24347              H1S2-04              H1S2-07                  \n",
       "83    31110              H1S2-07              H1S2-04                  \n",
       "397   20018              H1S2-02              H1S2-07                  \n",
       "146   24492              H1S2-05              H1S2-06                  \n",
       "959   9558               HSTA-02              H1S2-07                  \n",
       "446   9579               HSTA-02              H1S2-07                  \n",
       "82    9636               HSTA-02              H1S2-07                  \n",
       "389   9110               HSTA-01              HSTA-02                  \n",
       "913   21000              H1S2-07              HSTA-01                  \n",
       "640   24563              H1S2-05              H1S2-06                  \n",
       "1065  22282              H1S2-03              HSU1-11                  \n",
       "788   9028               HSTA-01              H1S2-07                  \n",
       "\n",
       "     frequent_prob  mean_prob   var_prob   max_prob  \n",
       "685   H1S2-07      -12.231633  12.802036 -2.052586   \n",
       "672   H1S2-04      -14.505717  10.737273 -9.487900   \n",
       "325   H1S2-07      -11.918290  10.517630 -4.653641   \n",
       "386   H1S2-04      -14.648479  9.397514  -6.732120   \n",
       "83    H1S2-04      -13.547303  9.028274  -5.242729   \n",
       "397   H1S2-07      -13.858449  8.939008  -5.802656   \n",
       "146   H1S2-05      -18.032093  8.399956  -9.503048   \n",
       "959   H1S2-07      -17.118172  7.814893  -10.809184  \n",
       "446   H1S2-04      -16.414425  7.701511  -8.639976   \n",
       "82    H1S2-07      -17.460753  7.691984  -9.832176   \n",
       "389   H1S2-07      -20.306540  7.688383  -15.901591  \n",
       "913   H1S2-07      -21.102435  7.412201  -13.767909  \n",
       "640   H1S2-06      -12.299901  7.344244  -3.947406   \n",
       "1065  HSU1-11      -13.993789  6.984534  -8.492875   \n",
       "788   H1S2-07      -9.924389   6.571688  -4.308950   "
      ],
      "text/html": "<div>\n<style scoped>\n    .dataframe tbody tr th:only-of-type {\n        vertical-align: middle;\n    }\n\n    .dataframe tbody tr th {\n        vertical-align: top;\n    }\n\n    .dataframe thead th {\n        text-align: right;\n    }\n</style>\n<table border=\"1\" class=\"dataframe\">\n  <thead>\n    <tr style=\"text-align: right;\">\n      <th></th>\n      <th>qplay_question_id</th>\n      <th>true_middle_category</th>\n      <th>predict_middle_category</th>\n      <th>frequent_prob</th>\n      <th>mean_prob</th>\n      <th>var_prob</th>\n      <th>max_prob</th>\n    </tr>\n  </thead>\n  <tbody>\n    <tr>\n      <th>685</th>\n      <td>9076</td>\n      <td>HSTA-01</td>\n      <td>H1S2-07</td>\n      <td>H1S2-07</td>\n      <td>-12.231633</td>\n      <td>12.802036</td>\n      <td>-2.052586</td>\n    </tr>\n    <tr>\n      <th>672</th>\n      <td>9612</td>\n      <td>HSTA-01</td>\n      <td>H1S2-07</td>\n      <td>H1S2-04</td>\n      <td>-14.505717</td>\n      <td>10.737273</td>\n      <td>-9.487900</td>\n    </tr>\n    <tr>\n      <th>325</th>\n      <td>24243</td>\n      <td>H1S2-07</td>\n      <td>HSTA-01</td>\n      <td>H1S2-07</td>\n      <td>-11.918290</td>\n      <td>10.517630</td>\n      <td>-4.653641</td>\n    </tr>\n    <tr>\n      <th>386</th>\n      <td>24347</td>\n      <td>H1S2-04</td>\n      <td>H1S2-07</td>\n      <td>H1S2-04</td>\n      <td>-14.648479</td>\n      <td>9.397514</td>\n      <td>-6.732120</td>\n    </tr>\n    <tr>\n      <th>83</th>\n      <td>31110</td>\n      <td>H1S2-07</td>\n      <td>H1S2-04</td>\n      <td>H1S2-04</td>\n      <td>-13.547303</td>\n      <td>9.028274</td>\n      <td>-5.242729</td>\n    </tr>\n    <tr>\n      <th>397</th>\n      <td>20018</td>\n      <td>H1S2-02</td>\n      <td>H1S2-07</td>\n      <td>H1S2-07</td>\n      <td>-13.858449</td>\n      <td>8.939008</td>\n      <td>-5.802656</td>\n    </tr>\n    <tr>\n      <th>146</th>\n      <td>24492</td>\n      <td>H1S2-05</td>\n      <td>H1S2-06</td>\n      <td>H1S2-05</td>\n      <td>-18.032093</td>\n      <td>8.399956</td>\n      <td>-9.503048</td>\n    </tr>\n    <tr>\n      <th>959</th>\n      <td>9558</td>\n      <td>HSTA-02</td>\n      <td>H1S2-07</td>\n      <td>H1S2-07</td>\n      <td>-17.118172</td>\n      <td>7.814893</td>\n      <td>-10.809184</td>\n    </tr>\n    <tr>\n      <th>446</th>\n      <td>9579</td>\n      <td>HSTA-02</td>\n      <td>H1S2-07</td>\n      <td>H1S2-04</td>\n      <td>-16.414425</td>\n      <td>7.701511</td>\n      <td>-8.639976</td>\n    </tr>\n    <tr>\n      <th>82</th>\n      <td>9636</td>\n      <td>HSTA-02</td>\n      <td>H1S2-07</td>\n      <td>H1S2-07</td>\n      <td>-17.460753</td>\n      <td>7.691984</td>\n      <td>-9.832176</td>\n    </tr>\n    <tr>\n      <th>389</th>\n      <td>9110</td>\n      <td>HSTA-01</td>\n      <td>HSTA-02</td>\n      <td>H1S2-07</td>\n      <td>-20.306540</td>\n      <td>7.688383</td>\n      <td>-15.901591</td>\n    </tr>\n    <tr>\n      <th>913</th>\n      <td>21000</td>\n      <td>H1S2-07</td>\n      <td>HSTA-01</td>\n      <td>H1S2-07</td>\n      <td>-21.102435</td>\n      <td>7.412201</td>\n      <td>-13.767909</td>\n    </tr>\n    <tr>\n      <th>640</th>\n      <td>24563</td>\n      <td>H1S2-05</td>\n      <td>H1S2-06</td>\n      <td>H1S2-06</td>\n      <td>-12.299901</td>\n      <td>7.344244</td>\n      <td>-3.947406</td>\n    </tr>\n    <tr>\n      <th>1065</th>\n      <td>22282</td>\n      <td>H1S2-03</td>\n      <td>HSU1-11</td>\n      <td>HSU1-11</td>\n      <td>-13.993789</td>\n      <td>6.984534</td>\n      <td>-8.492875</td>\n    </tr>\n    <tr>\n      <th>788</th>\n      <td>9028</td>\n      <td>HSTA-01</td>\n      <td>H1S2-07</td>\n      <td>H1S2-07</td>\n      <td>-9.924389</td>\n      <td>6.571688</td>\n      <td>-4.308950</td>\n    </tr>\n  </tbody>\n</table>\n</div>"
     },
     "metadata": {},
     "execution_count": 22
    }
   ],
   "source": [
    "df_maximum.sort_values(by=\"var_prob\", ascending=False)[:15]"
   ]
  },
  {
   "cell_type": "code",
   "execution_count": 23,
   "metadata": {},
   "outputs": [
    {
     "output_type": "execute_result",
     "data": {
      "text/plain": [
       "      qplay_question_id true_middle_category predict_middle_category  \\\n",
       "685   9076               HSTA-01              H1S2-07                  \n",
       "84    24579              H1S2-07              HSTA-01                  \n",
       "704   24509              H1S2-06              H1S2-04                  \n",
       "640   24563              H1S2-05              H1S2-06                  \n",
       "788   9028               HSTA-01              H1S2-07                  \n",
       "611   9211               HSTA-06              HSTA-04                  \n",
       "325   24243              H1S2-07              HSTA-01                  \n",
       "83    31110              H1S2-07              H1S2-04                  \n",
       "65    9227               HSTA-07              HSTA-06                  \n",
       "397   20018              H1S2-02              H1S2-07                  \n",
       "184   7967               HSU1-04              HSU1-02                  \n",
       "455   24622              H1S2-04              H1S2-05                  \n",
       "777   8142               HSU1-03              H1S2-05                  \n",
       "386   24347              H1S2-04              H1S2-07                  \n",
       "679   8298               HSU1-03              HSU1-04                  \n",
       "1012  25006              H1S2-07              HSTA-04                  \n",
       "36    4033               H1S1-03              H1S1-01                  \n",
       "702   24372              H1S2-07              HSTA-01                  \n",
       "1065  22282              H1S2-03              HSU1-11                  \n",
       "446   9579               HSTA-02              H1S2-07                  \n",
       "\n",
       "     frequent_prob  mean_prob   var_prob  max_prob  \n",
       "685   H1S2-07      -12.231633  12.802036 -2.052586  \n",
       "84    HSTA-01      -8.593002   5.662738  -2.188203  \n",
       "704   H1S2-04      -11.099396  5.918564  -3.543010  \n",
       "640   H1S2-06      -12.299901  7.344244  -3.947406  \n",
       "788   H1S2-07      -9.924389   6.571688  -4.308950  \n",
       "611   HSTA-04      -9.274288   5.778295  -4.430949  \n",
       "325   H1S2-07      -11.918290  10.517630 -4.653641  \n",
       "83    H1S2-04      -13.547303  9.028274  -5.242729  \n",
       "65    HSTA-06      -8.076564   1.614032  -5.371318  \n",
       "397   H1S2-07      -13.858449  8.939008  -5.802656  \n",
       "184   HSU1-09      -12.084371  6.185316  -6.101257  \n",
       "455   H1S2-04      -10.333968  5.477799  -6.408175  \n",
       "777   HSU1-03      -10.171945  4.792709  -6.654657  \n",
       "386   H1S2-04      -14.648479  9.397514  -6.732120  \n",
       "679   H1S2-05      -10.613457  2.513990  -7.267799  \n",
       "1012  H1S2-07      -11.236581  2.678402  -7.660948  \n",
       "36    H1S1-03      -14.293819  4.503212  -8.133976  \n",
       "702   H1S2-07      -11.219279  3.699527  -8.341255  \n",
       "1065  HSU1-11      -13.993789  6.984534  -8.492875  \n",
       "446   H1S2-04      -16.414425  7.701511  -8.639976  "
      ],
      "text/html": "<div>\n<style scoped>\n    .dataframe tbody tr th:only-of-type {\n        vertical-align: middle;\n    }\n\n    .dataframe tbody tr th {\n        vertical-align: top;\n    }\n\n    .dataframe thead th {\n        text-align: right;\n    }\n</style>\n<table border=\"1\" class=\"dataframe\">\n  <thead>\n    <tr style=\"text-align: right;\">\n      <th></th>\n      <th>qplay_question_id</th>\n      <th>true_middle_category</th>\n      <th>predict_middle_category</th>\n      <th>frequent_prob</th>\n      <th>mean_prob</th>\n      <th>var_prob</th>\n      <th>max_prob</th>\n    </tr>\n  </thead>\n  <tbody>\n    <tr>\n      <th>685</th>\n      <td>9076</td>\n      <td>HSTA-01</td>\n      <td>H1S2-07</td>\n      <td>H1S2-07</td>\n      <td>-12.231633</td>\n      <td>12.802036</td>\n      <td>-2.052586</td>\n    </tr>\n    <tr>\n      <th>84</th>\n      <td>24579</td>\n      <td>H1S2-07</td>\n      <td>HSTA-01</td>\n      <td>HSTA-01</td>\n      <td>-8.593002</td>\n      <td>5.662738</td>\n      <td>-2.188203</td>\n    </tr>\n    <tr>\n      <th>704</th>\n      <td>24509</td>\n      <td>H1S2-06</td>\n      <td>H1S2-04</td>\n      <td>H1S2-04</td>\n      <td>-11.099396</td>\n      <td>5.918564</td>\n      <td>-3.543010</td>\n    </tr>\n    <tr>\n      <th>640</th>\n      <td>24563</td>\n      <td>H1S2-05</td>\n      <td>H1S2-06</td>\n      <td>H1S2-06</td>\n      <td>-12.299901</td>\n      <td>7.344244</td>\n      <td>-3.947406</td>\n    </tr>\n    <tr>\n      <th>788</th>\n      <td>9028</td>\n      <td>HSTA-01</td>\n      <td>H1S2-07</td>\n      <td>H1S2-07</td>\n      <td>-9.924389</td>\n      <td>6.571688</td>\n      <td>-4.308950</td>\n    </tr>\n    <tr>\n      <th>611</th>\n      <td>9211</td>\n      <td>HSTA-06</td>\n      <td>HSTA-04</td>\n      <td>HSTA-04</td>\n      <td>-9.274288</td>\n      <td>5.778295</td>\n      <td>-4.430949</td>\n    </tr>\n    <tr>\n      <th>325</th>\n      <td>24243</td>\n      <td>H1S2-07</td>\n      <td>HSTA-01</td>\n      <td>H1S2-07</td>\n      <td>-11.918290</td>\n      <td>10.517630</td>\n      <td>-4.653641</td>\n    </tr>\n    <tr>\n      <th>83</th>\n      <td>31110</td>\n      <td>H1S2-07</td>\n      <td>H1S2-04</td>\n      <td>H1S2-04</td>\n      <td>-13.547303</td>\n      <td>9.028274</td>\n      <td>-5.242729</td>\n    </tr>\n    <tr>\n      <th>65</th>\n      <td>9227</td>\n      <td>HSTA-07</td>\n      <td>HSTA-06</td>\n      <td>HSTA-06</td>\n      <td>-8.076564</td>\n      <td>1.614032</td>\n      <td>-5.371318</td>\n    </tr>\n    <tr>\n      <th>397</th>\n      <td>20018</td>\n      <td>H1S2-02</td>\n      <td>H1S2-07</td>\n      <td>H1S2-07</td>\n      <td>-13.858449</td>\n      <td>8.939008</td>\n      <td>-5.802656</td>\n    </tr>\n    <tr>\n      <th>184</th>\n      <td>7967</td>\n      <td>HSU1-04</td>\n      <td>HSU1-02</td>\n      <td>HSU1-09</td>\n      <td>-12.084371</td>\n      <td>6.185316</td>\n      <td>-6.101257</td>\n    </tr>\n    <tr>\n      <th>455</th>\n      <td>24622</td>\n      <td>H1S2-04</td>\n      <td>H1S2-05</td>\n      <td>H1S2-04</td>\n      <td>-10.333968</td>\n      <td>5.477799</td>\n      <td>-6.408175</td>\n    </tr>\n    <tr>\n      <th>777</th>\n      <td>8142</td>\n      <td>HSU1-03</td>\n      <td>H1S2-05</td>\n      <td>HSU1-03</td>\n      <td>-10.171945</td>\n      <td>4.792709</td>\n      <td>-6.654657</td>\n    </tr>\n    <tr>\n      <th>386</th>\n      <td>24347</td>\n      <td>H1S2-04</td>\n      <td>H1S2-07</td>\n      <td>H1S2-04</td>\n      <td>-14.648479</td>\n      <td>9.397514</td>\n      <td>-6.732120</td>\n    </tr>\n    <tr>\n      <th>679</th>\n      <td>8298</td>\n      <td>HSU1-03</td>\n      <td>HSU1-04</td>\n      <td>H1S2-05</td>\n      <td>-10.613457</td>\n      <td>2.513990</td>\n      <td>-7.267799</td>\n    </tr>\n    <tr>\n      <th>1012</th>\n      <td>25006</td>\n      <td>H1S2-07</td>\n      <td>HSTA-04</td>\n      <td>H1S2-07</td>\n      <td>-11.236581</td>\n      <td>2.678402</td>\n      <td>-7.660948</td>\n    </tr>\n    <tr>\n      <th>36</th>\n      <td>4033</td>\n      <td>H1S1-03</td>\n      <td>H1S1-01</td>\n      <td>H1S1-03</td>\n      <td>-14.293819</td>\n      <td>4.503212</td>\n      <td>-8.133976</td>\n    </tr>\n    <tr>\n      <th>702</th>\n      <td>24372</td>\n      <td>H1S2-07</td>\n      <td>HSTA-01</td>\n      <td>H1S2-07</td>\n      <td>-11.219279</td>\n      <td>3.699527</td>\n      <td>-8.341255</td>\n    </tr>\n    <tr>\n      <th>1065</th>\n      <td>22282</td>\n      <td>H1S2-03</td>\n      <td>HSU1-11</td>\n      <td>HSU1-11</td>\n      <td>-13.993789</td>\n      <td>6.984534</td>\n      <td>-8.492875</td>\n    </tr>\n    <tr>\n      <th>446</th>\n      <td>9579</td>\n      <td>HSTA-02</td>\n      <td>H1S2-07</td>\n      <td>H1S2-04</td>\n      <td>-16.414425</td>\n      <td>7.701511</td>\n      <td>-8.639976</td>\n    </tr>\n  </tbody>\n</table>\n</div>"
     },
     "metadata": {},
     "execution_count": 23
    }
   ],
   "source": [
    "df_maximum.sort_values(by=\"max_prob\", ascending=False)[:20]"
   ]
  },
  {
   "cell_type": "code",
   "execution_count": 15,
   "metadata": {},
   "outputs": [
    {
     "output_type": "execute_result",
     "data": {
      "text/plain": [
       "    qplay_question_id true_middle_category predict_middle_category  \\\n",
       "3   7788               HSU1-03              HSU1-01                  \n",
       "10  8108               HSU1-05              HSU1-05                  \n",
       "11  5045               H1S1-01              H1S1-01                  \n",
       "12  5047               H1S1-01              H1S1-01                  \n",
       "13  8241               HSU1-05              HSU1-05                  \n",
       "\n",
       "   frequent_prob  mean_prob  var_prob   max_prob  \n",
       "3   HSU1-01      -21.502870  4.016087 -17.317554  \n",
       "10  HSU1-06      -19.017443  5.409780 -12.095246  \n",
       "11  HSU1-03      -11.361557  3.952362 -5.782053   \n",
       "12  H1S1-03      -11.649529  4.640895 -5.952143   \n",
       "13  HSU1-06      -19.686656  5.357581 -12.735401  "
      ],
      "text/html": "<div>\n<style scoped>\n    .dataframe tbody tr th:only-of-type {\n        vertical-align: middle;\n    }\n\n    .dataframe tbody tr th {\n        vertical-align: top;\n    }\n\n    .dataframe thead th {\n        text-align: right;\n    }\n</style>\n<table border=\"1\" class=\"dataframe\">\n  <thead>\n    <tr style=\"text-align: right;\">\n      <th></th>\n      <th>qplay_question_id</th>\n      <th>true_middle_category</th>\n      <th>predict_middle_category</th>\n      <th>frequent_prob</th>\n      <th>mean_prob</th>\n      <th>var_prob</th>\n      <th>max_prob</th>\n    </tr>\n  </thead>\n  <tbody>\n    <tr>\n      <th>3</th>\n      <td>7788</td>\n      <td>HSU1-03</td>\n      <td>HSU1-01</td>\n      <td>HSU1-01</td>\n      <td>-21.502870</td>\n      <td>4.016087</td>\n      <td>-17.317554</td>\n    </tr>\n    <tr>\n      <th>10</th>\n      <td>8108</td>\n      <td>HSU1-05</td>\n      <td>HSU1-05</td>\n      <td>HSU1-06</td>\n      <td>-19.017443</td>\n      <td>5.409780</td>\n      <td>-12.095246</td>\n    </tr>\n    <tr>\n      <th>11</th>\n      <td>5045</td>\n      <td>H1S1-01</td>\n      <td>H1S1-01</td>\n      <td>HSU1-03</td>\n      <td>-11.361557</td>\n      <td>3.952362</td>\n      <td>-5.782053</td>\n    </tr>\n    <tr>\n      <th>12</th>\n      <td>5047</td>\n      <td>H1S1-01</td>\n      <td>H1S1-01</td>\n      <td>H1S1-03</td>\n      <td>-11.649529</td>\n      <td>4.640895</td>\n      <td>-5.952143</td>\n    </tr>\n    <tr>\n      <th>13</th>\n      <td>8241</td>\n      <td>HSU1-05</td>\n      <td>HSU1-05</td>\n      <td>HSU1-06</td>\n      <td>-19.686656</td>\n      <td>5.357581</td>\n      <td>-12.735401</td>\n    </tr>\n  </tbody>\n</table>\n</div>"
     },
     "metadata": {},
     "execution_count": 15
    }
   ],
   "source": [
    "index_diff = df[\"true_middle_category\"].compare(df[\"frequent_prob\"]).index\n",
    "df_freq = df.loc[index_diff]\n",
    "df_freq[:5]"
   ]
  },
  {
   "cell_type": "code",
   "execution_count": 25,
   "metadata": {},
   "outputs": [
    {
     "output_type": "execute_result",
     "data": {
      "text/plain": [
       "      qplay_question_id true_middle_category predict_middle_category  \\\n",
       "685   9076               HSTA-01              H1S2-07                  \n",
       "672   9612               HSTA-01              H1S2-07                  \n",
       "70    9121               HSTA-01              HSTA-01                  \n",
       "270   25228              H1S2-07              H1S2-07                  \n",
       "579   7575               HSTA-02              HSTA-02                  \n",
       "176   25128              H1S2-07              H1S2-07                  \n",
       "364   24691              H1S2-06              H1S2-06                  \n",
       "559   25173              H1S2-07              H1S2-07                  \n",
       "83    31110              H1S2-07              H1S2-04                  \n",
       "397   20018              H1S2-02              H1S2-07                  \n",
       "958   7569               HSTA-02              HSTA-02                  \n",
       "674   9524               HSTA-02              HSTA-02                  \n",
       "223   24695              H1S2-03              H1S2-03                  \n",
       "1055  24702              HSTA-02              HSTA-02                  \n",
       "379   22433              H1S2-07              H1S2-07                  \n",
       "612   22260              H1S2-03              H1S2-03                  \n",
       "763   25339              H1S2-06              H1S2-06                  \n",
       "38    9740               HSTA-04              HSTA-04                  \n",
       "52    6980               HSU1-02              HSU1-02                  \n",
       "549   6972               HSU1-02              HSU1-02                  \n",
       "\n",
       "     frequent_prob  mean_prob   var_prob   max_prob  \n",
       "685   H1S2-07      -12.231633  12.802036 -2.052586   \n",
       "672   H1S2-04      -14.505717  10.737273 -9.487900   \n",
       "70    H1S2-07      -11.978897  9.948903  -4.192392   \n",
       "270   H1S2-03      -16.668663  9.331522  -9.266034   \n",
       "579   HSU1-01      -16.787311  9.328562  -8.477284   \n",
       "176   H1S2-04      -14.891567  9.285581  -7.243638   \n",
       "364   HSU1-10      -19.481431  9.276710  -13.851152  \n",
       "559   H1S2-03      -16.090738  9.037000  -7.404475   \n",
       "83    H1S2-04      -13.547303  9.028274  -5.242729   \n",
       "397   H1S2-07      -13.858449  8.939008  -5.802656   \n",
       "958   HSU1-01      -18.148762  8.813863  -10.067009  \n",
       "674   H1S2-07      -16.513567  8.681870  -8.633666   \n",
       "223   HSU1-11      -11.387438  8.587843  -5.172323   \n",
       "1055  H1S2-07      -16.620162  8.554569  -9.143168   \n",
       "379   H1S2-03      -16.143427  8.528971  -7.385344   \n",
       "612   HSU1-11      -13.696042  8.500001  -7.057488   \n",
       "763   H1S2-05      -18.442217  8.489114  -10.452447  \n",
       "38    HSTA-03      -16.845376  8.116635  -10.079567  \n",
       "52    H1S2-07      -14.839772  8.096431  -6.240770   \n",
       "549   H1S2-07      -15.110796  8.058171  -6.498851   "
      ],
      "text/html": "<div>\n<style scoped>\n    .dataframe tbody tr th:only-of-type {\n        vertical-align: middle;\n    }\n\n    .dataframe tbody tr th {\n        vertical-align: top;\n    }\n\n    .dataframe thead th {\n        text-align: right;\n    }\n</style>\n<table border=\"1\" class=\"dataframe\">\n  <thead>\n    <tr style=\"text-align: right;\">\n      <th></th>\n      <th>qplay_question_id</th>\n      <th>true_middle_category</th>\n      <th>predict_middle_category</th>\n      <th>frequent_prob</th>\n      <th>mean_prob</th>\n      <th>var_prob</th>\n      <th>max_prob</th>\n    </tr>\n  </thead>\n  <tbody>\n    <tr>\n      <th>685</th>\n      <td>9076</td>\n      <td>HSTA-01</td>\n      <td>H1S2-07</td>\n      <td>H1S2-07</td>\n      <td>-12.231633</td>\n      <td>12.802036</td>\n      <td>-2.052586</td>\n    </tr>\n    <tr>\n      <th>672</th>\n      <td>9612</td>\n      <td>HSTA-01</td>\n      <td>H1S2-07</td>\n      <td>H1S2-04</td>\n      <td>-14.505717</td>\n      <td>10.737273</td>\n      <td>-9.487900</td>\n    </tr>\n    <tr>\n      <th>70</th>\n      <td>9121</td>\n      <td>HSTA-01</td>\n      <td>HSTA-01</td>\n      <td>H1S2-07</td>\n      <td>-11.978897</td>\n      <td>9.948903</td>\n      <td>-4.192392</td>\n    </tr>\n    <tr>\n      <th>270</th>\n      <td>25228</td>\n      <td>H1S2-07</td>\n      <td>H1S2-07</td>\n      <td>H1S2-03</td>\n      <td>-16.668663</td>\n      <td>9.331522</td>\n      <td>-9.266034</td>\n    </tr>\n    <tr>\n      <th>579</th>\n      <td>7575</td>\n      <td>HSTA-02</td>\n      <td>HSTA-02</td>\n      <td>HSU1-01</td>\n      <td>-16.787311</td>\n      <td>9.328562</td>\n      <td>-8.477284</td>\n    </tr>\n    <tr>\n      <th>176</th>\n      <td>25128</td>\n      <td>H1S2-07</td>\n      <td>H1S2-07</td>\n      <td>H1S2-04</td>\n      <td>-14.891567</td>\n      <td>9.285581</td>\n      <td>-7.243638</td>\n    </tr>\n    <tr>\n      <th>364</th>\n      <td>24691</td>\n      <td>H1S2-06</td>\n      <td>H1S2-06</td>\n      <td>HSU1-10</td>\n      <td>-19.481431</td>\n      <td>9.276710</td>\n      <td>-13.851152</td>\n    </tr>\n    <tr>\n      <th>559</th>\n      <td>25173</td>\n      <td>H1S2-07</td>\n      <td>H1S2-07</td>\n      <td>H1S2-03</td>\n      <td>-16.090738</td>\n      <td>9.037000</td>\n      <td>-7.404475</td>\n    </tr>\n    <tr>\n      <th>83</th>\n      <td>31110</td>\n      <td>H1S2-07</td>\n      <td>H1S2-04</td>\n      <td>H1S2-04</td>\n      <td>-13.547303</td>\n      <td>9.028274</td>\n      <td>-5.242729</td>\n    </tr>\n    <tr>\n      <th>397</th>\n      <td>20018</td>\n      <td>H1S2-02</td>\n      <td>H1S2-07</td>\n      <td>H1S2-07</td>\n      <td>-13.858449</td>\n      <td>8.939008</td>\n      <td>-5.802656</td>\n    </tr>\n    <tr>\n      <th>958</th>\n      <td>7569</td>\n      <td>HSTA-02</td>\n      <td>HSTA-02</td>\n      <td>HSU1-01</td>\n      <td>-18.148762</td>\n      <td>8.813863</td>\n      <td>-10.067009</td>\n    </tr>\n    <tr>\n      <th>674</th>\n      <td>9524</td>\n      <td>HSTA-02</td>\n      <td>HSTA-02</td>\n      <td>H1S2-07</td>\n      <td>-16.513567</td>\n      <td>8.681870</td>\n      <td>-8.633666</td>\n    </tr>\n    <tr>\n      <th>223</th>\n      <td>24695</td>\n      <td>H1S2-03</td>\n      <td>H1S2-03</td>\n      <td>HSU1-11</td>\n      <td>-11.387438</td>\n      <td>8.587843</td>\n      <td>-5.172323</td>\n    </tr>\n    <tr>\n      <th>1055</th>\n      <td>24702</td>\n      <td>HSTA-02</td>\n      <td>HSTA-02</td>\n      <td>H1S2-07</td>\n      <td>-16.620162</td>\n      <td>8.554569</td>\n      <td>-9.143168</td>\n    </tr>\n    <tr>\n      <th>379</th>\n      <td>22433</td>\n      <td>H1S2-07</td>\n      <td>H1S2-07</td>\n      <td>H1S2-03</td>\n      <td>-16.143427</td>\n      <td>8.528971</td>\n      <td>-7.385344</td>\n    </tr>\n    <tr>\n      <th>612</th>\n      <td>22260</td>\n      <td>H1S2-03</td>\n      <td>H1S2-03</td>\n      <td>HSU1-11</td>\n      <td>-13.696042</td>\n      <td>8.500001</td>\n      <td>-7.057488</td>\n    </tr>\n    <tr>\n      <th>763</th>\n      <td>25339</td>\n      <td>H1S2-06</td>\n      <td>H1S2-06</td>\n      <td>H1S2-05</td>\n      <td>-18.442217</td>\n      <td>8.489114</td>\n      <td>-10.452447</td>\n    </tr>\n    <tr>\n      <th>38</th>\n      <td>9740</td>\n      <td>HSTA-04</td>\n      <td>HSTA-04</td>\n      <td>HSTA-03</td>\n      <td>-16.845376</td>\n      <td>8.116635</td>\n      <td>-10.079567</td>\n    </tr>\n    <tr>\n      <th>52</th>\n      <td>6980</td>\n      <td>HSU1-02</td>\n      <td>HSU1-02</td>\n      <td>H1S2-07</td>\n      <td>-14.839772</td>\n      <td>8.096431</td>\n      <td>-6.240770</td>\n    </tr>\n    <tr>\n      <th>549</th>\n      <td>6972</td>\n      <td>HSU1-02</td>\n      <td>HSU1-02</td>\n      <td>H1S2-07</td>\n      <td>-15.110796</td>\n      <td>8.058171</td>\n      <td>-6.498851</td>\n    </tr>\n  </tbody>\n</table>\n</div>"
     },
     "metadata": {},
     "execution_count": 25
    }
   ],
   "source": [
    "df_freq.sort_values(by=\"var_prob\", ascending=False)[:20]"
   ]
  },
  {
   "cell_type": "code",
   "execution_count": 17,
   "metadata": {},
   "outputs": [],
   "source": [
    "def get_mean_across_series():\n",
    "    return"
   ]
  },
  {
   "cell_type": "code",
   "execution_count": null,
   "metadata": {},
   "outputs": [],
   "source": []
  }
 ]
}