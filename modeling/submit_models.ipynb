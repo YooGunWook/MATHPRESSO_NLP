{
 "metadata": {
  "language_info": {
   "codemirror_mode": {
    "name": "ipython",
    "version": 3
   },
   "file_extension": ".py",
   "mimetype": "text/x-python",
   "name": "python",
   "nbconvert_exporter": "python",
   "pygments_lexer": "ipython3",
   "version": "3.8.3-final"
  },
  "orig_nbformat": 2,
  "kernelspec": {
   "name": "python3",
   "display_name": "Python 3.8.3 64-bit ('math_nlp')",
   "metadata": {
    "interpreter": {
     "hash": "b0342785599f483fbf2673039d90c9d8e5c499f0db3bc16fe29e86731d39d362"
    }
   }
  }
 },
 "nbformat": 4,
 "nbformat_minor": 2,
 "cells": [
  {
   "cell_type": "code",
   "execution_count": 18,
   "metadata": {},
   "outputs": [
    {
     "output_type": "execute_result",
     "data": {
      "text/plain": [
       "'1.1.4'"
      ]
     },
     "metadata": {},
     "execution_count": 18
    }
   ],
   "source": [
    "import pandas as pd\n",
    "import numpy as np\n",
    "\n",
    "pd.__version__"
   ]
  },
  {
   "cell_type": "code",
   "execution_count": 19,
   "metadata": {},
   "outputs": [],
   "source": [
    "DATA_PATH = \"./data\""
   ]
  },
  {
   "cell_type": "code",
   "execution_count": 20,
   "metadata": {},
   "outputs": [
    {
     "output_type": "execute_result",
     "data": {
      "text/plain": [
       "   qplay_question_id                                               text\n",
       "0               3535  좌표평면 위의 두 점 `A(1, 2)`, `B(5, -2)`에 대하여 선분 `AB`...\n",
       "1               4537   `a-b=3`일 때, `a^3-3a^2b+(3b^2-5)a-b^3+5b-10`의 값은?"
      ],
      "text/html": "<div>\n<style scoped>\n    .dataframe tbody tr th:only-of-type {\n        vertical-align: middle;\n    }\n\n    .dataframe tbody tr th {\n        vertical-align: top;\n    }\n\n    .dataframe thead th {\n        text-align: right;\n    }\n</style>\n<table border=\"1\" class=\"dataframe\">\n  <thead>\n    <tr style=\"text-align: right;\">\n      <th></th>\n      <th>qplay_question_id</th>\n      <th>text</th>\n    </tr>\n  </thead>\n  <tbody>\n    <tr>\n      <th>0</th>\n      <td>3535</td>\n      <td>좌표평면 위의 두 점 `A(1, 2)`, `B(5, -2)`에 대하여 선분 `AB`...</td>\n    </tr>\n    <tr>\n      <th>1</th>\n      <td>4537</td>\n      <td>`a-b=3`일 때, `a^3-3a^2b+(3b^2-5)a-b^3+5b-10`의 값은?</td>\n    </tr>\n  </tbody>\n</table>\n</div>"
     },
     "metadata": {},
     "execution_count": 20
    }
   ],
   "source": [
    "df_test = pd.read_csv(DATA_PATH+'/hidden_for_inference.csv')\n",
    "df_test.head(2)"
   ]
  },
  {
   "cell_type": "code",
   "execution_count": 24,
   "metadata": {},
   "outputs": [
    {
     "output_type": "execute_result",
     "data": {
      "text/plain": [
       "    qplay_question_id                                               text  \\\n",
       "0                3535  좌표평면 위의 두 점 `A(1, 2)`, `B(5, -2)`에 대하여 선분 `AB`...   \n",
       "1                4537   `a-b=3`일 때, `a^3-3a^2b+(3b^2-5)a-b^3+5b-10`의 값은?   \n",
       "2                3910  `-2 <= x <= 3`인 모든 실수 `x`에 대하여 이차부등식 `-x^2-2x+...   \n",
       "3                4294  네 점 `A(0, a)`, `B(b, 1)`, `C(5, 2)`, `D(4, 4)`...   \n",
       "4                4319  다항식 `x^3+x^2`을 다항식 `x^2-1`로 나누었을 때의 몫을 `Q(x)`,...   \n",
       "5                7369  `{(4/9)^(-3/4)}^(2/3)`의 값이 `k`일 때, `10k`의 값을 구...   \n",
       "6                3843  이차방정식 `x^2+x+1=0`의 두 근 `alpha`, `beta`에 대하여 이차...   \n",
       "7                4125  이차방정식 `(x-2)^2-3|x-2|-4=0`을 만족하는 `x`의 값을 `alph...   \n",
       "8                3703       사차방정식 `(x^2-4x)(x^2-4x-17)+60=0`의 근을 모두 더하면?   \n",
       "9                4350  `-3 <= x <= 2`에서 이차함수 `y=-2x^2-4x+a`의 최댓값이 `5`...   \n",
       "10               4748                `x`절편이 `-3`이고 `y`절편이 `4`인 직선의 방정식은?   \n",
       "11               4968  `f(x)=4x^3+9x^2-3x+7`에 대해 `f(-1/2x+1)=0`의 세 근의...   \n",
       "12               3818  두 포물선 `y=-x^2-2x+2`, `y=x^2-6x+14`가 점 `P`에 대하여...   \n",
       "13               3884  두 점 `A(-1, 1)`, `B(7, 5)`를 지나는 직선에 수직이고, `bar ...   \n",
       "14               3990  사차방정식 `(x+1)(x+2)(x+3)(x+4)=120`의 허수근이 다음과 같이 ...   \n",
       "\n",
       "   bert_80_pred_chapter bert_15_pred_chapter tfidf_pred_chapter  \\\n",
       "0               H1S1-10              H1S1-10            H1S1-09   \n",
       "1               H1S1-01              H1S1-03            H1S1-01   \n",
       "2               H1S1-08              H1S1-08            H1S1-08   \n",
       "3               H1S1-10              H1S1-09            H1S1-09   \n",
       "4               H1S1-01              H1S1-02            H1S1-01   \n",
       "5               HSU1-01              HSU1-03            H1S1-01   \n",
       "6               H1S1-06              H1S1-05            H1S1-06   \n",
       "7               H1S1-05              H1S1-05            H1S1-01   \n",
       "8               H1S1-07              H1S1-07            H1S1-07   \n",
       "9               H1S1-06              H1S1-06            H1S1-06   \n",
       "10              H1S1-10              H1S1-10            H1S1-10   \n",
       "11              H1S1-05              H1S2-05            H1S1-01   \n",
       "12              H1S1-12              H1S1-12            H1S1-01   \n",
       "13              H1S1-09              H1S1-09            H1S1-01   \n",
       "14              H1S1-07              H1S1-07            H1S1-01   \n",
       "\n",
       "   word2vec_pred_chapter  word2vec_pred_similarity  \n",
       "0                H1S1-09                  0.688554  \n",
       "1                H1S1-07                  0.561534  \n",
       "2                H1S1-08                  0.671672  \n",
       "3                HSU1-07                  0.719202  \n",
       "4                H1S1-02                  0.659963  \n",
       "5                H1S1-03                  0.580342  \n",
       "6                H1S1-05                  0.739149  \n",
       "7                H1S1-07                  0.717956  \n",
       "8                H1S1-03                  0.547870  \n",
       "9                H1S1-06                  0.701227  \n",
       "10               H1S1-11                  0.485363  \n",
       "11               H1S1-03                  0.646369  \n",
       "12               H1S1-11                  0.636652  \n",
       "13               H1S1-10                  0.731098  \n",
       "14               H1S2-06                  0.681287  "
      ],
      "text/html": "<div>\n<style scoped>\n    .dataframe tbody tr th:only-of-type {\n        vertical-align: middle;\n    }\n\n    .dataframe tbody tr th {\n        vertical-align: top;\n    }\n\n    .dataframe thead th {\n        text-align: right;\n    }\n</style>\n<table border=\"1\" class=\"dataframe\">\n  <thead>\n    <tr style=\"text-align: right;\">\n      <th></th>\n      <th>qplay_question_id</th>\n      <th>text</th>\n      <th>bert_80_pred_chapter</th>\n      <th>bert_15_pred_chapter</th>\n      <th>tfidf_pred_chapter</th>\n      <th>word2vec_pred_chapter</th>\n      <th>word2vec_pred_similarity</th>\n    </tr>\n  </thead>\n  <tbody>\n    <tr>\n      <th>0</th>\n      <td>3535</td>\n      <td>좌표평면 위의 두 점 `A(1, 2)`, `B(5, -2)`에 대하여 선분 `AB`...</td>\n      <td>H1S1-10</td>\n      <td>H1S1-10</td>\n      <td>H1S1-09</td>\n      <td>H1S1-09</td>\n      <td>0.688554</td>\n    </tr>\n    <tr>\n      <th>1</th>\n      <td>4537</td>\n      <td>`a-b=3`일 때, `a^3-3a^2b+(3b^2-5)a-b^3+5b-10`의 값은?</td>\n      <td>H1S1-01</td>\n      <td>H1S1-03</td>\n      <td>H1S1-01</td>\n      <td>H1S1-07</td>\n      <td>0.561534</td>\n    </tr>\n    <tr>\n      <th>2</th>\n      <td>3910</td>\n      <td>`-2 &lt;= x &lt;= 3`인 모든 실수 `x`에 대하여 이차부등식 `-x^2-2x+...</td>\n      <td>H1S1-08</td>\n      <td>H1S1-08</td>\n      <td>H1S1-08</td>\n      <td>H1S1-08</td>\n      <td>0.671672</td>\n    </tr>\n    <tr>\n      <th>3</th>\n      <td>4294</td>\n      <td>네 점 `A(0, a)`, `B(b, 1)`, `C(5, 2)`, `D(4, 4)`...</td>\n      <td>H1S1-10</td>\n      <td>H1S1-09</td>\n      <td>H1S1-09</td>\n      <td>HSU1-07</td>\n      <td>0.719202</td>\n    </tr>\n    <tr>\n      <th>4</th>\n      <td>4319</td>\n      <td>다항식 `x^3+x^2`을 다항식 `x^2-1`로 나누었을 때의 몫을 `Q(x)`,...</td>\n      <td>H1S1-01</td>\n      <td>H1S1-02</td>\n      <td>H1S1-01</td>\n      <td>H1S1-02</td>\n      <td>0.659963</td>\n    </tr>\n    <tr>\n      <th>5</th>\n      <td>7369</td>\n      <td>`{(4/9)^(-3/4)}^(2/3)`의 값이 `k`일 때, `10k`의 값을 구...</td>\n      <td>HSU1-01</td>\n      <td>HSU1-03</td>\n      <td>H1S1-01</td>\n      <td>H1S1-03</td>\n      <td>0.580342</td>\n    </tr>\n    <tr>\n      <th>6</th>\n      <td>3843</td>\n      <td>이차방정식 `x^2+x+1=0`의 두 근 `alpha`, `beta`에 대하여 이차...</td>\n      <td>H1S1-06</td>\n      <td>H1S1-05</td>\n      <td>H1S1-06</td>\n      <td>H1S1-05</td>\n      <td>0.739149</td>\n    </tr>\n    <tr>\n      <th>7</th>\n      <td>4125</td>\n      <td>이차방정식 `(x-2)^2-3|x-2|-4=0`을 만족하는 `x`의 값을 `alph...</td>\n      <td>H1S1-05</td>\n      <td>H1S1-05</td>\n      <td>H1S1-01</td>\n      <td>H1S1-07</td>\n      <td>0.717956</td>\n    </tr>\n    <tr>\n      <th>8</th>\n      <td>3703</td>\n      <td>사차방정식 `(x^2-4x)(x^2-4x-17)+60=0`의 근을 모두 더하면?</td>\n      <td>H1S1-07</td>\n      <td>H1S1-07</td>\n      <td>H1S1-07</td>\n      <td>H1S1-03</td>\n      <td>0.547870</td>\n    </tr>\n    <tr>\n      <th>9</th>\n      <td>4350</td>\n      <td>`-3 &lt;= x &lt;= 2`에서 이차함수 `y=-2x^2-4x+a`의 최댓값이 `5`...</td>\n      <td>H1S1-06</td>\n      <td>H1S1-06</td>\n      <td>H1S1-06</td>\n      <td>H1S1-06</td>\n      <td>0.701227</td>\n    </tr>\n    <tr>\n      <th>10</th>\n      <td>4748</td>\n      <td>`x`절편이 `-3`이고 `y`절편이 `4`인 직선의 방정식은?</td>\n      <td>H1S1-10</td>\n      <td>H1S1-10</td>\n      <td>H1S1-10</td>\n      <td>H1S1-11</td>\n      <td>0.485363</td>\n    </tr>\n    <tr>\n      <th>11</th>\n      <td>4968</td>\n      <td>`f(x)=4x^3+9x^2-3x+7`에 대해 `f(-1/2x+1)=0`의 세 근의...</td>\n      <td>H1S1-05</td>\n      <td>H1S2-05</td>\n      <td>H1S1-01</td>\n      <td>H1S1-03</td>\n      <td>0.646369</td>\n    </tr>\n    <tr>\n      <th>12</th>\n      <td>3818</td>\n      <td>두 포물선 `y=-x^2-2x+2`, `y=x^2-6x+14`가 점 `P`에 대하여...</td>\n      <td>H1S1-12</td>\n      <td>H1S1-12</td>\n      <td>H1S1-01</td>\n      <td>H1S1-11</td>\n      <td>0.636652</td>\n    </tr>\n    <tr>\n      <th>13</th>\n      <td>3884</td>\n      <td>두 점 `A(-1, 1)`, `B(7, 5)`를 지나는 직선에 수직이고, `bar ...</td>\n      <td>H1S1-09</td>\n      <td>H1S1-09</td>\n      <td>H1S1-01</td>\n      <td>H1S1-10</td>\n      <td>0.731098</td>\n    </tr>\n    <tr>\n      <th>14</th>\n      <td>3990</td>\n      <td>사차방정식 `(x+1)(x+2)(x+3)(x+4)=120`의 허수근이 다음과 같이 ...</td>\n      <td>H1S1-07</td>\n      <td>H1S1-07</td>\n      <td>H1S1-01</td>\n      <td>H1S2-06</td>\n      <td>0.681287</td>\n    </tr>\n  </tbody>\n</table>\n</div>"
     },
     "metadata": {},
     "execution_count": 24
    }
   ],
   "source": [
    "# load the preprocessed dataset\n",
    "df_eval = pd.read_csv(f\"{DATA_PATH}/data_eval_labels.csv\", encoding=\"utf-8\")\n",
    "df_eval.head(15)"
   ]
  },
  {
   "cell_type": "code",
   "execution_count": 25,
   "metadata": {},
   "outputs": [
    {
     "output_type": "execute_result",
     "data": {
      "text/plain": [
       "[{'qplay_question_id': 3535, 'predict_category': 'H1S1-09'},\n",
       " {'qplay_question_id': 4537, 'predict_category': 'H1S1-01'},\n",
       " {'qplay_question_id': 3910, 'predict_category': 'H1S1-08'},\n",
       " {'qplay_question_id': 4294, 'predict_category': 'H1S1-09'},\n",
       " {'qplay_question_id': 4319, 'predict_category': 'H1S1-01'}]"
      ]
     },
     "metadata": {},
     "execution_count": 25
    }
   ],
   "source": [
    "submission = []\n",
    "model_label_name = \"tfidf_pred_chapter\"\n",
    "\n",
    "for i in range(len(df_test)):\n",
    "    temp_dic = {}\n",
    "    temp_dic['qplay_question_id'] = int(df_test.loc[i, 'qplay_question_id'])\n",
    "    temp_dic['predict_category'] = df_eval.loc[i, model_label_name]\n",
    "    submission.append(temp_dic)\n",
    "\n",
    "submission[0:5]"
   ]
  },
  {
   "cell_type": "code",
   "execution_count": 26,
   "metadata": {},
   "outputs": [
    {
     "output_type": "stream",
     "name": "stdout",
     "text": [
      "{'message': [{'high_score': 0.0, 'team_name': '고려대학교 KUBIG'},\n             {'high_score': 0.7999961959691431, 'team_name': '연세대학교 ybigta'},\n             {'high_score': 0.82773999316432,\n              'team_name': 'mathpresso_baseline'},\n             {'high_score': 0.8724415046283901, 'team_name': '연세대학교 YAI'}]}\n"
     ]
    }
   ],
   "source": [
    "\"\"\"\n",
    "from pprint import pprint\n",
    "import requests\n",
    "import json\n",
    "HOST = 'http://ec2-13-125-227-119.ap-northeast-2.compute.amazonaws.com:8080/'\n",
    "TOKEN = \"055c2875-d72c-4ea8-9381-a2d1323cb618\"\n",
    "data = {\"token\" : TOKEN,\n",
    "        \"payload\": submission}\n",
    "# submit your answer \n",
    "response = requests.post(f'{HOST}submit/', data = json.dumps(data))\n",
    "pprint(json.loads(requests.get(f'{HOST}rank/').text))\n",
    "\"\"\""
   ]
  },
  {
   "cell_type": "code",
   "execution_count": 1,
   "metadata": {},
   "outputs": [
    {
     "output_type": "stream",
     "name": "stdout",
     "text": [
      "{'message': [{'high_score': 0.8170512920594499, 'team_name': '고려대학교 KUBIG'},\n             {'high_score': 0.8309340694390499,\n              'team_name': 'mathpresso_baseline'},\n             {'high_score': 0.8769679804900951, 'team_name': '연세대학교 ybigta'},\n             {'high_score': 0.8809188255597712, 'team_name': '연세대학교 YAI'}]}\n"
     ]
    }
   ],
   "source": [
    "from pprint import pprint\n",
    "import requests\n",
    "import json\n",
    "HOST = 'http://ec2-13-125-227-119.ap-northeast-2.compute.amazonaws.com:8080/'\n",
    "# TOKEN = \"055c2875-d72c-4ea8-9381-a2d1323cb618\"\n",
    "# data = {\"token\" : TOKEN,\n",
    "#         \"payload\": submission}\n",
    "# # submit your answer \n",
    "# response = requests.post(f'{HOST}submit/', data = json.dumps(data))\n",
    "pprint(json.loads(requests.get(f'{HOST}rank/').text))\n"
   ]
  }
 ]
}