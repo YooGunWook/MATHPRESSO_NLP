{
 "metadata": {
  "language_info": {
   "codemirror_mode": {
    "name": "ipython",
    "version": 3
   },
   "file_extension": ".py",
   "mimetype": "text/x-python",
   "name": "python",
   "nbconvert_exporter": "python",
   "pygments_lexer": "ipython3",
   "version": "3.8.3-final"
  },
  "orig_nbformat": 2,
  "kernelspec": {
   "name": "python3",
   "display_name": "Python 3.8.3 64-bit ('math_nlp')",
   "metadata": {
    "interpreter": {
     "hash": "b0342785599f483fbf2673039d90c9d8e5c499f0db3bc16fe29e86731d39d362"
    }
   }
  }
 },
 "nbformat": 4,
 "nbformat_minor": 2,
 "cells": [
  {
   "source": [
    "### Deep mind dataset과의 notation 통일"
   ],
   "cell_type": "markdown",
   "metadata": {}
  },
  {
   "cell_type": "code",
   "execution_count": 1,
   "metadata": {},
   "outputs": [],
   "source": [
    "import pandas as pd\n",
    "import numpy as np"
   ]
  },
  {
   "cell_type": "code",
   "execution_count": 2,
   "metadata": {},
   "outputs": [
    {
     "output_type": "execute_result",
     "data": {
      "text/plain": [
       "'1.1.4'"
      ]
     },
     "metadata": {},
     "execution_count": 2
    }
   ],
   "source": [
    "pd.__version__"
   ]
  },
  {
   "cell_type": "code",
   "execution_count": 5,
   "metadata": {},
   "outputs": [],
   "source": [
    "DEEP_MIND_PATH = \"/Users/noopy/Downloads/mathematics_dataset-v1.0\""
   ]
  },
  {
   "cell_type": "code",
   "execution_count": 6,
   "metadata": {},
   "outputs": [],
   "source": [
    "DATA_FILE_PATH = \"extrapolate/probability__swr_p_level_set_more_samples.txt\""
   ]
  },
  {
   "cell_type": "code",
   "execution_count": 9,
   "metadata": {
    "tags": []
   },
   "outputs": [
    {
     "output_type": "stream",
     "name": "stdout",
     "text": [
      "20000 ['Five letters picked without replacement from jrrrjrlrrrjrrjlj. What is prob of picking 5 r?', '3/104', 'Five letters picked without replacement from {b: 3, w: 1, q: 2, k: 6}. Give prob of picking 2 k, 1 b, and 2 q.', '5/88', 'What is prob of picking 1 n and 4 m when five letters picked without replacement from {m: 6, n: 1}?', '5/7', 'Calculate prob of picking 4 d and 1 w when five letters picked without replacement from eedddwffddfe.', '5/792', 'Five letters picked without replacement from ciiffcicfkkcicii. What is prob of picking 3 i and 2 c?', '25/546']\n"
     ]
    }
   ],
   "source": [
    "# Reading josa from txt file\n",
    "list_questions = []\n",
    "\n",
    "with open(f'{DEEP_MIND_PATH}/{DATA_FILE_PATH}', 'rt', encoding=\"UTF8\") as input_file:\n",
    "    for line in input_file:\n",
    "        # remove linebreak which is the last character of the string\n",
    "        str_question = line[:-1]\n",
    "\n",
    "        # add item to the list\n",
    "        list_questions.append(str_question)\n",
    "print(len(list_questions),list_questions[:10])"
   ]
  },
  {
   "cell_type": "code",
   "execution_count": null,
   "metadata": {},
   "outputs": [],
   "source": []
  }
 ]
}