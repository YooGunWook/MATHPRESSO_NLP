{
 "cells": [
  {
   "cell_type": "code",
   "execution_count": 2,
   "metadata": {},
   "outputs": [],
   "source": [
    "import pandas as pd\n",
    "import numpy as np\n",
    "import re\n",
    "from konlpy.tag import Okt\n",
    "from konlpy.tag import Kkma  \n",
    "from gluonnlp.data import SentencepieceTokenizer\n",
    "from soynlp.tokenizer import RegexTokenizer, LTokenizer, MaxScoreTokenizer\n",
    "from kobert.utils import get_tokenizer\n",
    "from gensim.models import Word2Vec\n",
    "from scipy.spatial import distance\n",
    "from tqdm import tqdm"
   ]
  },
  {
   "cell_type": "code",
   "execution_count": 3,
   "metadata": {},
   "outputs": [],
   "source": [
    "DATA_PATH = './data'"
   ]
  },
  {
   "cell_type": "code",
   "execution_count": 29,
   "metadata": {},
   "outputs": [],
   "source": [
    "DATA = pd.read_csv(DATA_PATH+'/data_josa_removed.csv', index_col=0)"
   ]
  },
  {
   "cell_type": "code",
   "execution_count": 4,
   "metadata": {},
   "outputs": [],
   "source": [
    "df = pd.read_csv(DATA_PATH+'/data_josa_removed.csv', index_col=0)"
   ]
  },
  {
   "cell_type": "code",
   "execution_count": 5,
   "metadata": {},
   "outputs": [
    {
     "data": {
      "text/html": [
       "<div>\n",
       "<style scoped>\n",
       "    .dataframe tbody tr th:only-of-type {\n",
       "        vertical-align: middle;\n",
       "    }\n",
       "\n",
       "    .dataframe tbody tr th {\n",
       "        vertical-align: top;\n",
       "    }\n",
       "\n",
       "    .dataframe thead th {\n",
       "        text-align: right;\n",
       "    }\n",
       "</style>\n",
       "<table border=\"1\" class=\"dataframe\">\n",
       "  <thead>\n",
       "    <tr style=\"text-align: right;\">\n",
       "      <th></th>\n",
       "      <th>qplay_question_id</th>\n",
       "      <th>text</th>\n",
       "      <th>qtid</th>\n",
       "      <th>name</th>\n",
       "      <th>subtitle</th>\n",
       "      <th>question_difficulty</th>\n",
       "      <th>question_type_difficulty</th>\n",
       "      <th>grade</th>\n",
       "      <th>purpose</th>\n",
       "    </tr>\n",
       "  </thead>\n",
       "  <tbody>\n",
       "    <tr>\n",
       "      <th>0</th>\n",
       "      <td>3504</td>\n",
       "      <td>['연립부등식', '`', '{', '(', '-', 'x', '-3', '&gt;', ...</td>\n",
       "      <td>H1S1-08-05</td>\n",
       "      <td>해를 갖거나 갖지 않는 연립일차부등식</td>\n",
       "      <td>NaN</td>\n",
       "      <td>3</td>\n",
       "      <td>2.0</td>\n",
       "      <td>10</td>\n",
       "      <td>open</td>\n",
       "    </tr>\n",
       "    <tr>\n",
       "      <th>1</th>\n",
       "      <td>3675</td>\n",
       "      <td>['부등식', '`', '[', 'x', ']', '^', '2', '-2', '[...</td>\n",
       "      <td>H1S1-08-11</td>\n",
       "      <td>절댓값 또는 가우스 기호가 포함된 이차부등식</td>\n",
       "      <td>NaN</td>\n",
       "      <td>3</td>\n",
       "      <td>2.0</td>\n",
       "      <td>10</td>\n",
       "      <td>open</td>\n",
       "    </tr>\n",
       "  </tbody>\n",
       "</table>\n",
       "</div>"
      ],
      "text/plain": [
       "   qplay_question_id                                               text  \\\n",
       "0               3504  ['연립부등식', '`', '{', '(', '-', 'x', '-3', '>', ...   \n",
       "1               3675  ['부등식', '`', '[', 'x', ']', '^', '2', '-2', '[...   \n",
       "\n",
       "         qtid                      name subtitle  question_difficulty  \\\n",
       "0  H1S1-08-05      해를 갖거나 갖지 않는 연립일차부등식      NaN                    3   \n",
       "1  H1S1-08-11  절댓값 또는 가우스 기호가 포함된 이차부등식      NaN                    3   \n",
       "\n",
       "   question_type_difficulty  grade purpose  \n",
       "0                       2.0     10    open  \n",
       "1                       2.0     10    open  "
      ]
     },
     "execution_count": 5,
     "metadata": {},
     "output_type": "execute_result"
    }
   ],
   "source": [
    "df.head(2)"
   ]
  },
  {
   "cell_type": "markdown",
   "metadata": {},
   "source": [
    "### Preprocess"
   ]
  },
  {
   "cell_type": "code",
   "execution_count": 6,
   "metadata": {},
   "outputs": [],
   "source": [
    "# 파일로 저장되어서 텍스트로 바뀐 리스트를 다시 리스트 형태로 변환\n",
    "def text_to_list(x):\n",
    "    x = re.sub(\"^\\[|\\]$|\\'\", '', x)\n",
    "    x = x.split(', ')\n",
    "    return x"
   ]
  },
  {
   "cell_type": "code",
   "execution_count": 33,
   "metadata": {},
   "outputs": [
    {
     "data": {
      "text/plain": [
       "0       [연립부등식, `, {, (, -, x, -3, >, =, -2, x, +, 1, ...\n",
       "1       [부등식, `, [, x, ], ^, 2, -2, [, x, ], -3, <, 0,...\n",
       "2       [점, `, (, 1, ,, 2, ), `, 지나, 중심, 직선, `, x, -, ...\n",
       "3       [`, x, `,, `, y, `, 정수일, 때, ,, 방정식, `, xy, +, ...\n",
       "4       [평행이동, `, (, x, ,, y, ), ->, (, x, +, 2, ,, y,...\n",
       "                              ...                        \n",
       "5359    [두, 사건, `, A, `,, `, B, `, 대하, `, P, (, A, uu,...\n",
       "5360    [집합, `, X, =, {, 1, ,, 2, ,, 3, ,, 4, ,, 5, },...\n",
       "5361    [실수, 전체, 집합, 정의된, 함수, `, f, (, x, ), `, 다음, 조건...\n",
       "5362    [실수, `, x, `, 대, 두, 조건, `, p, `,, `, q, `, 다음,...\n",
       "5363    [같, 종류, 비어, 있, 상자, `, 3, `, 개, 있, ., 같, 종류, 장난...\n",
       "Name: text, Length: 5364, dtype: object"
      ]
     },
     "execution_count": 33,
     "metadata": {},
     "output_type": "execute_result"
    }
   ],
   "source": [
    "DATA['text'] = DATA['text'].apply(text_to_list)\n",
    "DATA['text']"
   ]
  },
  {
   "cell_type": "code",
   "execution_count": 34,
   "metadata": {},
   "outputs": [
    {
     "data": {
      "text/plain": [
       "0       H1S1-08\n",
       "1       H1S1-08\n",
       "2       H1S1-11\n",
       "3       H1S1-07\n",
       "4       H1S1-12\n",
       "         ...   \n",
       "5359    HSTA-03\n",
       "5360    H1S2-07\n",
       "5361    H1S2-04\n",
       "5362    H1S2-03\n",
       "5363    H1S2-07\n",
       "Name: chapter, Length: 5364, dtype: object"
      ]
     },
     "execution_count": 34,
     "metadata": {},
     "output_type": "execute_result"
    }
   ],
   "source": [
    "# Make chapter with qtid\n",
    "DATA['chapter'] = 0\n",
    "DATA['chapter'] = DATA['qtid'].apply(lambda x: re.sub('-[0-9]{2}$', '', x))\n",
    "DATA['chapter']"
   ]
  },
  {
   "cell_type": "markdown",
   "metadata": {},
   "source": [
    "### Make train, test set"
   ]
  },
  {
   "cell_type": "code",
   "execution_count": 9,
   "metadata": {},
   "outputs": [],
   "source": [
    "#from sklearn.model_selection import train_test_split\n",
    "\n",
    "#df, df_test = train_test_split(df, test_size=0.2)"
   ]
  },
  {
   "cell_type": "markdown",
   "metadata": {},
   "source": [
    "### Word2vec 적용"
   ]
  },
  {
   "cell_type": "code",
   "execution_count": 10,
   "metadata": {},
   "outputs": [],
   "source": [
    "tokens = df['text']\n",
    "v_dimension = 500\n",
    "v_window = 50\n",
    "\n",
    "model = Word2Vec(sentences = tokens.tolist(), \n",
    "                 size = v_dimension, \n",
    "                 window = v_window, \n",
    "                 min_count = 2, \n",
    "                 workers = 4, \n",
    "                 sg = 0)"
   ]
  },
  {
   "cell_type": "code",
   "execution_count": 11,
   "metadata": {},
   "outputs": [],
   "source": [
    "# Get question vectors without normalization\n",
    "\n",
    "def all_question_embedding(df_tokens):\n",
    "    vectors = []\n",
    "    for tokens in df_tokens:\n",
    "        init_v = np.array([0.0]*v_dimension)  # Set empty array\n",
    "        for token in tokens:\n",
    "            word_vectors = model.wv  # Get word2vec model dictionary\n",
    "            if token in word_vectors.vocab: # Add word to question vector if word is in w2v model dictionary\n",
    "                v = model.wv[token]\n",
    "                init_v = init_v + v\n",
    "        vectors.append(init_v)\n",
    "\n",
    "    frame = {'name': df['name'].tolist(), 'vector': vectors }\n",
    "    result = pd.DataFrame(frame)\n",
    "    return result"
   ]
  },
  {
   "cell_type": "code",
   "execution_count": 12,
   "metadata": {},
   "outputs": [],
   "source": [
    "# \n",
    "\n",
    "def single_question_embedding(tokens):\n",
    "    # Vectorization with word2vec\n",
    "    init_v = np.array([0.0]*v_dimension)\n",
    "    for word in tokens:\n",
    "        word_vectors = model.wv\n",
    "        if word in word_vectors.vocab:\n",
    "            v = model.wv[word]\n",
    "            init_v = init_v + v\n",
    "    return init_v"
   ]
  },
  {
   "cell_type": "code",
   "execution_count": 13,
   "metadata": {},
   "outputs": [],
   "source": [
    "# Make mid-chapter vectors adding sentence vectors\n",
    "\n",
    "def name_embedding(df):\n",
    "    name_list = []\n",
    "    vector_list = []\n",
    "    for name in df['name'].unique():\n",
    "        temp = df.loc[df['name'] == name]\n",
    "        add_v = np.array([0.0]*v_dimension)\n",
    "        for vec in temp['vector']:\n",
    "            add_v = add_v + vec\n",
    "        name_list.append(name)\n",
    "        vector_list.append(add_v)\n",
    "        \n",
    "    frame = {'name': name_list, 'vector': vector_list }\n",
    "    result = pd.DataFrame(frame)\n",
    "    \n",
    "    return result"
   ]
  },
  {
   "cell_type": "code",
   "execution_count": 14,
   "metadata": {},
   "outputs": [
    {
     "data": {
      "text/html": [
       "<div>\n",
       "<style scoped>\n",
       "    .dataframe tbody tr th:only-of-type {\n",
       "        vertical-align: middle;\n",
       "    }\n",
       "\n",
       "    .dataframe tbody tr th {\n",
       "        vertical-align: top;\n",
       "    }\n",
       "\n",
       "    .dataframe thead th {\n",
       "        text-align: right;\n",
       "    }\n",
       "</style>\n",
       "<table border=\"1\" class=\"dataframe\">\n",
       "  <thead>\n",
       "    <tr style=\"text-align: right;\">\n",
       "      <th></th>\n",
       "      <th>name</th>\n",
       "      <th>vector</th>\n",
       "    </tr>\n",
       "  </thead>\n",
       "  <tbody>\n",
       "    <tr>\n",
       "      <th>0</th>\n",
       "      <td>해를 갖거나 갖지 않는 연립일차부등식</td>\n",
       "      <td>[18.834240006282926, -6.196072686463594, 13.93...</td>\n",
       "    </tr>\n",
       "    <tr>\n",
       "      <th>1</th>\n",
       "      <td>절댓값 또는 가우스 기호가 포함된 이차부등식</td>\n",
       "      <td>[7.836369529366493, -1.0413185358047485, 3.543...</td>\n",
       "    </tr>\n",
       "    <tr>\n",
       "      <th>2</th>\n",
       "      <td>x축 또는 y축에 접하는 원의 방정식</td>\n",
       "      <td>[18.35009165853262, -11.0173349827528, 20.1296...</td>\n",
       "    </tr>\n",
       "    <tr>\n",
       "      <th>3</th>\n",
       "      <td>정수 및 자연수 조건을 갖는 부정방정식</td>\n",
       "      <td>[13.213709262898192, -4.719159467145801, 13.90...</td>\n",
       "    </tr>\n",
       "    <tr>\n",
       "      <th>4</th>\n",
       "      <td>도형의 평행이동 (2)</td>\n",
       "      <td>[39.9215270280838, -15.264107968658209, 38.037...</td>\n",
       "    </tr>\n",
       "    <tr>\n",
       "      <th>...</th>\n",
       "      <td>...</td>\n",
       "      <td>...</td>\n",
       "    </tr>\n",
       "    <tr>\n",
       "      <th>5359</th>\n",
       "      <td>확률의 덧셈정리 (1)</td>\n",
       "      <td>[17.424915118142962, -7.336826055310667, 28.67...</td>\n",
       "    </tr>\n",
       "    <tr>\n",
       "      <th>5360</th>\n",
       "      <td>함수의 개수</td>\n",
       "      <td>[9.911998490802944, -0.42539719690103084, 16.7...</td>\n",
       "    </tr>\n",
       "    <tr>\n",
       "      <th>5361</th>\n",
       "      <td>함수의 그래프와 합성함수</td>\n",
       "      <td>[94.96395476534963, -27.49848104827106, 77.660...</td>\n",
       "    </tr>\n",
       "    <tr>\n",
       "      <th>5362</th>\n",
       "      <td>명제가 참이 되도록 하는 상수 구하기</td>\n",
       "      <td>[33.61963940411806, -1.8944173408672214, 35.62...</td>\n",
       "    </tr>\n",
       "    <tr>\n",
       "      <th>5363</th>\n",
       "      <td>분할하는 방법의 수</td>\n",
       "      <td>[-16.79813772905618, 1.8716761760879308, -5.40...</td>\n",
       "    </tr>\n",
       "  </tbody>\n",
       "</table>\n",
       "<p>5364 rows × 2 columns</p>\n",
       "</div>"
      ],
      "text/plain": [
       "                          name  \\\n",
       "0         해를 갖거나 갖지 않는 연립일차부등식   \n",
       "1     절댓값 또는 가우스 기호가 포함된 이차부등식   \n",
       "2         x축 또는 y축에 접하는 원의 방정식   \n",
       "3        정수 및 자연수 조건을 갖는 부정방정식   \n",
       "4                 도형의 평행이동 (2)   \n",
       "...                        ...   \n",
       "5359              확률의 덧셈정리 (1)   \n",
       "5360                    함수의 개수   \n",
       "5361             함수의 그래프와 합성함수   \n",
       "5362      명제가 참이 되도록 하는 상수 구하기   \n",
       "5363                분할하는 방법의 수   \n",
       "\n",
       "                                                 vector  \n",
       "0     [18.834240006282926, -6.196072686463594, 13.93...  \n",
       "1     [7.836369529366493, -1.0413185358047485, 3.543...  \n",
       "2     [18.35009165853262, -11.0173349827528, 20.1296...  \n",
       "3     [13.213709262898192, -4.719159467145801, 13.90...  \n",
       "4     [39.9215270280838, -15.264107968658209, 38.037...  \n",
       "...                                                 ...  \n",
       "5359  [17.424915118142962, -7.336826055310667, 28.67...  \n",
       "5360  [9.911998490802944, -0.42539719690103084, 16.7...  \n",
       "5361  [94.96395476534963, -27.49848104827106, 77.660...  \n",
       "5362  [33.61963940411806, -1.8944173408672214, 35.62...  \n",
       "5363  [-16.79813772905618, 1.8716761760879308, -5.40...  \n",
       "\n",
       "[5364 rows x 2 columns]"
      ]
     },
     "execution_count": 14,
     "metadata": {},
     "output_type": "execute_result"
    }
   ],
   "source": [
    "all_question_embedded = all_question_embedding(tokens)\n",
    "all_question_embedded"
   ]
  },
  {
   "cell_type": "code",
   "execution_count": 15,
   "metadata": {},
   "outputs": [
    {
     "data": {
      "text/html": [
       "<div>\n",
       "<style scoped>\n",
       "    .dataframe tbody tr th:only-of-type {\n",
       "        vertical-align: middle;\n",
       "    }\n",
       "\n",
       "    .dataframe tbody tr th {\n",
       "        vertical-align: top;\n",
       "    }\n",
       "\n",
       "    .dataframe thead th {\n",
       "        text-align: right;\n",
       "    }\n",
       "</style>\n",
       "<table border=\"1\" class=\"dataframe\">\n",
       "  <thead>\n",
       "    <tr style=\"text-align: right;\">\n",
       "      <th></th>\n",
       "      <th>name</th>\n",
       "      <th>vector</th>\n",
       "    </tr>\n",
       "  </thead>\n",
       "  <tbody>\n",
       "    <tr>\n",
       "      <th>0</th>\n",
       "      <td>해를 갖거나 갖지 않는 연립일차부등식</td>\n",
       "      <td>[181.61575108859688, -90.54577681003138, 131.3...</td>\n",
       "    </tr>\n",
       "    <tr>\n",
       "      <th>1</th>\n",
       "      <td>절댓값 또는 가우스 기호가 포함된 이차부등식</td>\n",
       "      <td>[104.59947786293924, -8.647887026425451, 55.55...</td>\n",
       "    </tr>\n",
       "  </tbody>\n",
       "</table>\n",
       "</div>"
      ],
      "text/plain": [
       "                       name                                             vector\n",
       "0      해를 갖거나 갖지 않는 연립일차부등식  [181.61575108859688, -90.54577681003138, 131.3...\n",
       "1  절댓값 또는 가우스 기호가 포함된 이차부등식  [104.59947786293924, -8.647887026425451, 55.55..."
      ]
     },
     "execution_count": 15,
     "metadata": {},
     "output_type": "execute_result"
    }
   ],
   "source": [
    "name_embedded = name_embedding(all_question_embedded)\n",
    "name_embedded.head(2)"
   ]
  },
  {
   "cell_type": "code",
   "execution_count": 16,
   "metadata": {},
   "outputs": [],
   "source": [
    "def calculate_cosinesim(question):\n",
    "    temp = single_question_embedding(question)\n",
    "    result = []\n",
    "    # Calculate cosine simmilarity between question and every names\n",
    "    for name_vector in name_embedded['vector']:\n",
    "        cosine = 1 - distance.cosine(name_vector, temp)\n",
    "        result.append(cosine)\n",
    "    # Make output dataframe\n",
    "    df = pd.DataFrame(data=np.zeros([len(name_embedded),2]), columns=['name', 'result'])\n",
    "    df['name'] = name_embedded['name']\n",
    "    df['result'] = result\n",
    "\n",
    "    df.sort_values('result', ascending=False, inplace=True)\n",
    "    return df"
   ]
  },
  {
   "cell_type": "markdown",
   "metadata": {},
   "source": [
    "### Model apply"
   ]
  },
  {
   "cell_type": "code",
   "execution_count": 30,
   "metadata": {},
   "outputs": [],
   "source": [
    "# Apply function to whole dataset\n",
    "def apply_w2v_name(df):\n",
    "    name_list = []\n",
    "    cosine_list = []\n",
    "    for i in tqdm(df.index):\n",
    "        result = calculate_cosinesim(df.loc[i, 'text'])\n",
    "        result = result.sort_values(by='result', ascending=False).reset_index(drop=True)\n",
    "        name = result['name'][0] # Get the most similar name with question\n",
    "        cosine = result['result'][0]\n",
    "        name_list.append(name)\n",
    "        cosine_list.append(cosine)\n",
    "\n",
    "    # Concatenate predict result with dataframe\n",
    "    pred = pd.DataFrame(list(zip(name_list, cosine_list)), columns = ['pred_name', 'pred_similarity'])\n",
    "    pred.index = df.index\n",
    "    pred['pred_chapter'] = 0\n",
    "    for i in df.index:\n",
    "        pred.loc[i, 'pred_chapter'] = DATA[DATA['name']==pred.loc[i, 'pred_name']]['chapter'].unique()[-1]\n",
    "    \n",
    "    return pred"
   ]
  },
  {
   "cell_type": "code",
   "execution_count": 25,
   "metadata": {},
   "outputs": [
    {
     "name": "stderr",
     "output_type": "stream",
     "text": [
      "100%|██████████| 5364/5364 [01:38<00:00, 54.55it/s]\n"
     ]
    },
    {
     "data": {
      "text/html": [
       "<div>\n",
       "<style scoped>\n",
       "    .dataframe tbody tr th:only-of-type {\n",
       "        vertical-align: middle;\n",
       "    }\n",
       "\n",
       "    .dataframe tbody tr th {\n",
       "        vertical-align: top;\n",
       "    }\n",
       "\n",
       "    .dataframe thead th {\n",
       "        text-align: right;\n",
       "    }\n",
       "</style>\n",
       "<table border=\"1\" class=\"dataframe\">\n",
       "  <thead>\n",
       "    <tr style=\"text-align: right;\">\n",
       "      <th></th>\n",
       "      <th>pred_name</th>\n",
       "      <th>pred_similarity</th>\n",
       "      <th>pred_chapter</th>\n",
       "    </tr>\n",
       "  </thead>\n",
       "  <tbody>\n",
       "    <tr>\n",
       "      <th>0</th>\n",
       "      <td>연립이차부등식</td>\n",
       "      <td>0.992603</td>\n",
       "      <td>H1S1-08</td>\n",
       "    </tr>\n",
       "    <tr>\n",
       "      <th>1</th>\n",
       "      <td>이차부등식</td>\n",
       "      <td>0.950958</td>\n",
       "      <td>H1S1-08</td>\n",
       "    </tr>\n",
       "  </tbody>\n",
       "</table>\n",
       "</div>"
      ],
      "text/plain": [
       "  pred_name  pred_similarity pred_chapter\n",
       "0   연립이차부등식         0.992603      H1S1-08\n",
       "1     이차부등식         0.950958      H1S1-08"
      ]
     },
     "execution_count": 25,
     "metadata": {},
     "output_type": "execute_result"
    }
   ],
   "source": [
    "pred = apply_w2v_name(df)\n",
    "pred.head(2)"
   ]
  },
  {
   "cell_type": "markdown",
   "metadata": {},
   "source": [
    "### Evaluation"
   ]
  },
  {
   "cell_type": "code",
   "execution_count": 22,
   "metadata": {},
   "outputs": [
    {
     "name": "stdout",
     "output_type": "stream",
     "text": [
      "0.6260253542132737\n"
     ]
    }
   ],
   "source": [
    "# Evaluate predict score with accuracy\n",
    "\n",
    "from sklearn.metrics import accuracy_score\n",
    "score = accuracy_score(df['chapter'], pred['pred_chapter'])\n",
    "print(score)"
   ]
  },
  {
   "cell_type": "code",
   "execution_count": 23,
   "metadata": {},
   "outputs": [
    {
     "data": {
      "text/html": [
       "<div>\n",
       "<style scoped>\n",
       "    .dataframe tbody tr th:only-of-type {\n",
       "        vertical-align: middle;\n",
       "    }\n",
       "\n",
       "    .dataframe tbody tr th {\n",
       "        vertical-align: top;\n",
       "    }\n",
       "\n",
       "    .dataframe thead th {\n",
       "        text-align: right;\n",
       "    }\n",
       "</style>\n",
       "<table border=\"1\" class=\"dataframe\">\n",
       "  <thead>\n",
       "    <tr style=\"text-align: right;\">\n",
       "      <th></th>\n",
       "      <th>chapter</th>\n",
       "      <th>pred_name</th>\n",
       "      <th>pred_similarity</th>\n",
       "      <th>pred_chapter</th>\n",
       "    </tr>\n",
       "  </thead>\n",
       "  <tbody>\n",
       "    <tr>\n",
       "      <th>0</th>\n",
       "      <td>H1S1-08</td>\n",
       "      <td>연립이차부등식</td>\n",
       "      <td>0.992603</td>\n",
       "      <td>H1S1-08</td>\n",
       "    </tr>\n",
       "    <tr>\n",
       "      <th>1</th>\n",
       "      <td>H1S1-08</td>\n",
       "      <td>이차부등식</td>\n",
       "      <td>0.950958</td>\n",
       "      <td>H1S1-08</td>\n",
       "    </tr>\n",
       "    <tr>\n",
       "      <th>2</th>\n",
       "      <td>H1S1-11</td>\n",
       "      <td>x축 또는 y축에 접하는 원의 방정식</td>\n",
       "      <td>0.978045</td>\n",
       "      <td>H1S1-11</td>\n",
       "    </tr>\n",
       "    <tr>\n",
       "      <th>3</th>\n",
       "      <td>H1S1-07</td>\n",
       "      <td>정수 및 자연수 조건을 갖는 부정방정식</td>\n",
       "      <td>0.986447</td>\n",
       "      <td>H1S1-07</td>\n",
       "    </tr>\n",
       "    <tr>\n",
       "      <th>4</th>\n",
       "      <td>H1S1-12</td>\n",
       "      <td>도형의 평행이동 (2)</td>\n",
       "      <td>0.967667</td>\n",
       "      <td>H1S1-12</td>\n",
       "    </tr>\n",
       "    <tr>\n",
       "      <th>5</th>\n",
       "      <td>H1S1-10</td>\n",
       "      <td>선분을 수직이등분하는 방정식</td>\n",
       "      <td>0.991257</td>\n",
       "      <td>H1S1-10</td>\n",
       "    </tr>\n",
       "    <tr>\n",
       "      <th>6</th>\n",
       "      <td>H1S1-09</td>\n",
       "      <td>중선정리 (파푸스의 정리)</td>\n",
       "      <td>0.974618</td>\n",
       "      <td>H1S1-09</td>\n",
       "    </tr>\n",
       "    <tr>\n",
       "      <th>7</th>\n",
       "      <td>H1S1-03</td>\n",
       "      <td>등비수열의 활용</td>\n",
       "      <td>0.950284</td>\n",
       "      <td>HSU1-09</td>\n",
       "    </tr>\n",
       "    <tr>\n",
       "      <th>8</th>\n",
       "      <td>H1S1-08</td>\n",
       "      <td>연립이차부등식</td>\n",
       "      <td>0.994495</td>\n",
       "      <td>H1S1-08</td>\n",
       "    </tr>\n",
       "    <tr>\n",
       "      <th>9</th>\n",
       "      <td>H1S1-11</td>\n",
       "      <td>접선의 길이</td>\n",
       "      <td>0.974307</td>\n",
       "      <td>H1S1-11</td>\n",
       "    </tr>\n",
       "  </tbody>\n",
       "</table>\n",
       "</div>"
      ],
      "text/plain": [
       "   chapter              pred_name  pred_similarity pred_chapter\n",
       "0  H1S1-08                연립이차부등식         0.992603      H1S1-08\n",
       "1  H1S1-08                  이차부등식         0.950958      H1S1-08\n",
       "2  H1S1-11   x축 또는 y축에 접하는 원의 방정식         0.978045      H1S1-11\n",
       "3  H1S1-07  정수 및 자연수 조건을 갖는 부정방정식         0.986447      H1S1-07\n",
       "4  H1S1-12           도형의 평행이동 (2)         0.967667      H1S1-12\n",
       "5  H1S1-10        선분을 수직이등분하는 방정식         0.991257      H1S1-10\n",
       "6  H1S1-09         중선정리 (파푸스의 정리)         0.974618      H1S1-09\n",
       "7  H1S1-03               등비수열의 활용         0.950284      HSU1-09\n",
       "8  H1S1-08                연립이차부등식         0.994495      H1S1-08\n",
       "9  H1S1-11                 접선의 길이         0.974307      H1S1-11"
      ]
     },
     "execution_count": 23,
     "metadata": {},
     "output_type": "execute_result"
    }
   ],
   "source": [
    "pd.concat([df['chapter'], pred], axis=1).head(10)"
   ]
  },
  {
   "cell_type": "markdown",
   "metadata": {},
   "source": [
    "Name을 먼저 예측하고, 이를 바탕으로 중단원을 매칭시켰을 때, 정확도는 약 54%로 향상되었다."
   ]
  },
  {
   "cell_type": "markdown",
   "metadata": {},
   "source": [
    "### Make feature with nth ranking of cosine similarity"
   ]
  },
  {
   "cell_type": "code",
   "execution_count": null,
   "metadata": {},
   "outputs": [],
   "source": [
    "# Set the number of candidates\n",
    "ranking = 3\n",
    "\n",
    "# Apply function to whole dataset\n",
    "\n",
    "name_list = []\n",
    "cosine_list = []\n",
    "for i in tqdm(df.index):\n",
    "    result = calculate_cosinesim(df.loc[i, 'text'])\n",
    "    result = result.sort_values(by='result', ascending=False).reset_index(drop=True)\n",
    "    name_ranking = []\n",
    "    cosine_ranking = []\n",
    "    for j in range(ranking): # Make a ranking of cosine similarity\n",
    "        name_ranking.append(result['name'][j]) # Get the most similar name with question\n",
    "        cosine_ranking.append(result['result'][j])\n",
    "    name_list.append(name_ranking)\n",
    "    cosine_list.append(cosine_ranking)\n",
    "    \n",
    "# Concatenate predict result with dataframe\n",
    "pred = pd.DataFrame(list(zip(name_list, cosine_list)), columns = ['pred_name', 'pred_similarity'])\n",
    "pred.index = df.index\n",
    "pred['pred_chapter'] = 0\n",
    "for i in df.index:\n",
    "    chapter_list = []\n",
    "    for j in pred.loc[i, 'pred_name']:\n",
    "        chapter_list.append(df[df['name']==j]['chapter'].unique()[-1])\n",
    "        pred.loc[i, 'pred_chapter'] = chapter_list\n",
    "pred.head()"
   ]
  },
  {
   "cell_type": "code",
   "execution_count": null,
   "metadata": {},
   "outputs": [],
   "source": [
    "pred.rename(columns = {'pred_chapter' : 'word2vec_pred_chapter'}, inplace = True)\n",
    "pred.rename(columns = {'pred_name' : 'word2vec_pred_name'}, inplace=True)"
   ]
  },
  {
   "cell_type": "code",
   "execution_count": null,
   "metadata": {},
   "outputs": [],
   "source": [
    "data_preprocess = pd.read_csv(DATA_PATH+'/data_preprocessed.csv', index_col=0)\n",
    "final_data = pd.concat([data_preprocess, pred['word2vec_pred_chapter'], pred['word2vec_pred_name']], axis=1)\n",
    "final_data.head(2)"
   ]
  },
  {
   "cell_type": "code",
   "execution_count": 114,
   "metadata": {},
   "outputs": [],
   "source": [
    "#final_data.to_csv(DATA_PATH+'/data_preprocessed.csv', index=False)"
   ]
  },
  {
   "cell_type": "markdown",
   "metadata": {},
   "source": [
    "### Test Model and Submit"
   ]
  },
  {
   "cell_type": "code",
   "execution_count": 27,
   "metadata": {},
   "outputs": [
    {
     "data": {
      "text/html": [
       "<div>\n",
       "<style scoped>\n",
       "    .dataframe tbody tr th:only-of-type {\n",
       "        vertical-align: middle;\n",
       "    }\n",
       "\n",
       "    .dataframe tbody tr th {\n",
       "        vertical-align: top;\n",
       "    }\n",
       "\n",
       "    .dataframe thead th {\n",
       "        text-align: right;\n",
       "    }\n",
       "</style>\n",
       "<table border=\"1\" class=\"dataframe\">\n",
       "  <thead>\n",
       "    <tr style=\"text-align: right;\">\n",
       "      <th></th>\n",
       "      <th>qplay_question_id</th>\n",
       "      <th>text</th>\n",
       "    </tr>\n",
       "  </thead>\n",
       "  <tbody>\n",
       "    <tr>\n",
       "      <th>0</th>\n",
       "      <td>3535</td>\n",
       "      <td>좌표평면 위의 두 점 `A(1, 2)`, `B(5, -2)`에 대하여 선분 `AB`...</td>\n",
       "    </tr>\n",
       "    <tr>\n",
       "      <th>1</th>\n",
       "      <td>4537</td>\n",
       "      <td>`a-b=3`일 때, `a^3-3a^2b+(3b^2-5)a-b^3+5b-10`의 값은?</td>\n",
       "    </tr>\n",
       "  </tbody>\n",
       "</table>\n",
       "</div>"
      ],
      "text/plain": [
       "   qplay_question_id                                               text\n",
       "0               3535  좌표평면 위의 두 점 `A(1, 2)`, `B(5, -2)`에 대하여 선분 `AB`...\n",
       "1               4537   `a-b=3`일 때, `a^3-3a^2b+(3b^2-5)a-b^3+5b-10`의 값은?"
      ]
     },
     "execution_count": 27,
     "metadata": {},
     "output_type": "execute_result"
    }
   ],
   "source": [
    "df_test = pd.read_csv(DATA_PATH+'/hidden_for_inference.csv')\n",
    "df_test.head(2)"
   ]
  },
  {
   "cell_type": "code",
   "execution_count": 35,
   "metadata": {},
   "outputs": [
    {
     "name": "stderr",
     "output_type": "stream",
     "text": [
      "100%|██████████| 1378/1378 [00:25<00:00, 54.60it/s]\n"
     ]
    },
    {
     "data": {
      "text/html": [
       "<div>\n",
       "<style scoped>\n",
       "    .dataframe tbody tr th:only-of-type {\n",
       "        vertical-align: middle;\n",
       "    }\n",
       "\n",
       "    .dataframe tbody tr th {\n",
       "        vertical-align: top;\n",
       "    }\n",
       "\n",
       "    .dataframe thead th {\n",
       "        text-align: right;\n",
       "    }\n",
       "</style>\n",
       "<table border=\"1\" class=\"dataframe\">\n",
       "  <thead>\n",
       "    <tr style=\"text-align: right;\">\n",
       "      <th></th>\n",
       "      <th>pred_name</th>\n",
       "      <th>pred_similarity</th>\n",
       "      <th>pred_chapter</th>\n",
       "    </tr>\n",
       "  </thead>\n",
       "  <tbody>\n",
       "    <tr>\n",
       "      <th>0</th>\n",
       "      <td>독립사건의 확률</td>\n",
       "      <td>0.960253</td>\n",
       "      <td>HSTA-04</td>\n",
       "    </tr>\n",
       "    <tr>\n",
       "      <th>1</th>\n",
       "      <td>곱셈공식의 활용 (2)</td>\n",
       "      <td>0.992238</td>\n",
       "      <td>H1S1-01</td>\n",
       "    </tr>\n",
       "  </tbody>\n",
       "</table>\n",
       "</div>"
      ],
      "text/plain": [
       "      pred_name  pred_similarity pred_chapter\n",
       "0      독립사건의 확률         0.960253      HSTA-04\n",
       "1  곱셈공식의 활용 (2)         0.992238      H1S1-01"
      ]
     },
     "execution_count": 35,
     "metadata": {},
     "output_type": "execute_result"
    }
   ],
   "source": [
    "test_pred = apply_w2v_name(df_test)\n",
    "test_pred.head(2)"
   ]
  },
  {
   "cell_type": "code",
   "execution_count": 41,
   "metadata": {},
   "outputs": [
    {
     "data": {
      "text/plain": [
       "{'qplay_question_id': 3535, 'predict_category': 'HSTA-04'}"
      ]
     },
     "execution_count": 41,
     "metadata": {},
     "output_type": "execute_result"
    }
   ],
   "source": [
    "submission = []\n",
    "for i in range(len(df_test)):\n",
    "    temp_dic = {}\n",
    "    temp_dic['qplay_question_id'] = int(df_test.loc[i, 'qplay_question_id'])\n",
    "    temp_dic['predict_category'] = test_pred.loc[i, 'pred_chapter']\n",
    "    submission.append(temp_dic)\n",
    "\n",
    "submission[0]"
   ]
  },
  {
   "cell_type": "code",
   "execution_count": 44,
   "metadata": {},
   "outputs": [
    {
     "name": "stdout",
     "output_type": "stream",
     "text": [
      "{'message': [{'high_score': 0.0, 'team_name': '고려대학교 KUBIG'},\n",
      "             {'high_score': 0.0, 'team_name': '연세대학교 YAI'},\n",
      "             {'high_score': 0.7999961959691431, 'team_name': '연세대학교 ybigta'},\n",
      "             {'high_score': 0.82773999316432,\n",
      "              'team_name': 'mathpresso_baseline'}]}\n"
     ]
    }
   ],
   "source": [
    "from pprint import pprint\n",
    "import requests\n",
    "import json\n",
    "HOST = 'http://ec2-13-125-227-119.ap-northeast-2.compute.amazonaws.com:8080/'\n",
    "TOKEN = \"055c2875-d72c-4ea8-9381-a2d1323cb618\"\n",
    "data = {\"token\" : TOKEN,\n",
    "        \"payload\": submission}\n",
    "# submit your answer \n",
    "response = requests.post(f'{HOST}submit/', data = json.dumps(data))\n",
    "pprint(json.loads(requests.get(f'{HOST}rank/').text))"
   ]
  },
  {
   "cell_type": "code",
   "execution_count": null,
   "metadata": {},
   "outputs": [],
   "source": []
  }
 ],
 "metadata": {
  "kernelspec": {
   "display_name": "Python 3",
   "language": "python",
   "name": "python3"
  },
  "language_info": {
   "codemirror_mode": {
    "name": "ipython",
    "version": 3
   },
   "file_extension": ".py",
   "mimetype": "text/x-python",
   "name": "python",
   "nbconvert_exporter": "python",
   "pygments_lexer": "ipython3",
   "version": "3.7.4"
  }
 },
 "nbformat": 4,
 "nbformat_minor": 4
}