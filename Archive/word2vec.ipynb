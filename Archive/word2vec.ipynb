{
 "cells": [
  {
   "cell_type": "code",
   "execution_count": 48,
   "metadata": {},
   "outputs": [],
   "source": [
    "import pandas as pd\n",
    "import numpy as np\n",
    "import re\n",
    "from konlpy.tag import Okt\n",
    "from konlpy.tag import Kkma  \n",
    "# from gluonnlp.data import SentencepieceTokenizer\n",
    "from soynlp.tokenizer import RegexTokenizer, LTokenizer, MaxScoreTokenizer\n",
    "# from kobert.utils import get_tokenizer\n",
    "from gensim.models import Word2Vec\n",
    "from scipy.spatial import distance\n",
    "from tqdm import tqdm"
   ]
  },
  {
   "cell_type": "code",
   "execution_count": 49,
   "metadata": {},
   "outputs": [],
   "source": [
    "df = pd.read_csv('data/data_josa_removed.csv', index_col=0)"
   ]
  },
  {
   "cell_type": "code",
   "execution_count": 50,
   "metadata": {},
   "outputs": [
    {
     "data": {
      "text/html": [
       "<div>\n",
       "<style scoped>\n",
       "    .dataframe tbody tr th:only-of-type {\n",
       "        vertical-align: middle;\n",
       "    }\n",
       "\n",
       "    .dataframe tbody tr th {\n",
       "        vertical-align: top;\n",
       "    }\n",
       "\n",
       "    .dataframe thead th {\n",
       "        text-align: right;\n",
       "    }\n",
       "</style>\n",
       "<table border=\"1\" class=\"dataframe\">\n",
       "  <thead>\n",
       "    <tr style=\"text-align: right;\">\n",
       "      <th></th>\n",
       "      <th>qplay_question_id</th>\n",
       "      <th>text</th>\n",
       "      <th>qtid</th>\n",
       "      <th>name</th>\n",
       "      <th>subtitle</th>\n",
       "      <th>question_difficulty</th>\n",
       "      <th>question_type_difficulty</th>\n",
       "      <th>grade</th>\n",
       "      <th>purpose</th>\n",
       "    </tr>\n",
       "  </thead>\n",
       "  <tbody>\n",
       "    <tr>\n",
       "      <th>0</th>\n",
       "      <td>3504</td>\n",
       "      <td>['연립부등식', '`', '{', '(', '-', 'x', '-3', '&gt;', ...</td>\n",
       "      <td>H1S1-08-05</td>\n",
       "      <td>해를 갖거나 갖지 않는 연립일차부등식</td>\n",
       "      <td>NaN</td>\n",
       "      <td>3</td>\n",
       "      <td>2.0</td>\n",
       "      <td>10</td>\n",
       "      <td>open</td>\n",
       "    </tr>\n",
       "    <tr>\n",
       "      <th>1</th>\n",
       "      <td>3675</td>\n",
       "      <td>['부등식', '`', '[', 'x', ']', '^', '2', '-2', '[...</td>\n",
       "      <td>H1S1-08-11</td>\n",
       "      <td>절댓값 또는 가우스 기호가 포함된 이차부등식</td>\n",
       "      <td>NaN</td>\n",
       "      <td>3</td>\n",
       "      <td>2.0</td>\n",
       "      <td>10</td>\n",
       "      <td>open</td>\n",
       "    </tr>\n",
       "  </tbody>\n",
       "</table>\n",
       "</div>"
      ],
      "text/plain": [
       "   qplay_question_id                                               text  \\\n",
       "0               3504  ['연립부등식', '`', '{', '(', '-', 'x', '-3', '>', ...   \n",
       "1               3675  ['부등식', '`', '[', 'x', ']', '^', '2', '-2', '[...   \n",
       "\n",
       "         qtid                      name subtitle  question_difficulty  \\\n",
       "0  H1S1-08-05      해를 갖거나 갖지 않는 연립일차부등식      NaN                    3   \n",
       "1  H1S1-08-11  절댓값 또는 가우스 기호가 포함된 이차부등식      NaN                    3   \n",
       "\n",
       "   question_type_difficulty  grade purpose  \n",
       "0                       2.0     10    open  \n",
       "1                       2.0     10    open  "
      ]
     },
     "execution_count": 50,
     "metadata": {},
     "output_type": "execute_result"
    }
   ],
   "source": [
    "df.head(2)"
   ]
  },
  {
   "cell_type": "code",
   "execution_count": 51,
   "metadata": {},
   "outputs": [],
   "source": [
    "# 파일로 저장되어서 텍스트로 바뀐 리스트를 다시 리스트 형태로 변환\n",
    "def text_to_list(x):\n",
    "    x = re.sub(\"^\\[|\\]$|\\'\", '', x)\n",
    "    x = x.split(', ')\n",
    "    return x"
   ]
  },
  {
   "cell_type": "code",
   "execution_count": 52,
   "metadata": {},
   "outputs": [
    {
     "data": {
      "text/plain": [
       "0       [연립부등식, `, {, (, -, x, -3, >, =, -2, x, +, 1, ...\n",
       "1       [부등식, `, [, x, ], ^, 2, -2, [, x, ], -3, <, 0,...\n",
       "2       [점, `, (, 1, ,, 2, ), `, 지나, 중심, 직선, `, x, -, ...\n",
       "3       [`, x, `,, `, y, `, 정수일, 때, ,, 방정식, `, xy, +, ...\n",
       "4       [평행이동, `, (, x, ,, y, ), ->, (, x, +, 2, ,, y,...\n",
       "                              ...                        \n",
       "5359    [두, 사건, `, A, `,, `, B, `, 대하, `, P, (, A, uu,...\n",
       "5360    [집합, `, X, =, {, 1, ,, 2, ,, 3, ,, 4, ,, 5, },...\n",
       "5361    [실수, 전체, 집합, 정의된, 함수, `, f, (, x, ), `, 다음, 조건...\n",
       "5362    [실수, `, x, `, 대, 두, 조건, `, p, `,, `, q, `, 다음,...\n",
       "5363    [같, 종류, 비어, 있, 상자, `, 3, `, 개, 있, ., 같, 종류, 장난...\n",
       "Name: text, Length: 5364, dtype: object"
      ]
     },
     "execution_count": 52,
     "metadata": {},
     "output_type": "execute_result"
    }
   ],
   "source": [
    "df['text'] = df['text'].apply(text_to_list)\n",
    "df['text']"
   ]
  },
  {
   "cell_type": "code",
   "execution_count": 53,
   "metadata": {},
   "outputs": [
    {
     "data": {
      "text/plain": [
       "0       H1S1-08\n",
       "1       H1S1-08\n",
       "2       H1S1-11\n",
       "3       H1S1-07\n",
       "4       H1S1-12\n",
       "         ...   \n",
       "5359    HSTA-03\n",
       "5360    H1S2-07\n",
       "5361    H1S2-04\n",
       "5362    H1S2-03\n",
       "5363    H1S2-07\n",
       "Name: chapter, Length: 5364, dtype: object"
      ]
     },
     "execution_count": 53,
     "metadata": {},
     "output_type": "execute_result"
    }
   ],
   "source": [
    "# Make chapter with qtid\n",
    "df['chapter'] = 0\n",
    "df['chapter'] = df['qtid'].apply(lambda x: re.sub('-[0-9]{2}$', '', x))\n",
    "df['chapter']"
   ]
  },
  {
   "cell_type": "markdown",
   "metadata": {},
   "source": [
    "### Word2vec 적용"
   ]
  },
  {
   "cell_type": "code",
   "execution_count": 75,
   "metadata": {},
   "outputs": [],
   "source": [
    "tokens = df['text']\n",
    "v_dimension = 500\n",
    "v_window = 50\n",
    "\n",
    "model = Word2Vec(sentences = tokens.tolist(), \n",
    "                 size = v_dimension, \n",
    "                 window = v_window, \n",
    "                 min_count = 2, \n",
    "                 workers = 4, \n",
    "                 sg = 0)"
   ]
  },
  {
   "cell_type": "code",
   "execution_count": 76,
   "metadata": {},
   "outputs": [],
   "source": [
    "# Get question vectors without normalization\n",
    "\n",
    "def all_question_embedding(df_tokens):\n",
    "    vectors = []\n",
    "    for tokens in df_tokens:\n",
    "        init_v = np.array([0.0]*v_dimension)  # Set empty array\n",
    "        for token in tokens:\n",
    "            word_vectors = model.wv  # Get word2vec model dictionary\n",
    "            if token in word_vectors.vocab: # Add word to question vector if word is in w2v model dictionary\n",
    "                v = model.wv[token]\n",
    "                init_v = init_v + v\n",
    "        vectors.append(init_v)\n",
    "\n",
    "    frame = {'chapter': df['chapter'].tolist(), 'vector': vectors }\n",
    "    result = pd.DataFrame(frame)\n",
    "    return result"
   ]
  },
  {
   "cell_type": "code",
   "execution_count": 77,
   "metadata": {},
   "outputs": [],
   "source": [
    "# \n",
    "\n",
    "def single_question_embedding(tokens):\n",
    "    # Vectorization with word2vec\n",
    "    init_v = np.array([0.0]*v_dimension)\n",
    "    for word in tokens:\n",
    "        word_vectors = model.wv\n",
    "        if word in word_vectors.vocab:\n",
    "            v = model.wv[word]\n",
    "            init_v = init_v + v\n",
    "    return init_v"
   ]
  },
  {
   "cell_type": "code",
   "execution_count": 78,
   "metadata": {},
   "outputs": [],
   "source": [
    "# Make mid-chapter vectors adding sentence vectors\n",
    "\n",
    "def chapter_embedding(df):\n",
    "    chapter_list = []\n",
    "    vector_list = []\n",
    "    for chapter in df['chapter'].unique():\n",
    "        temp = df.loc[df['chapter'] == chapter]\n",
    "        add_v = np.array([0.0]*v_dimension)\n",
    "        for vec in temp['vector']:\n",
    "            add_v = add_v + vec\n",
    "        chapter_list.append(chapter)\n",
    "        vector_list.append(add_v)\n",
    "        \n",
    "    frame = {'chapter': chapter_list, 'vector': vector_list }\n",
    "    result = pd.DataFrame(frame)\n",
    "    \n",
    "    return result"
   ]
  },
  {
   "cell_type": "code",
   "execution_count": 79,
   "metadata": {},
   "outputs": [
    {
     "data": {
      "text/html": [
       "<div>\n",
       "<style scoped>\n",
       "    .dataframe tbody tr th:only-of-type {\n",
       "        vertical-align: middle;\n",
       "    }\n",
       "\n",
       "    .dataframe tbody tr th {\n",
       "        vertical-align: top;\n",
       "    }\n",
       "\n",
       "    .dataframe thead th {\n",
       "        text-align: right;\n",
       "    }\n",
       "</style>\n",
       "<table border=\"1\" class=\"dataframe\">\n",
       "  <thead>\n",
       "    <tr style=\"text-align: right;\">\n",
       "      <th></th>\n",
       "      <th>chapter</th>\n",
       "      <th>vector</th>\n",
       "    </tr>\n",
       "  </thead>\n",
       "  <tbody>\n",
       "    <tr>\n",
       "      <th>0</th>\n",
       "      <td>H1S1-08</td>\n",
       "      <td>[-40.01940703764558, -7.339770053979009, -15.3...</td>\n",
       "    </tr>\n",
       "    <tr>\n",
       "      <th>1</th>\n",
       "      <td>H1S1-08</td>\n",
       "      <td>[-21.170333474874496, -4.7475149761885405, -9....</td>\n",
       "    </tr>\n",
       "    <tr>\n",
       "      <th>2</th>\n",
       "      <td>H1S1-11</td>\n",
       "      <td>[-26.97206992097199, -13.806408300995827, -7.4...</td>\n",
       "    </tr>\n",
       "    <tr>\n",
       "      <th>3</th>\n",
       "      <td>H1S1-07</td>\n",
       "      <td>[-26.23356848023832, -9.24483785033226, -9.552...</td>\n",
       "    </tr>\n",
       "    <tr>\n",
       "      <th>4</th>\n",
       "      <td>H1S1-12</td>\n",
       "      <td>[-54.815728230401874, -11.069866370409727, -18...</td>\n",
       "    </tr>\n",
       "    <tr>\n",
       "      <th>...</th>\n",
       "      <td>...</td>\n",
       "      <td>...</td>\n",
       "    </tr>\n",
       "    <tr>\n",
       "      <th>5359</th>\n",
       "      <td>HSTA-03</td>\n",
       "      <td>[-44.88021703064442, -6.145475876517594, -12.5...</td>\n",
       "    </tr>\n",
       "    <tr>\n",
       "      <th>5360</th>\n",
       "      <td>H1S2-07</td>\n",
       "      <td>[-53.60716703440994, -17.968863031826913, -29....</td>\n",
       "    </tr>\n",
       "    <tr>\n",
       "      <th>5361</th>\n",
       "      <td>H1S2-04</td>\n",
       "      <td>[-232.08759104227647, -50.72354426421225, -96....</td>\n",
       "    </tr>\n",
       "    <tr>\n",
       "      <th>5362</th>\n",
       "      <td>H1S2-03</td>\n",
       "      <td>[-56.04652937268838, -11.016352257225662, -22....</td>\n",
       "    </tr>\n",
       "    <tr>\n",
       "      <th>5363</th>\n",
       "      <td>H1S2-07</td>\n",
       "      <td>[10.152037099469453, -8.136018136749044, 4.706...</td>\n",
       "    </tr>\n",
       "  </tbody>\n",
       "</table>\n",
       "<p>5364 rows × 2 columns</p>\n",
       "</div>"
      ],
      "text/plain": [
       "      chapter                                             vector\n",
       "0     H1S1-08  [-40.01940703764558, -7.339770053979009, -15.3...\n",
       "1     H1S1-08  [-21.170333474874496, -4.7475149761885405, -9....\n",
       "2     H1S1-11  [-26.97206992097199, -13.806408300995827, -7.4...\n",
       "3     H1S1-07  [-26.23356848023832, -9.24483785033226, -9.552...\n",
       "4     H1S1-12  [-54.815728230401874, -11.069866370409727, -18...\n",
       "...       ...                                                ...\n",
       "5359  HSTA-03  [-44.88021703064442, -6.145475876517594, -12.5...\n",
       "5360  H1S2-07  [-53.60716703440994, -17.968863031826913, -29....\n",
       "5361  H1S2-04  [-232.08759104227647, -50.72354426421225, -96....\n",
       "5362  H1S2-03  [-56.04652937268838, -11.016352257225662, -22....\n",
       "5363  H1S2-07  [10.152037099469453, -8.136018136749044, 4.706...\n",
       "\n",
       "[5364 rows x 2 columns]"
      ]
     },
     "execution_count": 79,
     "metadata": {},
     "output_type": "execute_result"
    }
   ],
   "source": [
    "all_question_embedded = all_question_embedding(tokens)\n",
    "all_question_embedded"
   ]
  },
  {
   "cell_type": "code",
   "execution_count": 80,
   "metadata": {},
   "outputs": [
    {
     "data": {
      "text/html": [
       "<div>\n",
       "<style scoped>\n",
       "    .dataframe tbody tr th:only-of-type {\n",
       "        vertical-align: middle;\n",
       "    }\n",
       "\n",
       "    .dataframe tbody tr th {\n",
       "        vertical-align: top;\n",
       "    }\n",
       "\n",
       "    .dataframe thead th {\n",
       "        text-align: right;\n",
       "    }\n",
       "</style>\n",
       "<table border=\"1\" class=\"dataframe\">\n",
       "  <thead>\n",
       "    <tr style=\"text-align: right;\">\n",
       "      <th></th>\n",
       "      <th>chapter</th>\n",
       "      <th>vector</th>\n",
       "    </tr>\n",
       "  </thead>\n",
       "  <tbody>\n",
       "    <tr>\n",
       "      <th>0</th>\n",
       "      <td>H1S1-08</td>\n",
       "      <td>[-7484.95755327685, -1482.4981939341233, -3017...</td>\n",
       "    </tr>\n",
       "    <tr>\n",
       "      <th>1</th>\n",
       "      <td>H1S1-11</td>\n",
       "      <td>[-5304.818932564667, -1741.5109325184021, -145...</td>\n",
       "    </tr>\n",
       "  </tbody>\n",
       "</table>\n",
       "</div>"
      ],
      "text/plain": [
       "   chapter                                             vector\n",
       "0  H1S1-08  [-7484.95755327685, -1482.4981939341233, -3017...\n",
       "1  H1S1-11  [-5304.818932564667, -1741.5109325184021, -145..."
      ]
     },
     "execution_count": 80,
     "metadata": {},
     "output_type": "execute_result"
    }
   ],
   "source": [
    "chapter_embedded = chapter_embedding(all_question_embedded)\n",
    "chapter_embedded.head(2)"
   ]
  },
  {
   "cell_type": "code",
   "execution_count": 81,
   "metadata": {},
   "outputs": [],
   "source": [
    "def calculate_cosinesim(question):\n",
    "    temp = single_question_embedding(question)\n",
    "    result = []\n",
    "    # Calculate cosine simmilarity between question and every chapters\n",
    "    for chapter_vector in chapter_embedded['vector']:\n",
    "        cosine = 1 - distance.cosine(chapter_vector, temp)\n",
    "        result.append(cosine)\n",
    "    # Make output dataframe\n",
    "    df = pd.DataFrame(data=np.zeros([len(chapter_embedded),2]), columns=['chapter', 'result'])\n",
    "    df['chapter'] = chapter_embedded['chapter']\n",
    "    df['result'] = result\n",
    "\n",
    "    df.sort_values('result', ascending=False, inplace=True)\n",
    "    return df"
   ]
  },
  {
   "cell_type": "code",
   "execution_count": 82,
   "metadata": {},
   "outputs": [
    {
     "data": {
      "text/html": [
       "<div>\n",
       "<style scoped>\n",
       "    .dataframe tbody tr th:only-of-type {\n",
       "        vertical-align: middle;\n",
       "    }\n",
       "\n",
       "    .dataframe tbody tr th {\n",
       "        vertical-align: top;\n",
       "    }\n",
       "\n",
       "    .dataframe thead th {\n",
       "        text-align: right;\n",
       "    }\n",
       "</style>\n",
       "<table border=\"1\" class=\"dataframe\">\n",
       "  <thead>\n",
       "    <tr style=\"text-align: right;\">\n",
       "      <th></th>\n",
       "      <th>chapter</th>\n",
       "      <th>result</th>\n",
       "    </tr>\n",
       "  </thead>\n",
       "  <tbody>\n",
       "    <tr>\n",
       "      <th>2</th>\n",
       "      <td>H1S1-07</td>\n",
       "      <td>0.891501</td>\n",
       "    </tr>\n",
       "    <tr>\n",
       "      <th>9</th>\n",
       "      <td>H1S1-05</td>\n",
       "      <td>0.887569</td>\n",
       "    </tr>\n",
       "    <tr>\n",
       "      <th>0</th>\n",
       "      <td>H1S1-08</td>\n",
       "      <td>0.874019</td>\n",
       "    </tr>\n",
       "  </tbody>\n",
       "</table>\n",
       "</div>"
      ],
      "text/plain": [
       "   chapter    result\n",
       "2  H1S1-07  0.891501\n",
       "9  H1S1-05  0.887569\n",
       "0  H1S1-08  0.874019"
      ]
     },
     "execution_count": 82,
     "metadata": {},
     "output_type": "execute_result"
    }
   ],
   "source": [
    "calculate_cosinesim(df.loc[7, 'text']).head(3)"
   ]
  },
  {
   "cell_type": "markdown",
   "metadata": {},
   "source": [
    "### Model apply"
   ]
  },
  {
   "cell_type": "code",
   "execution_count": 83,
   "metadata": {},
   "outputs": [
    {
     "name": "stderr",
     "output_type": "stream",
     "text": [
      "100%|██████████| 5364/5364 [00:15<00:00, 356.21it/s]\n"
     ]
    },
    {
     "data": {
      "text/html": [
       "<div>\n",
       "<style scoped>\n",
       "    .dataframe tbody tr th:only-of-type {\n",
       "        vertical-align: middle;\n",
       "    }\n",
       "\n",
       "    .dataframe tbody tr th {\n",
       "        vertical-align: top;\n",
       "    }\n",
       "\n",
       "    .dataframe thead th {\n",
       "        text-align: right;\n",
       "    }\n",
       "</style>\n",
       "<table border=\"1\" class=\"dataframe\">\n",
       "  <thead>\n",
       "    <tr style=\"text-align: right;\">\n",
       "      <th></th>\n",
       "      <th>pred_chapter</th>\n",
       "      <th>pred_similarity</th>\n",
       "    </tr>\n",
       "  </thead>\n",
       "  <tbody>\n",
       "    <tr>\n",
       "      <th>0</th>\n",
       "      <td>H1S1-08</td>\n",
       "      <td>0.974793</td>\n",
       "    </tr>\n",
       "    <tr>\n",
       "      <th>1</th>\n",
       "      <td>H1S1-08</td>\n",
       "      <td>0.892236</td>\n",
       "    </tr>\n",
       "    <tr>\n",
       "      <th>2</th>\n",
       "      <td>H1S1-12</td>\n",
       "      <td>0.964719</td>\n",
       "    </tr>\n",
       "    <tr>\n",
       "      <th>3</th>\n",
       "      <td>H1S1-06</td>\n",
       "      <td>0.958946</td>\n",
       "    </tr>\n",
       "    <tr>\n",
       "      <th>4</th>\n",
       "      <td>H1S1-06</td>\n",
       "      <td>0.952798</td>\n",
       "    </tr>\n",
       "    <tr>\n",
       "      <th>5</th>\n",
       "      <td>H1S1-10</td>\n",
       "      <td>0.971247</td>\n",
       "    </tr>\n",
       "    <tr>\n",
       "      <th>6</th>\n",
       "      <td>H1S1-09</td>\n",
       "      <td>0.949506</td>\n",
       "    </tr>\n",
       "    <tr>\n",
       "      <th>7</th>\n",
       "      <td>H1S1-07</td>\n",
       "      <td>0.891501</td>\n",
       "    </tr>\n",
       "    <tr>\n",
       "      <th>8</th>\n",
       "      <td>H1S1-08</td>\n",
       "      <td>0.956248</td>\n",
       "    </tr>\n",
       "    <tr>\n",
       "      <th>9</th>\n",
       "      <td>H1S1-09</td>\n",
       "      <td>0.946204</td>\n",
       "    </tr>\n",
       "  </tbody>\n",
       "</table>\n",
       "</div>"
      ],
      "text/plain": [
       "  pred_chapter  pred_similarity\n",
       "0      H1S1-08         0.974793\n",
       "1      H1S1-08         0.892236\n",
       "2      H1S1-12         0.964719\n",
       "3      H1S1-06         0.958946\n",
       "4      H1S1-06         0.952798\n",
       "5      H1S1-10         0.971247\n",
       "6      H1S1-09         0.949506\n",
       "7      H1S1-07         0.891501\n",
       "8      H1S1-08         0.956248\n",
       "9      H1S1-09         0.946204"
      ]
     },
     "execution_count": 83,
     "metadata": {},
     "output_type": "execute_result"
    }
   ],
   "source": [
    "# Apply function to whole dataset\n",
    "\n",
    "chapter_list = []\n",
    "cosine_list = []\n",
    "for i in tqdm(range(len(df))):\n",
    "    result = calculate_cosinesim(df.loc[i, 'text'])\n",
    "    result = result.sort_values(by='result', ascending=False).reset_index(drop=True)\n",
    "    chapter = result['chapter'][0] # Get the most similar chapter with question\n",
    "    cosine = result['result'][0]\n",
    "    chapter_list.append(chapter)\n",
    "    cosine_list.append(cosine)\n",
    "    \n",
    "# Concatenate predict result with dataframe\n",
    "pred = pd.DataFrame(list(zip(chapter_list, cosine_list)), columns = ['pred_chapter', 'pred_similarity'])\n",
    "pred.head(10)"
   ]
  },
  {
   "cell_type": "markdown",
   "metadata": {},
   "source": [
    "### Evaluation"
   ]
  },
  {
   "cell_type": "code",
   "execution_count": 84,
   "metadata": {},
   "outputs": [
    {
     "name": "stdout",
     "output_type": "stream",
     "text": [
      "0.39858314690529456\n"
     ]
    }
   ],
   "source": [
    "# Evaluate predict score with accuracy\n",
    "\n",
    "from sklearn.metrics import accuracy_score\n",
    "score = accuracy_score(df['chapter'], pred['pred_chapter'])\n",
    "print(score)"
   ]
  },
  {
   "cell_type": "code",
   "execution_count": 85,
   "metadata": {},
   "outputs": [
    {
     "data": {
      "text/html": [
       "<div>\n",
       "<style scoped>\n",
       "    .dataframe tbody tr th:only-of-type {\n",
       "        vertical-align: middle;\n",
       "    }\n",
       "\n",
       "    .dataframe tbody tr th {\n",
       "        vertical-align: top;\n",
       "    }\n",
       "\n",
       "    .dataframe thead th {\n",
       "        text-align: right;\n",
       "    }\n",
       "</style>\n",
       "<table border=\"1\" class=\"dataframe\">\n",
       "  <thead>\n",
       "    <tr style=\"text-align: right;\">\n",
       "      <th></th>\n",
       "      <th>chapter</th>\n",
       "      <th>pred_chapter</th>\n",
       "      <th>pred_similarity</th>\n",
       "    </tr>\n",
       "  </thead>\n",
       "  <tbody>\n",
       "    <tr>\n",
       "      <th>0</th>\n",
       "      <td>H1S1-08</td>\n",
       "      <td>H1S1-08</td>\n",
       "      <td>0.974793</td>\n",
       "    </tr>\n",
       "    <tr>\n",
       "      <th>1</th>\n",
       "      <td>H1S1-08</td>\n",
       "      <td>H1S1-08</td>\n",
       "      <td>0.892236</td>\n",
       "    </tr>\n",
       "    <tr>\n",
       "      <th>2</th>\n",
       "      <td>H1S1-11</td>\n",
       "      <td>H1S1-12</td>\n",
       "      <td>0.964719</td>\n",
       "    </tr>\n",
       "    <tr>\n",
       "      <th>3</th>\n",
       "      <td>H1S1-07</td>\n",
       "      <td>H1S1-06</td>\n",
       "      <td>0.958946</td>\n",
       "    </tr>\n",
       "    <tr>\n",
       "      <th>4</th>\n",
       "      <td>H1S1-12</td>\n",
       "      <td>H1S1-06</td>\n",
       "      <td>0.952798</td>\n",
       "    </tr>\n",
       "    <tr>\n",
       "      <th>5</th>\n",
       "      <td>H1S1-10</td>\n",
       "      <td>H1S1-10</td>\n",
       "      <td>0.971247</td>\n",
       "    </tr>\n",
       "    <tr>\n",
       "      <th>6</th>\n",
       "      <td>H1S1-09</td>\n",
       "      <td>H1S1-09</td>\n",
       "      <td>0.949506</td>\n",
       "    </tr>\n",
       "    <tr>\n",
       "      <th>7</th>\n",
       "      <td>H1S1-03</td>\n",
       "      <td>H1S1-07</td>\n",
       "      <td>0.891501</td>\n",
       "    </tr>\n",
       "    <tr>\n",
       "      <th>8</th>\n",
       "      <td>H1S1-08</td>\n",
       "      <td>H1S1-08</td>\n",
       "      <td>0.956248</td>\n",
       "    </tr>\n",
       "    <tr>\n",
       "      <th>9</th>\n",
       "      <td>H1S1-11</td>\n",
       "      <td>H1S1-09</td>\n",
       "      <td>0.946204</td>\n",
       "    </tr>\n",
       "  </tbody>\n",
       "</table>\n",
       "</div>"
      ],
      "text/plain": [
       "   chapter pred_chapter  pred_similarity\n",
       "0  H1S1-08      H1S1-08         0.974793\n",
       "1  H1S1-08      H1S1-08         0.892236\n",
       "2  H1S1-11      H1S1-12         0.964719\n",
       "3  H1S1-07      H1S1-06         0.958946\n",
       "4  H1S1-12      H1S1-06         0.952798\n",
       "5  H1S1-10      H1S1-10         0.971247\n",
       "6  H1S1-09      H1S1-09         0.949506\n",
       "7  H1S1-03      H1S1-07         0.891501\n",
       "8  H1S1-08      H1S1-08         0.956248\n",
       "9  H1S1-11      H1S1-09         0.946204"
      ]
     },
     "execution_count": 85,
     "metadata": {},
     "output_type": "execute_result"
    }
   ],
   "source": [
    "pd.concat([df['chapter'], pred], axis=1).head(10)"
   ]
  },
  {
   "cell_type": "markdown",
   "metadata": {},
   "source": [
    "정확도는 0.4 정도로 떨어지는 편이지만, 중단원 이전에 어떤 과정인지는 거의 대부분 맞추고 있으며,  \n",
    "중단원을 틀린 경우도 한두단원 전후의 비슷한 중단원을 예측하고 있음.  \n",
    "한두단원 차이를 좀 더 정확하게 예측할 수 있게 하는 작업이 좀 더 필요할 듯 보임."
   ]
  },
  {
   "cell_type": "code",
   "execution_count": null,
   "metadata": {},
   "outputs": [],
   "source": []
  }
 ],
 "metadata": {
  "kernelspec": {
   "display_name": "Python 3",
   "language": "python",
   "name": "python3"
  },
  "language_info": {
   "codemirror_mode": {
    "name": "ipython",
    "version": 3
   },
   "file_extension": ".py",
   "mimetype": "text/x-python",
   "name": "python",
   "nbconvert_exporter": "python",
   "pygments_lexer": "ipython3",
   "version": "3.7.4"
  },
  "toc": {
   "base_numbering": 1,
   "nav_menu": {},
   "number_sections": false,
   "sideBar": true,
   "skip_h1_title": false,
   "title_cell": "Table of Contents",
   "title_sidebar": "Contents",
   "toc_cell": false,
   "toc_position": {},
   "toc_section_display": true,
   "toc_window_display": false
  }
 },
 "nbformat": 4,
 "nbformat_minor": 4
}
